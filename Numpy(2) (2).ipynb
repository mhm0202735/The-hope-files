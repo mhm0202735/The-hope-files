{
  "nbformat": 4,
  "nbformat_minor": 0,
  "metadata": {
    "colab": {
      "provenance": [],
      "collapsed_sections": [
        "qEy-n8jzJpsb",
        "kTBHDPI0SALv",
        "s-yaKlbfVv-D",
        "BGhE9a-_6tix",
        "dQn1-beYdlvo",
        "eBfmKNFFUQCO",
        "Miv_rzV_NfRa",
        "C7jfXYEreqSY",
        "npydgntFw3lg"
      ]
    },
    "kernelspec": {
      "name": "python3",
      "display_name": "Python 3"
    },
    "language_info": {
      "name": "python"
    }
  },
  "cells": [
    {
      "cell_type": "markdown",
      "source": [
        "**NumPy**"
      ],
      "metadata": {
        "id": "F-jbttI9S15A"
      }
    },
    {
      "cell_type": "markdown",
      "source": [
        "# Create ndarray"
      ],
      "metadata": {
        "id": "qEy-n8jzJpsb"
      }
    },
    {
      "cell_type": "code",
      "execution_count": 1,
      "metadata": {
        "id": "XP8xpI6NYEFD"
      },
      "outputs": [],
      "source": [
        "import numpy as np"
      ]
    },
    {
      "cell_type": "code",
      "source": [
        "# Create 0D ndarray by pass list\n",
        "arr0d = np.array([5])"
      ],
      "metadata": {
        "id": "cnXxMvM-SmdX"
      },
      "execution_count": 2,
      "outputs": []
    },
    {
      "cell_type": "code",
      "source": [
        "arr0d"
      ],
      "metadata": {
        "id": "AF-EEC8RKAtx",
        "colab": {
          "base_uri": "https://localhost:8080/"
        },
        "outputId": "582c2f77-ea11-4813-eb09-7cf73892356d"
      },
      "execution_count": 3,
      "outputs": [
        {
          "output_type": "execute_result",
          "data": {
            "text/plain": [
              "array([5])"
            ]
          },
          "metadata": {},
          "execution_count": 3
        }
      ]
    },
    {
      "cell_type": "code",
      "source": [
        "arr0d.dtype"
      ],
      "metadata": {
        "id": "bzJk3pajKAqG",
        "colab": {
          "base_uri": "https://localhost:8080/"
        },
        "outputId": "c9875cb4-03a1-4cbf-eb2f-f9fc527a5d2c"
      },
      "execution_count": 4,
      "outputs": [
        {
          "output_type": "execute_result",
          "data": {
            "text/plain": [
              "dtype('int64')"
            ]
          },
          "metadata": {},
          "execution_count": 4
        }
      ]
    },
    {
      "cell_type": "code",
      "source": [
        "# Create 1D array\n",
        "arr1d = np.array([1,2,3,4,5])"
      ],
      "metadata": {
        "id": "sHzYBDW2KAnN"
      },
      "execution_count": 5,
      "outputs": []
    },
    {
      "cell_type": "code",
      "source": [
        "[1,2,3,4,5]"
      ],
      "metadata": {
        "id": "PZ2aRbjN9eio",
        "colab": {
          "base_uri": "https://localhost:8080/"
        },
        "outputId": "1c03d739-c1aa-4f91-bae4-e0e7add60cfd"
      },
      "execution_count": 6,
      "outputs": [
        {
          "output_type": "execute_result",
          "data": {
            "text/plain": [
              "[1, 2, 3, 4, 5]"
            ]
          },
          "metadata": {},
          "execution_count": 6
        }
      ]
    },
    {
      "cell_type": "code",
      "source": [
        "print(arr1d)\n",
        "print(arr1d.dtype)"
      ],
      "metadata": {
        "id": "2iP3e67bKakF",
        "colab": {
          "base_uri": "https://localhost:8080/"
        },
        "outputId": "f76042f2-8d63-42fe-eef3-3b2aaa437c84"
      },
      "execution_count": 7,
      "outputs": [
        {
          "output_type": "stream",
          "name": "stdout",
          "text": [
            "[1 2 3 4 5]\n",
            "int64\n"
          ]
        }
      ]
    },
    {
      "cell_type": "code",
      "source": [
        "arr1d = np.array([1,2,3,4,5.0])"
      ],
      "metadata": {
        "id": "mLp_AN3iKZtz"
      },
      "execution_count": 8,
      "outputs": []
    },
    {
      "cell_type": "code",
      "source": [
        "print(arr1d)\n",
        "print(arr1d.dtype)"
      ],
      "metadata": {
        "id": "ZO4Ro91qKj6Q",
        "colab": {
          "base_uri": "https://localhost:8080/"
        },
        "outputId": "db21debb-ee4f-433d-baae-9dea69e526f0"
      },
      "execution_count": 9,
      "outputs": [
        {
          "output_type": "stream",
          "name": "stdout",
          "text": [
            "[1. 2. 3. 4. 5.]\n",
            "float64\n"
          ]
        }
      ]
    },
    {
      "cell_type": "code",
      "source": [
        "arr1d = np.array([1,2,3,\"4\",5.0])"
      ],
      "metadata": {
        "id": "N-fXZ46mKj20"
      },
      "execution_count": 10,
      "outputs": []
    },
    {
      "cell_type": "code",
      "source": [
        "print(arr1d)\n",
        "print(arr1d.dtype)"
      ],
      "metadata": {
        "id": "TdE3jDE0Kj1G",
        "colab": {
          "base_uri": "https://localhost:8080/"
        },
        "outputId": "d346a75b-9310-486b-cfc2-508ece382cd3"
      },
      "execution_count": 11,
      "outputs": [
        {
          "output_type": "stream",
          "name": "stdout",
          "text": [
            "['1' '2' '3' '4' '5.0']\n",
            "<U32\n"
          ]
        }
      ]
    },
    {
      "cell_type": "code",
      "source": [
        "np.array([1,2,3,\"4\",5.0], dtype=np.int16)"
      ],
      "metadata": {
        "id": "9BXARvLEZiMY",
        "colab": {
          "base_uri": "https://localhost:8080/"
        },
        "outputId": "ef6a5758-8f8c-4451-e2d2-40be8348ada7"
      },
      "execution_count": 12,
      "outputs": [
        {
          "output_type": "execute_result",
          "data": {
            "text/plain": [
              "array([1, 2, 3, 4, 5], dtype=int16)"
            ]
          },
          "metadata": {},
          "execution_count": 12
        }
      ]
    },
    {
      "cell_type": "code",
      "source": [
        "np.array([1,2,3,\"4\",\"5.0\"], dtype=np.int16)"
      ],
      "metadata": {
        "id": "6dFuypT0-Mn2",
        "colab": {
          "base_uri": "https://localhost:8080/",
          "height": 180
        },
        "outputId": "d26be2ea-3894-40b1-cdde-92bb1d08d8b5"
      },
      "execution_count": 13,
      "outputs": [
        {
          "output_type": "error",
          "ename": "ValueError",
          "evalue": "ignored",
          "traceback": [
            "\u001b[0;31m---------------------------------------------------------------------------\u001b[0m",
            "\u001b[0;31mValueError\u001b[0m                                Traceback (most recent call last)",
            "\u001b[0;32m<ipython-input-13-58f856726276>\u001b[0m in \u001b[0;36m<cell line: 1>\u001b[0;34m()\u001b[0m\n\u001b[0;32m----> 1\u001b[0;31m \u001b[0mnp\u001b[0m\u001b[0;34m.\u001b[0m\u001b[0marray\u001b[0m\u001b[0;34m(\u001b[0m\u001b[0;34m[\u001b[0m\u001b[0;36m1\u001b[0m\u001b[0;34m,\u001b[0m\u001b[0;36m2\u001b[0m\u001b[0;34m,\u001b[0m\u001b[0;36m3\u001b[0m\u001b[0;34m,\u001b[0m\u001b[0;34m\"4\"\u001b[0m\u001b[0;34m,\u001b[0m\u001b[0;34m\"5.0\"\u001b[0m\u001b[0;34m]\u001b[0m\u001b[0;34m,\u001b[0m \u001b[0mdtype\u001b[0m\u001b[0;34m=\u001b[0m\u001b[0mnp\u001b[0m\u001b[0;34m.\u001b[0m\u001b[0mint16\u001b[0m\u001b[0;34m)\u001b[0m\u001b[0;34m\u001b[0m\u001b[0;34m\u001b[0m\u001b[0m\n\u001b[0m",
            "\u001b[0;31mValueError\u001b[0m: invalid literal for int() with base 10: '5.0'"
          ]
        }
      ]
    },
    {
      "cell_type": "code",
      "source": [
        "np.array([1,2,3,\"4\",\"5.0\"], dtype=np.float16)"
      ],
      "metadata": {
        "colab": {
          "base_uri": "https://localhost:8080/"
        },
        "id": "uAJ8clVFDmXR",
        "outputId": "3af6371c-084e-429d-b7a2-efc8fcd0e2db"
      },
      "execution_count": 14,
      "outputs": [
        {
          "output_type": "execute_result",
          "data": {
            "text/plain": [
              "array([1., 2., 3., 4., 5.], dtype=float16)"
            ]
          },
          "metadata": {},
          "execution_count": 14
        }
      ]
    },
    {
      "cell_type": "code",
      "source": [
        "# Create 2D ndarray with data type\n",
        "\n",
        "arr2d = np.array( [ [0,1,2,3,4], [5,6,7,8,9] ] )"
      ],
      "metadata": {
        "id": "IA233fPVKjy_"
      },
      "execution_count": 15,
      "outputs": []
    },
    {
      "cell_type": "code",
      "source": [
        "print(arr2d)\n",
        "print(arr2d.dtype)"
      ],
      "metadata": {
        "id": "O-LpL-sAKjse",
        "colab": {
          "base_uri": "https://localhost:8080/"
        },
        "outputId": "d98a25f6-340e-47ab-ecce-f6f21fd99ed4"
      },
      "execution_count": 16,
      "outputs": [
        {
          "output_type": "stream",
          "name": "stdout",
          "text": [
            "[[0 1 2 3 4]\n",
            " [5 6 7 8 9]]\n",
            "int64\n"
          ]
        }
      ]
    },
    {
      "cell_type": "code",
      "source": [
        "arr2d = np.array([[0,1,2,3,4,], [5,6,7,8,9]], dtype = 'i1') # np.int8,  np.int64 np.intc\n",
        "print(\"data type : \" , arr2d.dtype)\n",
        "print(\"array : \", arr2d)"
      ],
      "metadata": {
        "id": "sy5e_GPLL5Zr",
        "colab": {
          "base_uri": "https://localhost:8080/"
        },
        "outputId": "62379c2d-a1d1-4513-de52-46ba4b949796"
      },
      "execution_count": 17,
      "outputs": [
        {
          "output_type": "stream",
          "name": "stdout",
          "text": [
            "data type :  int8\n",
            "array :  [[0 1 2 3 4]\n",
            " [5 6 7 8 9]]\n"
          ]
        }
      ]
    },
    {
      "cell_type": "code",
      "source": [
        "# -128  -> 127   int8\n",
        "\n",
        "\n",
        "#  -130 | -128 -127 -126 -125 -124 ... 0 ... 123 124 125  126    127 | 128\n",
        "\n",
        "arr2d = np.array([[0,1,2,3,4,], [1000,-130,130, -128 , 127]], dtype = 'i1')\n",
        "print(\"data type : \" , arr2d.dtype)\n",
        "print(\"array : \", arr2d)"
      ],
      "metadata": {
        "id": "ULAxS0rsqtkY",
        "colab": {
          "base_uri": "https://localhost:8080/"
        },
        "outputId": "12f0d4be-c627-43cc-cdaf-798bfdf31d54"
      },
      "execution_count": 25,
      "outputs": [
        {
          "output_type": "stream",
          "name": "stdout",
          "text": [
            "data type :  int8\n",
            "array :  [[   0    1    2    3    4]\n",
            " [ -24  126 -126 -128  127]]\n"
          ]
        }
      ]
    },
    {
      "cell_type": "code",
      "source": [
        "1000%128"
      ],
      "metadata": {
        "id": "PP7cr33cbtVs",
        "colab": {
          "base_uri": "https://localhost:8080/"
        },
        "outputId": "836b44be-e7cd-4b1c-d0d5-087ca3287222"
      },
      "execution_count": 26,
      "outputs": [
        {
          "output_type": "execute_result",
          "data": {
            "text/plain": [
              "104"
            ]
          },
          "metadata": {},
          "execution_count": 26
        }
      ]
    },
    {
      "cell_type": "code",
      "source": [
        "-128+104"
      ],
      "metadata": {
        "id": "1jMgM7G6b0TH",
        "colab": {
          "base_uri": "https://localhost:8080/"
        },
        "outputId": "7104a267-bcb8-4d6e-ea0d-66825436704d"
      },
      "execution_count": 27,
      "outputs": [
        {
          "output_type": "execute_result",
          "data": {
            "text/plain": [
              "-24"
            ]
          },
          "metadata": {},
          "execution_count": 27
        }
      ]
    },
    {
      "cell_type": "code",
      "source": [
        "#  0 to 255"
      ],
      "metadata": {
        "id": "q7k7AeZ3VC2o"
      },
      "execution_count": null,
      "outputs": []
    },
    {
      "cell_type": "code",
      "source": [
        "# Unsigned Integer data-type\n",
        "\n",
        "arr2d = np.array([[0,1,2,3,4,], [5,6,7,8,9]], dtype = 'u1')\n",
        "print(\"data type : \" , arr2d.dtype)\n",
        "print(\"array : \", arr2d)"
      ],
      "metadata": {
        "id": "GH1k2EVuKjpA",
        "colab": {
          "base_uri": "https://localhost:8080/"
        },
        "outputId": "aa0a8285-d7bc-4a56-fcda-9fe4e208a077"
      },
      "execution_count": 28,
      "outputs": [
        {
          "output_type": "stream",
          "name": "stdout",
          "text": [
            "data type :  uint8\n",
            "array :  [[0 1 2 3 4]\n",
            " [5 6 7 8 9]]\n"
          ]
        }
      ]
    },
    {
      "cell_type": "code",
      "source": [
        "270%255"
      ],
      "metadata": {
        "id": "p1IaT-MqCkjq"
      },
      "execution_count": null,
      "outputs": []
    },
    {
      "cell_type": "code",
      "source": [
        "# 0 1 2 3 .... 255\n",
        "\n"
      ],
      "metadata": {
        "id": "YTE6g_C3CwM_"
      },
      "execution_count": null,
      "outputs": []
    },
    {
      "cell_type": "code",
      "source": [
        "arr2d = np.array([[0,1,2,3,4,], [5,6,7,-1,270]], dtype = 'u1') # 256, 260\n",
        "print(\"data type : \" , arr2d.dtype)\n",
        "print(\"array : \", arr2d)"
      ],
      "metadata": {
        "id": "5FS3b9iEKjmw",
        "colab": {
          "base_uri": "https://localhost:8080/"
        },
        "outputId": "637624dd-8618-441c-b97e-5a432dfe843a"
      },
      "execution_count": 29,
      "outputs": [
        {
          "output_type": "stream",
          "name": "stdout",
          "text": [
            "data type :  uint8\n",
            "array :  [[  0   1   2   3   4]\n",
            " [  5   6   7 255  14]]\n"
          ]
        }
      ]
    },
    {
      "cell_type": "code",
      "source": [
        "# What did you noticed ?????"
      ],
      "metadata": {
        "id": "ga17ee0aMn48"
      },
      "execution_count": null,
      "outputs": []
    },
    {
      "cell_type": "code",
      "source": [
        "# Convert data from Integer into String\n",
        "\n",
        "arr2d = np.array([[0,1,2,3,4,], [5,6,7,8,255]], dtype = 'U') # Unicode String\n",
        "print(\"data type : \" , arr2d.dtype)\n",
        "print(\"array : \", arr2d)"
      ],
      "metadata": {
        "id": "Mw-FD2NxMn1S",
        "colab": {
          "base_uri": "https://localhost:8080/"
        },
        "outputId": "f7986533-370b-424f-8564-fdcb6ebb554e"
      },
      "execution_count": 30,
      "outputs": [
        {
          "output_type": "stream",
          "name": "stdout",
          "text": [
            "data type :  <U3\n",
            "array :  [['0' '1' '2' '3' '4']\n",
            " ['5' '6' '7' '8' '255']]\n"
          ]
        }
      ]
    },
    {
      "cell_type": "code",
      "source": [
        "# Convert data from string into int16\n",
        "\n",
        "tempArr = np.array([\"10\", \"20\", \"30\", \"40\", \"50\"], dtype=np.int16)\n",
        "print(tempArr)\n",
        "print(tempArr.dtype)"
      ],
      "metadata": {
        "id": "2bw5aegSMnzP",
        "colab": {
          "base_uri": "https://localhost:8080/"
        },
        "outputId": "378d3ce8-be1c-4f7f-87f0-22aab965423f"
      },
      "execution_count": 31,
      "outputs": [
        {
          "output_type": "stream",
          "name": "stdout",
          "text": [
            "[10 20 30 40 50]\n",
            "int16\n"
          ]
        }
      ]
    },
    {
      "cell_type": "code",
      "source": [
        "# Convert data from string into float16\n",
        "\n",
        "tempArr = np.array([\"10\", \"20\", \"30\", \"40\", \"50\"], dtype='f2')\n",
        "print(tempArr)\n",
        "print(tempArr.dtype)"
      ],
      "metadata": {
        "id": "tLO14DMIMnxU",
        "colab": {
          "base_uri": "https://localhost:8080/"
        },
        "outputId": "c151c20b-b859-46de-9741-79aa38016338"
      },
      "execution_count": 32,
      "outputs": [
        {
          "output_type": "stream",
          "name": "stdout",
          "text": [
            "[10. 20. 30. 40. 50.]\n",
            "float16\n"
          ]
        }
      ]
    },
    {
      "cell_type": "code",
      "source": [
        "tempArr = np.array([\"10\", \"20\", \"30\", \"40\", \"50_0\"], dtype=np.uint16)\n",
        "print(tempArr)\n",
        "print(tempArr.dtype)"
      ],
      "metadata": {
        "id": "mVELDC1r3aMO",
        "colab": {
          "base_uri": "https://localhost:8080/"
        },
        "outputId": "70db6d66-68ed-41e5-d5f7-4108a53e805b"
      },
      "execution_count": 33,
      "outputs": [
        {
          "output_type": "stream",
          "name": "stdout",
          "text": [
            "[ 10  20  30  40 500]\n",
            "uint16\n"
          ]
        }
      ]
    },
    {
      "cell_type": "code",
      "source": [
        "# #Convert from string into unsigned integer\n",
        "\n",
        "tempArr = np.array([\"10\", \"20\", \"30\", \"40\", \"50_w\"], dtype=np.uint16)\n",
        "print(tempArr)\n",
        "print(tempArr.dtype)"
      ],
      "metadata": {
        "id": "HNAA2B5_Kjkf",
        "colab": {
          "base_uri": "https://localhost:8080/",
          "height": 251
        },
        "outputId": "9448d41d-0987-4883-9ee4-0ff7037aeef2"
      },
      "execution_count": 34,
      "outputs": [
        {
          "output_type": "error",
          "ename": "ValueError",
          "evalue": "ignored",
          "traceback": [
            "\u001b[0;31m---------------------------------------------------------------------------\u001b[0m",
            "\u001b[0;31mValueError\u001b[0m                                Traceback (most recent call last)",
            "\u001b[0;32m<ipython-input-34-5162077f9ec9>\u001b[0m in \u001b[0;36m<cell line: 3>\u001b[0;34m()\u001b[0m\n\u001b[1;32m      1\u001b[0m \u001b[0;31m# #Convert from string into unsigned integer\u001b[0m\u001b[0;34m\u001b[0m\u001b[0;34m\u001b[0m\u001b[0m\n\u001b[1;32m      2\u001b[0m \u001b[0;34m\u001b[0m\u001b[0m\n\u001b[0;32m----> 3\u001b[0;31m \u001b[0mtempArr\u001b[0m \u001b[0;34m=\u001b[0m \u001b[0mnp\u001b[0m\u001b[0;34m.\u001b[0m\u001b[0marray\u001b[0m\u001b[0;34m(\u001b[0m\u001b[0;34m[\u001b[0m\u001b[0;34m\"10\"\u001b[0m\u001b[0;34m,\u001b[0m \u001b[0;34m\"20\"\u001b[0m\u001b[0;34m,\u001b[0m \u001b[0;34m\"30\"\u001b[0m\u001b[0;34m,\u001b[0m \u001b[0;34m\"40\"\u001b[0m\u001b[0;34m,\u001b[0m \u001b[0;34m\"50_w\"\u001b[0m\u001b[0;34m]\u001b[0m\u001b[0;34m,\u001b[0m \u001b[0mdtype\u001b[0m\u001b[0;34m=\u001b[0m\u001b[0mnp\u001b[0m\u001b[0;34m.\u001b[0m\u001b[0muint16\u001b[0m\u001b[0;34m)\u001b[0m\u001b[0;34m\u001b[0m\u001b[0;34m\u001b[0m\u001b[0m\n\u001b[0m\u001b[1;32m      4\u001b[0m \u001b[0mprint\u001b[0m\u001b[0;34m(\u001b[0m\u001b[0mtempArr\u001b[0m\u001b[0;34m)\u001b[0m\u001b[0;34m\u001b[0m\u001b[0;34m\u001b[0m\u001b[0m\n\u001b[1;32m      5\u001b[0m \u001b[0mprint\u001b[0m\u001b[0;34m(\u001b[0m\u001b[0mtempArr\u001b[0m\u001b[0;34m.\u001b[0m\u001b[0mdtype\u001b[0m\u001b[0;34m)\u001b[0m\u001b[0;34m\u001b[0m\u001b[0;34m\u001b[0m\u001b[0m\n",
            "\u001b[0;31mValueError\u001b[0m: invalid literal for int() with base 10: '50_w'"
          ]
        }
      ]
    },
    {
      "cell_type": "code",
      "source": [
        "# If a type is given in which elements can't be casted then NumPy will raise a ValueError."
      ],
      "metadata": {
        "id": "EqBDAZYtNQko"
      },
      "execution_count": null,
      "outputs": []
    },
    {
      "cell_type": "code",
      "source": [
        "x=1000_000_000\n",
        "print(x)\n",
        "\n",
        "n=98658745235\n",
        "print(f\"{n:_}\")\n"
      ],
      "metadata": {
        "id": "IZqwbO7yT1pB",
        "colab": {
          "base_uri": "https://localhost:8080/"
        },
        "outputId": "9a807d87-0117-4605-afd5-d98567ed5e32"
      },
      "execution_count": 36,
      "outputs": [
        {
          "output_type": "stream",
          "name": "stdout",
          "text": [
            "1000000000\n",
            "98_658_745_235\n"
          ]
        }
      ]
    },
    {
      "cell_type": "markdown",
      "source": [
        "# Array Creation Routines"
      ],
      "metadata": {
        "id": "kTBHDPI0SALv"
      }
    },
    {
      "cell_type": "markdown",
      "source": [
        "**numpy.empty**"
      ],
      "metadata": {
        "id": "7TsCC95xSUzK"
      }
    },
    {
      "cell_type": "code",
      "source": [
        "import numpy as np"
      ],
      "metadata": {
        "id": "xeDUIG8m5-Q0"
      },
      "execution_count": null,
      "outputs": []
    },
    {
      "cell_type": "code",
      "source": [
        "# np.empty(shape, dtype)\n",
        "# It creates an uninitialized array of specified shape and dtype.\n",
        "# The elements in an array show random values as they are not initialized.\n",
        "\n",
        "np.empty(shape=(3,8), dtype= np.float16)"
      ],
      "metadata": {
        "id": "aZMAFqk-OqH_",
        "colab": {
          "base_uri": "https://localhost:8080/"
        },
        "outputId": "ca3a0ff4-1d93-4785-bd9c-87662636b05f"
      },
      "execution_count": 37,
      "outputs": [
        {
          "output_type": "execute_result",
          "data": {
            "text/plain": [
              "array([[-2.242e+02, -6.181e+01,  1.784e+02,  0.000e+00,  0.000e+00,\n",
              "         0.000e+00,  0.000e+00,  0.000e+00],\n",
              "       [ 6.139e-06,  0.000e+00,  5.782e-06,  0.000e+00,  6.437e-06,\n",
              "         0.000e+00,  1.907e-06,  0.000e+00],\n",
              "       [ 6.855e-06,  0.000e+00,  6.020e-06,  0.000e+00,  6.020e-06,\n",
              "         0.000e+00,  6.378e-06,  0.000e+00]], dtype=float16)"
            ]
          },
          "metadata": {},
          "execution_count": 37
        }
      ]
    },
    {
      "cell_type": "code",
      "source": [
        "np.empty(shape=(3,8), dtype= np.uint8)"
      ],
      "metadata": {
        "id": "C1Z9voin4QVz",
        "colab": {
          "base_uri": "https://localhost:8080/"
        },
        "outputId": "924b1b74-f2bc-467b-a222-83c046a1fa6b"
      },
      "execution_count": 40,
      "outputs": [
        {
          "output_type": "execute_result",
          "data": {
            "text/plain": [
              "array([[133, 115, 218, 211, 147,  89,   0,   0],\n",
              "       [  0,   0,   0,   0,   0,   0,   0,   0],\n",
              "       [ 32,   0,   0,   0,   0,   0,   0,   0]], dtype=uint8)"
            ]
          },
          "metadata": {},
          "execution_count": 40
        }
      ]
    },
    {
      "cell_type": "markdown",
      "source": [
        "**numpy.zeros**"
      ],
      "metadata": {
        "id": "q9oo6UwgTCc9"
      }
    },
    {
      "cell_type": "code",
      "source": [
        "# np.zeros\n",
        "# Returns a new array of specified size, filled with zeros.\n",
        "# Default dtype is float\n",
        "\n",
        "np.zeros(5)"
      ],
      "metadata": {
        "id": "JNNqzrRIOqEh",
        "colab": {
          "base_uri": "https://localhost:8080/"
        },
        "outputId": "907f0bd4-8719-426e-a3c1-e391d96fd975"
      },
      "execution_count": 41,
      "outputs": [
        {
          "output_type": "execute_result",
          "data": {
            "text/plain": [
              "array([0., 0., 0., 0., 0.])"
            ]
          },
          "metadata": {},
          "execution_count": 41
        }
      ]
    },
    {
      "cell_type": "code",
      "source": [
        "np.zeros(shape=(5,5))"
      ],
      "metadata": {
        "id": "fLB-XT3nSyFG",
        "colab": {
          "base_uri": "https://localhost:8080/"
        },
        "outputId": "70a87766-c1bd-49cf-a62c-ab766b6b5a46"
      },
      "execution_count": 42,
      "outputs": [
        {
          "output_type": "execute_result",
          "data": {
            "text/plain": [
              "array([[0., 0., 0., 0., 0.],\n",
              "       [0., 0., 0., 0., 0.],\n",
              "       [0., 0., 0., 0., 0.],\n",
              "       [0., 0., 0., 0., 0.],\n",
              "       [0., 0., 0., 0., 0.]])"
            ]
          },
          "metadata": {},
          "execution_count": 42
        }
      ]
    },
    {
      "cell_type": "code",
      "source": [
        "np.zeros(shape=(3,5,5))"
      ],
      "metadata": {
        "id": "HaxBXu24fblZ",
        "colab": {
          "base_uri": "https://localhost:8080/"
        },
        "outputId": "b6bb6627-1be2-4ca6-b2d3-ca6768d8fc6d"
      },
      "execution_count": 43,
      "outputs": [
        {
          "output_type": "execute_result",
          "data": {
            "text/plain": [
              "array([[[0., 0., 0., 0., 0.],\n",
              "        [0., 0., 0., 0., 0.],\n",
              "        [0., 0., 0., 0., 0.],\n",
              "        [0., 0., 0., 0., 0.],\n",
              "        [0., 0., 0., 0., 0.]],\n",
              "\n",
              "       [[0., 0., 0., 0., 0.],\n",
              "        [0., 0., 0., 0., 0.],\n",
              "        [0., 0., 0., 0., 0.],\n",
              "        [0., 0., 0., 0., 0.],\n",
              "        [0., 0., 0., 0., 0.]],\n",
              "\n",
              "       [[0., 0., 0., 0., 0.],\n",
              "        [0., 0., 0., 0., 0.],\n",
              "        [0., 0., 0., 0., 0.],\n",
              "        [0., 0., 0., 0., 0.],\n",
              "        [0., 0., 0., 0., 0.]]])"
            ]
          },
          "metadata": {},
          "execution_count": 43
        }
      ]
    },
    {
      "cell_type": "markdown",
      "source": [
        "**numpy.ones**"
      ],
      "metadata": {
        "id": "Cz9wNIQQVEsg"
      }
    },
    {
      "cell_type": "code",
      "source": [
        "# np.ones\n",
        "# Returns a new array of specified size and type, filled with ones.\n",
        "# Default dtype is float\n",
        "np.ones(shape = 5)"
      ],
      "metadata": {
        "id": "eT3CZgUjSyBo",
        "colab": {
          "base_uri": "https://localhost:8080/"
        },
        "outputId": "f84ee48d-356f-46d8-b045-23e634071676"
      },
      "execution_count": 44,
      "outputs": [
        {
          "output_type": "execute_result",
          "data": {
            "text/plain": [
              "array([1., 1., 1., 1., 1.])"
            ]
          },
          "metadata": {},
          "execution_count": 44
        }
      ]
    },
    {
      "cell_type": "code",
      "source": [
        "np.ones(shape = (4, 5))"
      ],
      "metadata": {
        "id": "0VLVUGE9Sx89",
        "colab": {
          "base_uri": "https://localhost:8080/"
        },
        "outputId": "274fce76-1258-4a36-8a22-74c0f9c58162"
      },
      "execution_count": 45,
      "outputs": [
        {
          "output_type": "execute_result",
          "data": {
            "text/plain": [
              "array([[1., 1., 1., 1., 1.],\n",
              "       [1., 1., 1., 1., 1.],\n",
              "       [1., 1., 1., 1., 1.],\n",
              "       [1., 1., 1., 1., 1.]])"
            ]
          },
          "metadata": {},
          "execution_count": 45
        }
      ]
    },
    {
      "cell_type": "markdown",
      "source": [
        "# NumPy - Array Attributes"
      ],
      "metadata": {
        "id": "s-yaKlbfVv-D"
      }
    },
    {
      "cell_type": "markdown",
      "source": [
        "**ndarray.shape**"
      ],
      "metadata": {
        "id": "Wu5AgtuMV8h3"
      }
    },
    {
      "cell_type": "code",
      "source": [
        "arr = np.array([1,2,3,4])\n",
        "\n",
        "print(arr)\n",
        "print(arr.shape)"
      ],
      "metadata": {
        "id": "c4WcllpG6YCF",
        "colab": {
          "base_uri": "https://localhost:8080/"
        },
        "outputId": "0a9f6af9-50b7-4131-80c3-7ec4d789bab5"
      },
      "execution_count": 46,
      "outputs": [
        {
          "output_type": "stream",
          "name": "stdout",
          "text": [
            "[1 2 3 4]\n",
            "(4,)\n"
          ]
        }
      ]
    },
    {
      "cell_type": "code",
      "source": [
        "arr = np.array([[1,2,3,4], [5,6,7,8]])"
      ],
      "metadata": {
        "id": "VvmatDmkSx7H"
      },
      "execution_count": 47,
      "outputs": []
    },
    {
      "cell_type": "code",
      "source": [
        "arr"
      ],
      "metadata": {
        "id": "VRvPv_qjWiB7",
        "colab": {
          "base_uri": "https://localhost:8080/"
        },
        "outputId": "a0da82a9-9964-462f-b75f-c22c6d24e9df"
      },
      "execution_count": 48,
      "outputs": [
        {
          "output_type": "execute_result",
          "data": {
            "text/plain": [
              "array([[1, 2, 3, 4],\n",
              "       [5, 6, 7, 8]])"
            ]
          },
          "metadata": {},
          "execution_count": 48
        }
      ]
    },
    {
      "cell_type": "code",
      "source": [
        "# This array attribute returns a tuple consisting of array dimensions\n",
        "arr.shape"
      ],
      "metadata": {
        "id": "JM5RQ6a6WGPf",
        "colab": {
          "base_uri": "https://localhost:8080/"
        },
        "outputId": "79ad949c-b611-4863-c2d9-94b556793500"
      },
      "execution_count": 49,
      "outputs": [
        {
          "output_type": "execute_result",
          "data": {
            "text/plain": [
              "(2, 4)"
            ]
          },
          "metadata": {},
          "execution_count": 49
        }
      ]
    },
    {
      "cell_type": "code",
      "source": [
        "# ndarray.shape can be used to reshape the array.\n",
        "arr.shape = (4,2)"
      ],
      "metadata": {
        "id": "r2bPdy4iWIxR"
      },
      "execution_count": 50,
      "outputs": []
    },
    {
      "cell_type": "code",
      "source": [
        "print(arr)\n",
        "print(arr.shape)"
      ],
      "metadata": {
        "id": "V9A4Bp-RWfp5",
        "colab": {
          "base_uri": "https://localhost:8080/"
        },
        "outputId": "d52b16ef-3f1c-460d-c555-0416399cceb9"
      },
      "execution_count": 51,
      "outputs": [
        {
          "output_type": "stream",
          "name": "stdout",
          "text": [
            "[[1 2]\n",
            " [3 4]\n",
            " [5 6]\n",
            " [7 8]]\n",
            "(4, 2)\n"
          ]
        }
      ]
    },
    {
      "cell_type": "code",
      "source": [
        "list(range(0,15,3))"
      ],
      "metadata": {
        "colab": {
          "base_uri": "https://localhost:8080/"
        },
        "id": "zY2IIC9dOSds",
        "outputId": "9f39a4d8-caa7-45fd-d537-5ef466b5e11d"
      },
      "execution_count": 52,
      "outputs": [
        {
          "output_type": "execute_result",
          "data": {
            "text/plain": [
              "[0, 3, 6, 9, 12]"
            ]
          },
          "metadata": {},
          "execution_count": 52
        }
      ]
    },
    {
      "cell_type": "markdown",
      "source": [
        "numpy.arang(srart, end, steps)"
      ],
      "metadata": {
        "id": "K3exjnKGXNdH"
      }
    },
    {
      "cell_type": "code",
      "source": [
        "a = np.arange(0,10)\n",
        "print(a)\n",
        "print(a.shape)"
      ],
      "metadata": {
        "id": "BYa8QBmAWgSf",
        "colab": {
          "base_uri": "https://localhost:8080/"
        },
        "outputId": "8aac4461-6dbc-46ac-b540-f3d598c5a8cb"
      },
      "execution_count": 53,
      "outputs": [
        {
          "output_type": "stream",
          "name": "stdout",
          "text": [
            "[0 1 2 3 4 5 6 7 8 9]\n",
            "(10,)\n"
          ]
        }
      ]
    },
    {
      "cell_type": "code",
      "source": [
        "a.shape = (2,5)\n",
        "print(a)"
      ],
      "metadata": {
        "id": "G91h_q4lYFmX",
        "colab": {
          "base_uri": "https://localhost:8080/"
        },
        "outputId": "1399aa02-bfa1-4dc7-afc3-d7d997db4a20"
      },
      "execution_count": 54,
      "outputs": [
        {
          "output_type": "stream",
          "name": "stdout",
          "text": [
            "[[0 1 2 3 4]\n",
            " [5 6 7 8 9]]\n"
          ]
        }
      ]
    },
    {
      "cell_type": "code",
      "source": [
        "a.shape = (10,)"
      ],
      "metadata": {
        "id": "ws4lebl1YFgh"
      },
      "execution_count": 55,
      "outputs": []
    },
    {
      "cell_type": "code",
      "source": [
        "a"
      ],
      "metadata": {
        "id": "rfR3VZRgYb8e",
        "colab": {
          "base_uri": "https://localhost:8080/"
        },
        "outputId": "ca5a0f2e-0fda-4e2c-ec1d-8cc5de591bd5"
      },
      "execution_count": 56,
      "outputs": [
        {
          "output_type": "execute_result",
          "data": {
            "text/plain": [
              "array([0, 1, 2, 3, 4, 5, 6, 7, 8, 9])"
            ]
          },
          "metadata": {},
          "execution_count": 56
        }
      ]
    },
    {
      "cell_type": "code",
      "source": [
        "a = np.arange(0,24)\n",
        "print(\"array : \",a)\n",
        "print(\"shape : \" ,a.shape)\n"
      ],
      "metadata": {
        "id": "f4Ve4M7GYdxc",
        "colab": {
          "base_uri": "https://localhost:8080/"
        },
        "outputId": "20ee98bd-604f-4c62-98fc-141ddd743e9b"
      },
      "execution_count": 57,
      "outputs": [
        {
          "output_type": "stream",
          "name": "stdout",
          "text": [
            "array :  [ 0  1  2  3  4  5  6  7  8  9 10 11 12 13 14 15 16 17 18 19 20 21 22 23]\n",
            "shape :  (24,)\n"
          ]
        }
      ]
    },
    {
      "cell_type": "code",
      "source": [
        "print(\"reshap array into 2D\")\n",
        "a.shape = (8,3) #(4,6) # (2,12)\n",
        "print(\"reshap array: \\n\" ,a)"
      ],
      "metadata": {
        "id": "GxiA0-wrsgsr",
        "colab": {
          "base_uri": "https://localhost:8080/"
        },
        "outputId": "99029c0b-0c7f-45ed-cd20-49c3b4b0221f"
      },
      "execution_count": 58,
      "outputs": [
        {
          "output_type": "stream",
          "name": "stdout",
          "text": [
            "reshap array into 2D\n",
            "reshap array: \n",
            " [[ 0  1  2]\n",
            " [ 3  4  5]\n",
            " [ 6  7  8]\n",
            " [ 9 10 11]\n",
            " [12 13 14]\n",
            " [15 16 17]\n",
            " [18 19 20]\n",
            " [21 22 23]]\n"
          ]
        }
      ]
    },
    {
      "cell_type": "code",
      "source": [
        "# [ 0  0  0 ] 3,\n",
        "\n",
        "# [[ 0  0  0 ]\n",
        "#  [ 0  0  0 ] ] 2X3\n",
        "\n",
        "\n",
        "# [ [ 0  0  0 ]\n",
        "#   [ 0  0  0 ]\n",
        "#   [ 0  0  0 ] ] 3X3\n",
        "\n",
        "\n",
        "# [ [ [ 0  0  0 ]\n",
        "#     [ 0  0  0 ]\n",
        "#     [ 0  0  0 ] ]\n",
        "#\n",
        "#    [[ 1  1  1 ]\n",
        "#     [ 1  1  1 ]      number of arrays X number of rows X number of columns\n",
        "#     [ 1  1  1 ] ] ]          2        X         3      X         3\n",
        "#\n",
        "#\n",
        "\n"
      ],
      "metadata": {
        "id": "jH0oePVJ3Ld3"
      },
      "execution_count": null,
      "outputs": []
    },
    {
      "cell_type": "code",
      "source": [
        "print(\"reshap array into 3D\")\n",
        "a.shape = (2,4,3)\n",
        "print(\"reshap array: \\n\" ,a)"
      ],
      "metadata": {
        "id": "XLgESaeja5pG",
        "colab": {
          "base_uri": "https://localhost:8080/"
        },
        "outputId": "3f1004c7-be35-451c-875a-8f0b769f714d"
      },
      "execution_count": 59,
      "outputs": [
        {
          "output_type": "stream",
          "name": "stdout",
          "text": [
            "reshap array into 3D\n",
            "reshap array: \n",
            " [[[ 0  1  2]\n",
            "  [ 3  4  5]\n",
            "  [ 6  7  8]\n",
            "  [ 9 10 11]]\n",
            "\n",
            " [[12 13 14]\n",
            "  [15 16 17]\n",
            "  [18 19 20]\n",
            "  [21 22 23]]]\n"
          ]
        }
      ]
    },
    {
      "cell_type": "code",
      "source": [
        "\n",
        "\n",
        "print(\"\\n return into the original shape\")\n",
        "a.shape = (24,)\n",
        "print(a)"
      ],
      "metadata": {
        "id": "EOZ53K2QY4J0",
        "colab": {
          "base_uri": "https://localhost:8080/"
        },
        "outputId": "f4999c5d-374a-46aa-989f-2b8ca7780fcf"
      },
      "execution_count": 63,
      "outputs": [
        {
          "output_type": "stream",
          "name": "stdout",
          "text": [
            "\n",
            " return into the original shape\n",
            "[ 0  1  2  3  4  5  6  7  8  9 10 11 12 13 14 15 16 17 18 19 20 21 22 23]\n"
          ]
        }
      ]
    },
    {
      "cell_type": "markdown",
      "source": [
        "numpy.itemsize"
      ],
      "metadata": {
        "id": "CXamrPudXoRQ"
      }
    },
    {
      "cell_type": "code",
      "source": [
        "# This array attribute returns the length of each element of array in bytes.\n",
        "a.itemsize"
      ],
      "metadata": {
        "id": "nG5stj08W9Ci",
        "colab": {
          "base_uri": "https://localhost:8080/"
        },
        "outputId": "f52cb436-30cb-4d35-cc04-c5497158f493"
      },
      "execution_count": 62,
      "outputs": [
        {
          "output_type": "execute_result",
          "data": {
            "text/plain": [
              "8"
            ]
          },
          "metadata": {},
          "execution_count": 62
        }
      ]
    },
    {
      "cell_type": "code",
      "source": [
        "a.size"
      ],
      "metadata": {
        "colab": {
          "base_uri": "https://localhost:8080/"
        },
        "id": "kEIYvTJWPWpB",
        "outputId": "8be1fc7a-1732-41d7-ead2-acfeb83ec143"
      },
      "execution_count": 64,
      "outputs": [
        {
          "output_type": "execute_result",
          "data": {
            "text/plain": [
              "24"
            ]
          },
          "metadata": {},
          "execution_count": 64
        }
      ]
    },
    {
      "cell_type": "markdown",
      "source": [
        "# Numpy Array Indexing and Slicing\n"
      ],
      "metadata": {
        "id": "BGhE9a-_6tix"
      }
    },
    {
      "cell_type": "markdown",
      "source": [
        "Integer Slicing"
      ],
      "metadata": {
        "id": "z7_WDFtWYRGr"
      }
    },
    {
      "cell_type": "code",
      "source": [
        "import numpy as np"
      ],
      "metadata": {
        "id": "w1qRVzpWWkrO"
      },
      "execution_count": null,
      "outputs": []
    },
    {
      "cell_type": "code",
      "source": [
        "arr = np.arange(25)"
      ],
      "metadata": {
        "id": "N3twzpXvW88r"
      },
      "execution_count": 65,
      "outputs": []
    },
    {
      "cell_type": "code",
      "source": [
        "arr"
      ],
      "metadata": {
        "id": "7bebS3a37fh1",
        "colab": {
          "base_uri": "https://localhost:8080/"
        },
        "outputId": "c90be456-06b4-4720-850c-de86e8757fbd"
      },
      "execution_count": 66,
      "outputs": [
        {
          "output_type": "execute_result",
          "data": {
            "text/plain": [
              "array([ 0,  1,  2,  3,  4,  5,  6,  7,  8,  9, 10, 11, 12, 13, 14, 15, 16,\n",
              "       17, 18, 19, 20, 21, 22, 23, 24])"
            ]
          },
          "metadata": {},
          "execution_count": 66
        }
      ]
    },
    {
      "cell_type": "code",
      "source": [
        "arr[10]"
      ],
      "metadata": {
        "id": "aWInAjR37gzr",
        "colab": {
          "base_uri": "https://localhost:8080/"
        },
        "outputId": "8d182c09-73c5-4066-b562-604110538d36"
      },
      "execution_count": 67,
      "outputs": [
        {
          "output_type": "execute_result",
          "data": {
            "text/plain": [
              "10"
            ]
          },
          "metadata": {},
          "execution_count": 67
        }
      ]
    },
    {
      "cell_type": "code",
      "source": [
        "arr[2:11]"
      ],
      "metadata": {
        "id": "MeeoyRub7wWl",
        "colab": {
          "base_uri": "https://localhost:8080/"
        },
        "outputId": "0a41bb14-33e8-406c-840b-60ccc050205a"
      },
      "execution_count": 68,
      "outputs": [
        {
          "output_type": "execute_result",
          "data": {
            "text/plain": [
              "array([ 2,  3,  4,  5,  6,  7,  8,  9, 10])"
            ]
          },
          "metadata": {},
          "execution_count": 68
        }
      ]
    },
    {
      "cell_type": "code",
      "source": [
        "arr[2:11:2]"
      ],
      "metadata": {
        "id": "HeeZsqW672K8",
        "colab": {
          "base_uri": "https://localhost:8080/"
        },
        "outputId": "da316360-335e-4108-b0a2-e446a955bdf2"
      },
      "execution_count": 70,
      "outputs": [
        {
          "output_type": "execute_result",
          "data": {
            "text/plain": [
              "array([ 2,  4,  6,  8, 10])"
            ]
          },
          "metadata": {},
          "execution_count": 70
        }
      ]
    },
    {
      "cell_type": "code",
      "source": [
        "arr = arr.reshape(5,5)"
      ],
      "metadata": {
        "id": "_q8eiTC_CnNH"
      },
      "execution_count": 71,
      "outputs": []
    },
    {
      "cell_type": "code",
      "source": [
        "arr"
      ],
      "metadata": {
        "id": "MGgtsBdLCnKx",
        "colab": {
          "base_uri": "https://localhost:8080/"
        },
        "outputId": "269559a3-a933-4a9e-820d-80cac22fd693"
      },
      "execution_count": 72,
      "outputs": [
        {
          "output_type": "execute_result",
          "data": {
            "text/plain": [
              "array([[ 0,  1,  2,  3,  4],\n",
              "       [ 5,  6,  7,  8,  9],\n",
              "       [10, 11, 12, 13, 14],\n",
              "       [15, 16, 17, 18, 19],\n",
              "       [20, 21, 22, 23, 24]])"
            ]
          },
          "metadata": {},
          "execution_count": 72
        }
      ]
    },
    {
      "cell_type": "code",
      "source": [
        "arr[1]"
      ],
      "metadata": {
        "id": "fkfI87U4XKwv",
        "colab": {
          "base_uri": "https://localhost:8080/"
        },
        "outputId": "5c2be9be-6656-4d95-dd94-6b1c1355e189"
      },
      "execution_count": 73,
      "outputs": [
        {
          "output_type": "execute_result",
          "data": {
            "text/plain": [
              "array([5, 6, 7, 8, 9])"
            ]
          },
          "metadata": {},
          "execution_count": 73
        }
      ]
    },
    {
      "cell_type": "code",
      "source": [
        "arr[1][2]"
      ],
      "metadata": {
        "id": "vJDGJlYgXYxT",
        "colab": {
          "base_uri": "https://localhost:8080/"
        },
        "outputId": "b9cd8c44-f0b3-4a08-c6f5-fac31edd5d2e"
      },
      "execution_count": 74,
      "outputs": [
        {
          "output_type": "execute_result",
          "data": {
            "text/plain": [
              "7"
            ]
          },
          "metadata": {},
          "execution_count": 74
        }
      ]
    },
    {
      "cell_type": "code",
      "source": [
        "arr[0][1]"
      ],
      "metadata": {
        "id": "f2FK9q0QCnI4",
        "colab": {
          "base_uri": "https://localhost:8080/"
        },
        "outputId": "be46a1c6-edab-4273-f702-2f7fb2fe84fe"
      },
      "execution_count": 75,
      "outputs": [
        {
          "output_type": "execute_result",
          "data": {
            "text/plain": [
              "1"
            ]
          },
          "metadata": {},
          "execution_count": 75
        }
      ]
    },
    {
      "cell_type": "code",
      "source": [
        "arr[0,1]"
      ],
      "metadata": {
        "id": "Gw57s05WCnGu",
        "colab": {
          "base_uri": "https://localhost:8080/"
        },
        "outputId": "e62805f4-5573-4c47-dc74-94cdfb321ac5"
      },
      "execution_count": 76,
      "outputs": [
        {
          "output_type": "execute_result",
          "data": {
            "text/plain": [
              "1"
            ]
          },
          "metadata": {},
          "execution_count": 76
        }
      ]
    },
    {
      "cell_type": "code",
      "source": [
        "arr[0, 4]"
      ],
      "metadata": {
        "id": "1yp1sp8KfZA6",
        "colab": {
          "base_uri": "https://localhost:8080/"
        },
        "outputId": "90a48312-f8ec-4962-aad7-fce27ae8c0e3"
      },
      "execution_count": 77,
      "outputs": [
        {
          "output_type": "execute_result",
          "data": {
            "text/plain": [
              "4"
            ]
          },
          "metadata": {},
          "execution_count": 77
        }
      ]
    },
    {
      "cell_type": "code",
      "source": [
        "print(\"number of dimensions : \" ,arr.ndim)\n",
        "print(\"shape of the array : \", arr.shape)\n",
        "print(\"number of dimensions : \" ,len(arr.shape))\n"
      ],
      "metadata": {
        "id": "_7xZs22-H26a",
        "colab": {
          "base_uri": "https://localhost:8080/"
        },
        "outputId": "b5b484f2-a048-4032-acc9-1399b5688802"
      },
      "execution_count": 78,
      "outputs": [
        {
          "output_type": "stream",
          "name": "stdout",
          "text": [
            "number of dimensions :  2\n",
            "shape of the array :  (5, 5)\n",
            "number of dimensions :  2\n"
          ]
        }
      ]
    },
    {
      "cell_type": "code",
      "source": [
        "arr"
      ],
      "metadata": {
        "id": "i44VvU5Z8u2K",
        "colab": {
          "base_uri": "https://localhost:8080/"
        },
        "outputId": "4e81e998-3bca-4242-f2d4-bfd77268076b"
      },
      "execution_count": 79,
      "outputs": [
        {
          "output_type": "execute_result",
          "data": {
            "text/plain": [
              "array([[ 0,  1,  2,  3,  4],\n",
              "       [ 5,  6,  7,  8,  9],\n",
              "       [10, 11, 12, 13, 14],\n",
              "       [15, 16, 17, 18, 19],\n",
              "       [20, 21, 22, 23, 24]])"
            ]
          },
          "metadata": {},
          "execution_count": 79
        }
      ]
    },
    {
      "cell_type": "code",
      "source": [
        "arr[ 0 , 1:4]"
      ],
      "metadata": {
        "id": "n7sHvT6K8uy0"
      },
      "execution_count": null,
      "outputs": []
    },
    {
      "cell_type": "code",
      "source": [
        "arr[0:2]"
      ],
      "metadata": {
        "id": "5vhiEZkq9Yp0"
      },
      "execution_count": null,
      "outputs": []
    },
    {
      "cell_type": "code",
      "source": [
        "arr[0:2, 1:4]"
      ],
      "metadata": {
        "id": "RVMFurxQ8uw0"
      },
      "execution_count": null,
      "outputs": []
    },
    {
      "cell_type": "code",
      "source": [],
      "metadata": {
        "id": "NTsRyVFH9eOW"
      },
      "execution_count": null,
      "outputs": []
    },
    {
      "cell_type": "code",
      "source": [
        "# we have 3 dimensions\n",
        "# arr[ first dimension , second dimension , third dimension] |or| arr[first dimension][second dimension][third dimension]\n",
        "# for each dimension start : end : steps"
      ],
      "metadata": {
        "id": "B-yuUslqH9JM"
      },
      "execution_count": null,
      "outputs": []
    },
    {
      "cell_type": "code",
      "source": [
        "arr = np.arange(27).reshape(3,3,3)"
      ],
      "metadata": {
        "id": "JJ1yUq3zgRBU"
      },
      "execution_count": 80,
      "outputs": []
    },
    {
      "cell_type": "code",
      "source": [
        "arr"
      ],
      "metadata": {
        "id": "UK86XJhH9wPY",
        "colab": {
          "base_uri": "https://localhost:8080/"
        },
        "outputId": "5fec1c22-fb84-41e0-ff52-53f2cbad85c1"
      },
      "execution_count": 81,
      "outputs": [
        {
          "output_type": "execute_result",
          "data": {
            "text/plain": [
              "array([[[ 0,  1,  2],\n",
              "        [ 3,  4,  5],\n",
              "        [ 6,  7,  8]],\n",
              "\n",
              "       [[ 9, 10, 11],\n",
              "        [12, 13, 14],\n",
              "        [15, 16, 17]],\n",
              "\n",
              "       [[18, 19, 20],\n",
              "        [21, 22, 23],\n",
              "        [24, 25, 26]]])"
            ]
          },
          "metadata": {},
          "execution_count": 81
        }
      ]
    },
    {
      "cell_type": "code",
      "source": [
        "arr[0]"
      ],
      "metadata": {
        "id": "IhpzeHVX937l",
        "colab": {
          "base_uri": "https://localhost:8080/"
        },
        "outputId": "b6193949-b628-4a1d-c9d8-e81156482343"
      },
      "execution_count": 82,
      "outputs": [
        {
          "output_type": "execute_result",
          "data": {
            "text/plain": [
              "array([[0, 1, 2],\n",
              "       [3, 4, 5],\n",
              "       [6, 7, 8]])"
            ]
          },
          "metadata": {},
          "execution_count": 82
        }
      ]
    },
    {
      "cell_type": "code",
      "source": [
        "arr[0,1]"
      ],
      "metadata": {
        "id": "x0eJyF0i9-e3",
        "colab": {
          "base_uri": "https://localhost:8080/"
        },
        "outputId": "c0faf866-09cd-48e2-e5c2-69207f141e9a"
      },
      "execution_count": 83,
      "outputs": [
        {
          "output_type": "execute_result",
          "data": {
            "text/plain": [
              "array([3, 4, 5])"
            ]
          },
          "metadata": {},
          "execution_count": 83
        }
      ]
    },
    {
      "cell_type": "code",
      "source": [
        "arr[0, 1, -1]"
      ],
      "metadata": {
        "id": "UzsfSS_01br-",
        "colab": {
          "base_uri": "https://localhost:8080/"
        },
        "outputId": "a34828b9-5683-4bc3-9358-49fcadd8b5ef"
      },
      "execution_count": 84,
      "outputs": [
        {
          "output_type": "execute_result",
          "data": {
            "text/plain": [
              "5"
            ]
          },
          "metadata": {},
          "execution_count": 84
        }
      ]
    },
    {
      "cell_type": "code",
      "source": [
        "arr[1, 2, 1]"
      ],
      "metadata": {
        "id": "Bt3islX09-bR"
      },
      "execution_count": null,
      "outputs": []
    },
    {
      "cell_type": "code",
      "source": [
        "arr"
      ],
      "metadata": {
        "id": "lgUscB5d9-ZV",
        "colab": {
          "base_uri": "https://localhost:8080/"
        },
        "outputId": "09fffabf-7835-4e1d-cb75-06ef832838b1"
      },
      "execution_count": 85,
      "outputs": [
        {
          "output_type": "execute_result",
          "data": {
            "text/plain": [
              "array([[[ 0,  1,  2],\n",
              "        [ 3,  4,  5],\n",
              "        [ 6,  7,  8]],\n",
              "\n",
              "       [[ 9, 10, 11],\n",
              "        [12, 13, 14],\n",
              "        [15, 16, 17]],\n",
              "\n",
              "       [[18, 19, 20],\n",
              "        [21, 22, 23],\n",
              "        [24, 25, 26]]])"
            ]
          },
          "metadata": {},
          "execution_count": 85
        }
      ]
    },
    {
      "cell_type": "code",
      "source": [
        "# Access to the 4 value in array\n",
        "\n",
        "print(arr[0][1][1])\n"
      ],
      "metadata": {
        "id": "WEMKbr6eCm-I",
        "colab": {
          "base_uri": "https://localhost:8080/"
        },
        "outputId": "5ee1e68f-0653-4f2e-a0df-f18ed365fa62"
      },
      "execution_count": 86,
      "outputs": [
        {
          "output_type": "stream",
          "name": "stdout",
          "text": [
            "4\n"
          ]
        }
      ]
    },
    {
      "cell_type": "code",
      "source": [
        "# another solution\n",
        "\n",
        "print(arr[0 , 1 , 1])"
      ],
      "metadata": {
        "id": "HCQR-6jNTFG1",
        "colab": {
          "base_uri": "https://localhost:8080/"
        },
        "outputId": "41717226-4728-493d-a5c9-300a9329e97f"
      },
      "execution_count": 87,
      "outputs": [
        {
          "output_type": "stream",
          "name": "stdout",
          "text": [
            "4\n"
          ]
        }
      ]
    },
    {
      "cell_type": "code",
      "source": [
        "arr"
      ],
      "metadata": {
        "id": "mRq5LQFwhuLv",
        "colab": {
          "base_uri": "https://localhost:8080/"
        },
        "outputId": "c961cca5-996a-4438-cc4f-342ec8c4fb80"
      },
      "execution_count": 88,
      "outputs": [
        {
          "output_type": "execute_result",
          "data": {
            "text/plain": [
              "array([[[ 0,  1,  2],\n",
              "        [ 3,  4,  5],\n",
              "        [ 6,  7,  8]],\n",
              "\n",
              "       [[ 9, 10, 11],\n",
              "        [12, 13, 14],\n",
              "        [15, 16, 17]],\n",
              "\n",
              "       [[18, 19, 20],\n",
              "        [21, 22, 23],\n",
              "        [24, 25, 26]]])"
            ]
          },
          "metadata": {},
          "execution_count": 88
        }
      ]
    },
    {
      "cell_type": "code",
      "source": [
        "# access to [[ 0,  1,  2],\n",
        "#           [ 3,  4,  5]]\n",
        "\n",
        "arr[0, 0:2, :]"
      ],
      "metadata": {
        "id": "gt2DSIdGI2XY",
        "colab": {
          "base_uri": "https://localhost:8080/"
        },
        "outputId": "383cfacc-3705-4b83-9046-15e8f3362518"
      },
      "execution_count": 89,
      "outputs": [
        {
          "output_type": "execute_result",
          "data": {
            "text/plain": [
              "array([[0, 1, 2],\n",
              "       [3, 4, 5]])"
            ]
          },
          "metadata": {},
          "execution_count": 89
        }
      ]
    },
    {
      "cell_type": "code",
      "source": [
        "arr"
      ],
      "metadata": {
        "id": "EKb8b1G1-7cM",
        "colab": {
          "base_uri": "https://localhost:8080/"
        },
        "outputId": "b865dce7-1c8c-46ad-f092-f5548e14429e"
      },
      "execution_count": 90,
      "outputs": [
        {
          "output_type": "execute_result",
          "data": {
            "text/plain": [
              "array([[[ 0,  1,  2],\n",
              "        [ 3,  4,  5],\n",
              "        [ 6,  7,  8]],\n",
              "\n",
              "       [[ 9, 10, 11],\n",
              "        [12, 13, 14],\n",
              "        [15, 16, 17]],\n",
              "\n",
              "       [[18, 19, 20],\n",
              "        [21, 22, 23],\n",
              "        [24, 25, 26]]])"
            ]
          },
          "metadata": {},
          "execution_count": 90
        }
      ]
    },
    {
      "cell_type": "code",
      "source": [
        "# access to [[15, 16]] list\n",
        "\n",
        "arr[1, 2, 0:2]"
      ],
      "metadata": {
        "id": "XcWJe8xUJWYt",
        "colab": {
          "base_uri": "https://localhost:8080/"
        },
        "outputId": "6c21a603-be4f-44ca-82a9-04c267145a34"
      },
      "execution_count": 91,
      "outputs": [
        {
          "output_type": "execute_result",
          "data": {
            "text/plain": [
              "array([15, 16])"
            ]
          },
          "metadata": {},
          "execution_count": 91
        }
      ]
    },
    {
      "cell_type": "code",
      "source": [
        "arr"
      ],
      "metadata": {
        "id": "O7jeb1f1_MJs",
        "colab": {
          "base_uri": "https://localhost:8080/"
        },
        "outputId": "b9a9c4e6-5977-4cbf-fad0-e4646c8669a0"
      },
      "execution_count": 92,
      "outputs": [
        {
          "output_type": "execute_result",
          "data": {
            "text/plain": [
              "array([[[ 0,  1,  2],\n",
              "        [ 3,  4,  5],\n",
              "        [ 6,  7,  8]],\n",
              "\n",
              "       [[ 9, 10, 11],\n",
              "        [12, 13, 14],\n",
              "        [15, 16, 17]],\n",
              "\n",
              "       [[18, 19, 20],\n",
              "        [21, 22, 23],\n",
              "        [24, 25, 26]]])"
            ]
          },
          "metadata": {},
          "execution_count": 92
        }
      ]
    },
    {
      "cell_type": "code",
      "source": [
        "# access to [[18, 19, 20],\n",
        "#           [21, 22, 23]]\n",
        "\n",
        "arr[2, 0:2]"
      ],
      "metadata": {
        "id": "ZUgKviw1KdY1",
        "colab": {
          "base_uri": "https://localhost:8080/"
        },
        "outputId": "3974f84b-408d-40c2-9b4d-318ef34a0ed2"
      },
      "execution_count": 93,
      "outputs": [
        {
          "output_type": "execute_result",
          "data": {
            "text/plain": [
              "array([[18, 19, 20],\n",
              "       [21, 22, 23]])"
            ]
          },
          "metadata": {},
          "execution_count": 93
        }
      ]
    },
    {
      "cell_type": "code",
      "source": [
        "arr"
      ],
      "metadata": {
        "id": "8oTfgaFj3Kzy",
        "colab": {
          "base_uri": "https://localhost:8080/"
        },
        "outputId": "f122468d-796b-4683-db5d-c65e121d9793"
      },
      "execution_count": 94,
      "outputs": [
        {
          "output_type": "execute_result",
          "data": {
            "text/plain": [
              "array([[[ 0,  1,  2],\n",
              "        [ 3,  4,  5],\n",
              "        [ 6,  7,  8]],\n",
              "\n",
              "       [[ 9, 10, 11],\n",
              "        [12, 13, 14],\n",
              "        [15, 16, 17]],\n",
              "\n",
              "       [[18, 19, 20],\n",
              "        [21, 22, 23],\n",
              "        [24, 25, 26]]])"
            ]
          },
          "metadata": {},
          "execution_count": 94
        }
      ]
    },
    {
      "cell_type": "code",
      "source": [
        "# acces to [18, 21]\n",
        "\n",
        "arr[-1, 0:2, 0]"
      ],
      "metadata": {
        "id": "cxtFDy7_D-5T",
        "colab": {
          "base_uri": "https://localhost:8080/"
        },
        "outputId": "a62e15bd-4075-4d5d-b4d4-dc89f862e89b"
      },
      "execution_count": 95,
      "outputs": [
        {
          "output_type": "execute_result",
          "data": {
            "text/plain": [
              "array([18, 21])"
            ]
          },
          "metadata": {},
          "execution_count": 95
        }
      ]
    },
    {
      "cell_type": "code",
      "source": [
        "# access to first two columns in all rows\n",
        "\n",
        "arr[:, :, 0:2]"
      ],
      "metadata": {
        "id": "IOmK23W3Fyxu",
        "colab": {
          "base_uri": "https://localhost:8080/"
        },
        "outputId": "5316da85-8e83-455f-a13f-63527d4ec16b"
      },
      "execution_count": 96,
      "outputs": [
        {
          "output_type": "execute_result",
          "data": {
            "text/plain": [
              "array([[[ 0,  1],\n",
              "        [ 3,  4],\n",
              "        [ 6,  7]],\n",
              "\n",
              "       [[ 9, 10],\n",
              "        [12, 13],\n",
              "        [15, 16]],\n",
              "\n",
              "       [[18, 19],\n",
              "        [21, 22],\n",
              "        [24, 25]]])"
            ]
          },
          "metadata": {},
          "execution_count": 96
        }
      ]
    },
    {
      "cell_type": "code",
      "source": [],
      "metadata": {
        "id": "ZXzYqKudF52U"
      },
      "execution_count": null,
      "outputs": []
    },
    {
      "cell_type": "code",
      "source": [
        "arr = np.arange(125)\n",
        "arr.shape = (25,5)"
      ],
      "metadata": {
        "id": "scnxyOs4GZ-I"
      },
      "execution_count": 98,
      "outputs": []
    },
    {
      "cell_type": "code",
      "source": [
        "arr"
      ],
      "metadata": {
        "id": "sWsTvrEkLfpT",
        "colab": {
          "base_uri": "https://localhost:8080/"
        },
        "outputId": "6b14e75e-0e3a-4401-bb4c-f2b8e7734740"
      },
      "execution_count": 99,
      "outputs": [
        {
          "output_type": "execute_result",
          "data": {
            "text/plain": [
              "array([[  0,   1,   2,   3,   4],\n",
              "       [  5,   6,   7,   8,   9],\n",
              "       [ 10,  11,  12,  13,  14],\n",
              "       [ 15,  16,  17,  18,  19],\n",
              "       [ 20,  21,  22,  23,  24],\n",
              "       [ 25,  26,  27,  28,  29],\n",
              "       [ 30,  31,  32,  33,  34],\n",
              "       [ 35,  36,  37,  38,  39],\n",
              "       [ 40,  41,  42,  43,  44],\n",
              "       [ 45,  46,  47,  48,  49],\n",
              "       [ 50,  51,  52,  53,  54],\n",
              "       [ 55,  56,  57,  58,  59],\n",
              "       [ 60,  61,  62,  63,  64],\n",
              "       [ 65,  66,  67,  68,  69],\n",
              "       [ 70,  71,  72,  73,  74],\n",
              "       [ 75,  76,  77,  78,  79],\n",
              "       [ 80,  81,  82,  83,  84],\n",
              "       [ 85,  86,  87,  88,  89],\n",
              "       [ 90,  91,  92,  93,  94],\n",
              "       [ 95,  96,  97,  98,  99],\n",
              "       [100, 101, 102, 103, 104],\n",
              "       [105, 106, 107, 108, 109],\n",
              "       [110, 111, 112, 113, 114],\n",
              "       [115, 116, 117, 118, 119],\n",
              "       [120, 121, 122, 123, 124]])"
            ]
          },
          "metadata": {},
          "execution_count": 99
        }
      ]
    },
    {
      "cell_type": "code",
      "source": [
        "# access to all items in first column\n",
        "\n",
        "arr[:, 0]"
      ],
      "metadata": {
        "id": "Bl86lY9OLoCq",
        "colab": {
          "base_uri": "https://localhost:8080/"
        },
        "outputId": "447c9af3-cda7-46fa-985a-0ac8791a5a14"
      },
      "execution_count": 100,
      "outputs": [
        {
          "output_type": "execute_result",
          "data": {
            "text/plain": [
              "array([  0,   5,  10,  15,  20,  25,  30,  35,  40,  45,  50,  55,  60,\n",
              "        65,  70,  75,  80,  85,  90,  95, 100, 105, 110, 115, 120])"
            ]
          },
          "metadata": {},
          "execution_count": 100
        }
      ]
    },
    {
      "cell_type": "code",
      "source": [
        "# access to all items in first column with step 3\n",
        "\n",
        "arr[::3, 0]"
      ],
      "metadata": {
        "id": "m1mUvBkHLyPQ",
        "colab": {
          "base_uri": "https://localhost:8080/"
        },
        "outputId": "d924cc55-ec63-4b91-a25e-2adb90f5dd13"
      },
      "execution_count": 101,
      "outputs": [
        {
          "output_type": "execute_result",
          "data": {
            "text/plain": [
              "array([  0,  15,  30,  45,  60,  75,  90, 105, 120])"
            ]
          },
          "metadata": {},
          "execution_count": 101
        }
      ]
    },
    {
      "cell_type": "code",
      "source": [
        "arr"
      ],
      "metadata": {
        "id": "hsnUTNcA5ODb"
      },
      "execution_count": null,
      "outputs": []
    },
    {
      "cell_type": "code",
      "source": [
        "# Task\n",
        "# write python to access to the following list : [ 4, 14, 24, 34, 44, 54, 64, 74]\n",
        "#"
      ],
      "metadata": {
        "id": "MOFqdHrmMRsG"
      },
      "execution_count": null,
      "outputs": []
    },
    {
      "cell_type": "code",
      "source": [
        "arr[0:16:2, -1]"
      ],
      "metadata": {
        "id": "KBWHexfAwjCg",
        "colab": {
          "base_uri": "https://localhost:8080/"
        },
        "outputId": "8bae924b-55f4-489e-85b3-42e5343b7b93"
      },
      "execution_count": 103,
      "outputs": [
        {
          "output_type": "execute_result",
          "data": {
            "text/plain": [
              "array([ 4, 14, 24, 34, 44, 54, 64, 74])"
            ]
          },
          "metadata": {},
          "execution_count": 103
        }
      ]
    },
    {
      "cell_type": "code",
      "source": [],
      "metadata": {
        "id": "l9ODy0gdSE1T"
      },
      "execution_count": null,
      "outputs": []
    },
    {
      "cell_type": "markdown",
      "source": [
        "Boolean Array Indexing"
      ],
      "metadata": {
        "id": "3zg8ZtSwYbBI"
      }
    },
    {
      "cell_type": "code",
      "source": [
        "arr = np.arange(100)\n",
        "arr = arr.reshape(10,10)\n",
        "print(arr)"
      ],
      "metadata": {
        "id": "-40MilrYYcwQ"
      },
      "execution_count": null,
      "outputs": []
    },
    {
      "cell_type": "code",
      "source": [
        "# check all values in array if greater than 50\n",
        "# return array of boolean values\n",
        "\n",
        "arr > 50"
      ],
      "metadata": {
        "id": "E9l9hrMAZgY4"
      },
      "execution_count": null,
      "outputs": []
    },
    {
      "cell_type": "code",
      "source": [
        "# return values that have True value\n",
        "arr[arr > 50]"
      ],
      "metadata": {
        "id": "4pDRNCr3Ycod"
      },
      "execution_count": null,
      "outputs": []
    },
    {
      "cell_type": "code",
      "source": [
        "# Create array with nan value\n",
        "arr = np.array([np.nan , 1 , 2, np.nan , 3 , 4 , 5 , np.nan,])"
      ],
      "metadata": {
        "id": "H5LoT4o5Ycis"
      },
      "execution_count": null,
      "outputs": []
    },
    {
      "cell_type": "code",
      "source": [
        "arr"
      ],
      "metadata": {
        "id": "wKy5RfZRFB8Q"
      },
      "execution_count": null,
      "outputs": []
    },
    {
      "cell_type": "code",
      "source": [
        "type(np.nan)"
      ],
      "metadata": {
        "id": "ZEyYBqbSFOxQ"
      },
      "execution_count": null,
      "outputs": []
    },
    {
      "cell_type": "code",
      "source": [
        "# Check nan values in array\n",
        "# return boolean array\n",
        "\n",
        "np.isnan(arr)"
      ],
      "metadata": {
        "id": "-oiRGiaZY_mA"
      },
      "execution_count": null,
      "outputs": []
    },
    {
      "cell_type": "code",
      "source": [
        "# return nan values\n",
        "arr[np.isnan(arr)]"
      ],
      "metadata": {
        "id": "ioPe6u3vZCnZ"
      },
      "execution_count": null,
      "outputs": []
    },
    {
      "cell_type": "code",
      "source": [
        "# return not nan values\n",
        "\n",
        "~ np.isnan(arr)"
      ],
      "metadata": {
        "id": "C5YmWol5Zdwt"
      },
      "execution_count": null,
      "outputs": []
    },
    {
      "cell_type": "code",
      "source": [
        "arr[~np.isnan(arr)]"
      ],
      "metadata": {
        "id": "J6aKhHsLbL0Y"
      },
      "execution_count": null,
      "outputs": []
    },
    {
      "cell_type": "code",
      "source": [],
      "metadata": {
        "id": "_rOcTAzhbSjE"
      },
      "execution_count": null,
      "outputs": []
    },
    {
      "cell_type": "markdown",
      "source": [
        "# NumPy - Broadcasting"
      ],
      "metadata": {
        "id": "dQn1-beYdlvo"
      }
    },
    {
      "cell_type": "code",
      "source": [
        "import numpy as np"
      ],
      "metadata": {
        "id": "qkarOmNm9z3k"
      },
      "execution_count": null,
      "outputs": []
    },
    {
      "cell_type": "code",
      "source": [
        "arr1 = np.array([[0.0,0.0,0.0],[10.0,10.0,10.0],[20.0,20.0,20.0],[30.0,30.0,30.0]])\n",
        "arr2 = np.array([1.0,2.0,3.0])"
      ],
      "metadata": {
        "id": "Ntfn5ARDdl_U"
      },
      "execution_count": null,
      "outputs": []
    },
    {
      "cell_type": "code",
      "source": [
        "arr1"
      ],
      "metadata": {
        "id": "y17BYWwAdmfl"
      },
      "execution_count": null,
      "outputs": []
    },
    {
      "cell_type": "code",
      "source": [
        "arr2"
      ],
      "metadata": {
        "id": "qaW5RmBydmdD"
      },
      "execution_count": null,
      "outputs": []
    },
    {
      "cell_type": "code",
      "source": [
        "arr1 + arr2"
      ],
      "metadata": {
        "id": "kKYkM-YOeBXX"
      },
      "execution_count": null,
      "outputs": []
    },
    {
      "cell_type": "code",
      "source": [],
      "metadata": {
        "id": "rJ5Xo15keXwe"
      },
      "execution_count": null,
      "outputs": []
    },
    {
      "cell_type": "markdown",
      "source": [
        "# NumPy – Array Manipulation"
      ],
      "metadata": {
        "id": "eBfmKNFFUQCO"
      }
    },
    {
      "cell_type": "markdown",
      "source": [
        "**1- Resahpe arrays**"
      ],
      "metadata": {
        "id": "eVKWSVojtd94"
      }
    },
    {
      "cell_type": "code",
      "source": [
        "import numpy as np"
      ],
      "metadata": {
        "id": "-c_1bA3NXxcR"
      },
      "execution_count": null,
      "outputs": []
    },
    {
      "cell_type": "markdown",
      "source": [
        "ndarrray.reshape"
      ],
      "metadata": {
        "id": "FDLA7HmvUkIE"
      }
    },
    {
      "cell_type": "code",
      "source": [
        "arr = np.arange(100)"
      ],
      "metadata": {
        "id": "SspXoqkWUcEW"
      },
      "execution_count": null,
      "outputs": []
    },
    {
      "cell_type": "code",
      "source": [
        "arr.reshape(5,2,10)"
      ],
      "metadata": {
        "id": "u3yok26AU1lZ"
      },
      "execution_count": null,
      "outputs": []
    },
    {
      "cell_type": "code",
      "source": [
        "arr.shape"
      ],
      "metadata": {
        "id": "LFmfdDkbU2Uy"
      },
      "execution_count": null,
      "outputs": []
    },
    {
      "cell_type": "code",
      "source": [
        "arr.shape = (5,2,10)"
      ],
      "metadata": {
        "id": "HjttWXMhU2So"
      },
      "execution_count": null,
      "outputs": []
    },
    {
      "cell_type": "code",
      "source": [
        "arr"
      ],
      "metadata": {
        "id": "6TQVgZ63IgSJ"
      },
      "execution_count": null,
      "outputs": []
    },
    {
      "cell_type": "code",
      "source": [
        "arr.shape"
      ],
      "metadata": {
        "id": "hD6bVaXiU2Qf"
      },
      "execution_count": null,
      "outputs": []
    },
    {
      "cell_type": "code",
      "source": [
        "arr = arr.reshape(10, 10)"
      ],
      "metadata": {
        "id": "C9YagNt6XCma"
      },
      "execution_count": null,
      "outputs": []
    },
    {
      "cell_type": "code",
      "source": [
        "arr.shape"
      ],
      "metadata": {
        "id": "Mtv0Fg1kXDgo"
      },
      "execution_count": null,
      "outputs": []
    },
    {
      "cell_type": "code",
      "source": [
        "arr"
      ],
      "metadata": {
        "id": "9lI8VJUzIaHt"
      },
      "execution_count": null,
      "outputs": []
    },
    {
      "cell_type": "markdown",
      "source": [
        "ndarray.flatten"
      ],
      "metadata": {
        "id": "VZuEq3aCYbIj"
      }
    },
    {
      "cell_type": "code",
      "source": [
        "arr"
      ],
      "metadata": {
        "id": "HJjflUp6aXnR"
      },
      "execution_count": null,
      "outputs": []
    },
    {
      "cell_type": "code",
      "source": [
        "arr[:, 0]"
      ],
      "metadata": {
        "id": "-beJ0Q14JvCb"
      },
      "execution_count": null,
      "outputs": []
    },
    {
      "cell_type": "code",
      "source": [
        "list_flatten = []\n",
        "for row in arr:\n",
        "  list_flatten.extend(row)\n",
        "\n",
        "print(list_flatten)"
      ],
      "metadata": {
        "id": "kGxt87OmJBr7"
      },
      "execution_count": null,
      "outputs": []
    },
    {
      "cell_type": "code",
      "source": [
        "arr.shape[1]"
      ],
      "metadata": {
        "id": "icnXbXp3Kcwv"
      },
      "execution_count": null,
      "outputs": []
    },
    {
      "cell_type": "code",
      "source": [
        "list(range(arr.shape[1]))"
      ],
      "metadata": {
        "id": "9lpnWDjJK1qJ"
      },
      "execution_count": null,
      "outputs": []
    },
    {
      "cell_type": "code",
      "source": [
        "arr"
      ],
      "metadata": {
        "id": "W7K8_CaHLAsx"
      },
      "execution_count": null,
      "outputs": []
    },
    {
      "cell_type": "code",
      "source": [
        "list_flatten = []\n",
        "for column_idx in range(arr.shape[1]):\n",
        "  list_flatten.extend(arr[:, column_idx])\n",
        "\n",
        "print(list_flatten)"
      ],
      "metadata": {
        "id": "0oWkl129JjSs"
      },
      "execution_count": null,
      "outputs": []
    },
    {
      "cell_type": "code",
      "source": [
        "arr.flatten(order=\"C\")  # C : C style (Default) , F : Fortan style"
      ],
      "metadata": {
        "id": "s3dv_XmjXDeT"
      },
      "execution_count": null,
      "outputs": []
    },
    {
      "cell_type": "code",
      "source": [
        "arr.flatten(order=\"F\")"
      ],
      "metadata": {
        "id": "O1NwwcazLInA"
      },
      "execution_count": null,
      "outputs": []
    },
    {
      "cell_type": "code",
      "source": [
        "arr.shape"
      ],
      "metadata": {
        "id": "bFOhFaxYXDcM"
      },
      "execution_count": null,
      "outputs": []
    },
    {
      "cell_type": "code",
      "source": [
        "arr.ravel()"
      ],
      "metadata": {
        "id": "NiBp607xYk2L"
      },
      "execution_count": null,
      "outputs": []
    },
    {
      "cell_type": "code",
      "source": [
        "arr1 = np.arange(25).reshape(5,5)"
      ],
      "metadata": {
        "id": "VuzKagclbXFf"
      },
      "execution_count": null,
      "outputs": []
    },
    {
      "cell_type": "code",
      "source": [
        "arr2 = np.arange(25).reshape(5,5)"
      ],
      "metadata": {
        "id": "v83mscq_bnfN"
      },
      "execution_count": null,
      "outputs": []
    },
    {
      "cell_type": "code",
      "source": [
        "arr1.flatten()"
      ],
      "metadata": {
        "id": "Pi2ZpMhMbs64"
      },
      "execution_count": null,
      "outputs": []
    },
    {
      "cell_type": "code",
      "source": [
        "arr1.shape"
      ],
      "metadata": {
        "id": "yyQOxA5IbtsB"
      },
      "execution_count": null,
      "outputs": []
    },
    {
      "cell_type": "code",
      "source": [
        "arr2.ravel(order = 'F')"
      ],
      "metadata": {
        "id": "PVpcKi9Dbtp0"
      },
      "execution_count": null,
      "outputs": []
    },
    {
      "cell_type": "code",
      "source": [
        "arr2.shape"
      ],
      "metadata": {
        "id": "DCm2Kx69b3nH"
      },
      "execution_count": null,
      "outputs": []
    },
    {
      "cell_type": "code",
      "source": [
        "arr1.reshape(-1,)"
      ],
      "metadata": {
        "id": "x_uJmuD9b4gM"
      },
      "execution_count": null,
      "outputs": []
    },
    {
      "cell_type": "code",
      "source": [
        "# flatten always returns a copy.\n",
        "# reval returns a view of the original array whenever possible\n"
      ],
      "metadata": {
        "id": "_xASTfc7dUz-"
      },
      "execution_count": null,
      "outputs": []
    },
    {
      "cell_type": "markdown",
      "source": [
        "ndarray.T | ndarray.transpose"
      ],
      "metadata": {
        "id": "ALbkxHkATTUb"
      }
    },
    {
      "cell_type": "code",
      "source": [
        "arr = np.arange(10).reshape(5,2)"
      ],
      "metadata": {
        "id": "8TjrX2eiTYJ7"
      },
      "execution_count": null,
      "outputs": []
    },
    {
      "cell_type": "code",
      "source": [
        "arr"
      ],
      "metadata": {
        "id": "soaVhWE7TYGV"
      },
      "execution_count": null,
      "outputs": []
    },
    {
      "cell_type": "code",
      "source": [
        "arr.T"
      ],
      "metadata": {
        "id": "fYFaeCoyTYE6"
      },
      "execution_count": null,
      "outputs": []
    },
    {
      "cell_type": "code",
      "source": [
        "arr.transpose()"
      ],
      "metadata": {
        "id": "wBus2cONTrf9"
      },
      "execution_count": null,
      "outputs": []
    },
    {
      "cell_type": "code",
      "source": [
        "arr"
      ],
      "metadata": {
        "id": "-q8haj7BTscT"
      },
      "execution_count": null,
      "outputs": []
    },
    {
      "cell_type": "code",
      "source": [
        "arr = arr.T"
      ],
      "metadata": {
        "id": "6pwa47d1Ty4E"
      },
      "execution_count": null,
      "outputs": []
    },
    {
      "cell_type": "code",
      "source": [
        "arr"
      ],
      "metadata": {
        "id": "K6gQEYu_T34b"
      },
      "execution_count": null,
      "outputs": []
    },
    {
      "cell_type": "markdown",
      "source": [
        "**2- Joining arrays**"
      ],
      "metadata": {
        "id": "2S_11lmDT9EU"
      }
    },
    {
      "cell_type": "markdown",
      "source": [
        "**2.1** Concatenate"
      ],
      "metadata": {
        "id": "iA7kkb78VeVC"
      }
    },
    {
      "cell_type": "code",
      "source": [
        "arr1 = np.arange(6).reshape(2,3)\n",
        "arr2 = np.arange(6,12).reshape(2,3)\n",
        "\n",
        "print(arr1)\n",
        "print()\n",
        "print(arr2)"
      ],
      "metadata": {
        "id": "HTI2PPapT4bO"
      },
      "execution_count": null,
      "outputs": []
    },
    {
      "cell_type": "code",
      "source": [
        "arr1.shape"
      ],
      "metadata": {
        "id": "AU7OAryjyjZZ"
      },
      "execution_count": null,
      "outputs": []
    },
    {
      "cell_type": "code",
      "source": [
        "# concate on axis 1\n",
        "arr_conc = np.concatenate((arr1, arr2), axis=1)\n",
        "\n",
        "print(arr_conc)\n",
        "print(arr_conc.shape)"
      ],
      "metadata": {
        "id": "qyckPwapVkZf"
      },
      "execution_count": null,
      "outputs": []
    },
    {
      "cell_type": "code",
      "source": [
        "# [[0 1 2]\n",
        "#  [3 4 5]]\n",
        "\n",
        "# [[ 6  7  8]\n",
        "#  [ 9 10 11]]\n",
        "\n",
        "# [[0 1 2 6  7  8]\n",
        "#  [3 4 5 9 10 11]]\n",
        "#\n",
        "#\n"
      ],
      "metadata": {
        "id": "LDrigGhgYkfp"
      },
      "execution_count": null,
      "outputs": []
    },
    {
      "cell_type": "code",
      "source": [
        "# concate on axis 0\n",
        "arr_conc = np.concatenate((arr1, arr2), axis=0)\n",
        "\n",
        "print(arr_conc)\n",
        "print(arr_conc.shape)"
      ],
      "metadata": {
        "id": "JpFkpatcVkNd"
      },
      "execution_count": null,
      "outputs": []
    },
    {
      "cell_type": "code",
      "source": [
        "# [[0 1 2]\n",
        "#  [3 4 5]]\n",
        "\n",
        "# [[ 6  7  8]\n",
        "#  [ 9 10 11]]\n",
        "\n",
        "# [[0 1 2]\n",
        "#  [3 4 5]]\n",
        "# [ 6  7  8]\n",
        "# [ 9 10 11]\n"
      ],
      "metadata": {
        "id": "9sr5EXkfZQdn"
      },
      "execution_count": null,
      "outputs": []
    },
    {
      "cell_type": "code",
      "source": [
        "arr_t1 = np.array([[1, 2, 3, 4], [5, 6, 7, 8]])\n",
        "print(arr_t1)\n",
        "print(arr_t1.shape)\n",
        "\n",
        "arr_t2 = np.array([[9, 10, 11, 12, 13], [13, 14, 15, 16, 17]])\n",
        "print(arr_t2)\n",
        "print(arr_t2.shape)"
      ],
      "metadata": {
        "id": "rrz_1w8NVkKF"
      },
      "execution_count": null,
      "outputs": []
    },
    {
      "cell_type": "code",
      "source": [
        "# concate tow arrays on axis 0  with different shape\n",
        "np.concatenate([arr_t1, arr_t2], axis=0)"
      ],
      "metadata": {
        "id": "7BE16PHEXCSP"
      },
      "execution_count": null,
      "outputs": []
    },
    {
      "cell_type": "code",
      "source": [
        "# concate tow arrays on axis 1  with different shape\n",
        "np.concatenate([arr_t1, arr_t2], axis=1)"
      ],
      "metadata": {
        "id": "eDuwHkNraV4K"
      },
      "execution_count": null,
      "outputs": []
    },
    {
      "cell_type": "code",
      "source": [],
      "metadata": {
        "id": "Sfa45efEeXZP"
      },
      "execution_count": null,
      "outputs": []
    },
    {
      "cell_type": "markdown",
      "source": [
        "**2.2** stack"
      ],
      "metadata": {
        "id": "hot2iJE9eSSs"
      }
    },
    {
      "cell_type": "code",
      "source": [
        "a1 = np.arange(5)\n",
        "a2 = np.arange(5,10)\n",
        "\n",
        "print(\"arr 1 : \\n\",a1)\n",
        "print(a1.shape)\n",
        "print()\n",
        "print(\"arr 2 : \\n\",a2)\n",
        "print(a2.shape)"
      ],
      "metadata": {
        "id": "NDCfzY6Xgmjl"
      },
      "execution_count": null,
      "outputs": []
    },
    {
      "cell_type": "code",
      "source": [
        "stacked_arr_0 = np.stack([a1, a2], axis=0)\n",
        "print(\"stacked array on axis 0 : \\n\",stacked_arr_0 )\n",
        "print(stacked_arr_0.shape)"
      ],
      "metadata": {
        "id": "3zYwyCnehmk4"
      },
      "execution_count": null,
      "outputs": []
    },
    {
      "cell_type": "code",
      "source": [
        "print(\"arr 1 : \\n\",a1)\n",
        "print()\n",
        "print(\"arr 2 : \\n\",a2)\n"
      ],
      "metadata": {
        "id": "XbWevmUuaWun"
      },
      "execution_count": null,
      "outputs": []
    },
    {
      "cell_type": "code",
      "source": [
        "np.concatenate([a1,a2], axis=0)"
      ],
      "metadata": {
        "id": "IMInix1gai_Y"
      },
      "execution_count": null,
      "outputs": []
    },
    {
      "cell_type": "code",
      "source": [
        "stacked_arr_1 = np.stack([a1, a2], axis=1)\n",
        "print(\"stacked array on axis 1 : \\n\",stacked_arr_1 )\n",
        "print(stacked_arr_1.shape)"
      ],
      "metadata": {
        "id": "sveMQBushi1D"
      },
      "execution_count": null,
      "outputs": []
    },
    {
      "cell_type": "markdown",
      "source": [
        "**2.3** horizontal stack"
      ],
      "metadata": {
        "id": "dLPZvBFAk_q0"
      }
    },
    {
      "cell_type": "code",
      "source": [
        "np.hstack([a1,a2])"
      ],
      "metadata": {
        "id": "dxsaLNZrjlAN"
      },
      "execution_count": null,
      "outputs": []
    },
    {
      "cell_type": "code",
      "source": [
        "np.concatenate([a1, a2], axis=0)"
      ],
      "metadata": {
        "id": "IFFJTHM1j25m"
      },
      "execution_count": null,
      "outputs": []
    },
    {
      "cell_type": "markdown",
      "source": [
        "**2.4** vertical stack"
      ],
      "metadata": {
        "id": "bB0Fj-EmlDE3"
      }
    },
    {
      "cell_type": "code",
      "source": [
        "np.vstack([a1,a2])"
      ],
      "metadata": {
        "id": "fykNsbdmjw-1"
      },
      "execution_count": null,
      "outputs": []
    },
    {
      "cell_type": "code",
      "source": [
        "print(a1)\n",
        "print(a2)"
      ],
      "metadata": {
        "id": "LNqQfJC0qc3z"
      },
      "execution_count": null,
      "outputs": []
    },
    {
      "cell_type": "code",
      "source": [
        "np.concatenate([a1, a2], axis=1)"
      ],
      "metadata": {
        "id": "aDuec0v3j_hN"
      },
      "execution_count": null,
      "outputs": []
    },
    {
      "cell_type": "markdown",
      "source": [
        "stack 2D arrays"
      ],
      "metadata": {
        "id": "PSY4yKaAlRXd"
      }
    },
    {
      "cell_type": "code",
      "source": [
        "print(\"arr 1 : \\n\",arr1)\n",
        "print(arr1.shape)\n",
        "print()\n",
        "print(\"arr 2 : \\n\",arr2)\n",
        "print(arr2.shape)"
      ],
      "metadata": {
        "id": "8dZLfgrylVDM"
      },
      "execution_count": null,
      "outputs": []
    },
    {
      "cell_type": "code",
      "source": [
        "#\n",
        "#   [[0 1 2]\n",
        "#  [3 4 5]]\n",
        "#\n",
        "#  [[ 6  7  8]\n",
        "#  [ 9 10 11]]\n",
        "#\n",
        "# [ [ [0 1 2]\n",
        "#   [3 4 5]\n",
        "#          ]\n",
        "# [[ 6  7  8]\n",
        "#  [ 9 10 11]] ]\n",
        "#\n",
        "#\n",
        "#\n"
      ],
      "metadata": {
        "id": "VJ7CNxsgdaAM"
      },
      "execution_count": null,
      "outputs": []
    },
    {
      "cell_type": "code",
      "source": [
        "\n",
        "# stack 2D arrays\n",
        "stacked_arr_0 = np.stack([arr1, arr2], axis=0)\n",
        "print(\"stacked array on axis 0 : \\n\",stacked_arr_0 )\n",
        "print(stacked_arr_0.shape)"
      ],
      "metadata": {
        "id": "-6unnK2zlXHS"
      },
      "execution_count": null,
      "outputs": []
    },
    {
      "cell_type": "code",
      "source": [
        "# stack 2D arrays\n",
        "\n",
        "stacked_arr_1 = np.stack([arr1, arr2], axis=1)\n",
        "print(\"stacked array on axis 1 : \\n\",stacked_arr_1 )\n",
        "print(stacked_arr_1.shape)"
      ],
      "metadata": {
        "id": "3_6iNYZqa_Qh"
      },
      "execution_count": null,
      "outputs": []
    },
    {
      "cell_type": "code",
      "source": [
        "#\n",
        "#   [[0 1 2]\n",
        "#  [3 4 5]]\n",
        "#\n",
        "#  [[ 6  7  8]\n",
        "#  [ 9 10 11]]\n",
        "#\n",
        "# [ [ [0 1 2]\n",
        "#   [ 6  7  8]\n",
        "#          ]\n",
        "# [[3 4 5]\n",
        "#  [ 9 10 11]] ]"
      ],
      "metadata": {
        "id": "zrIFUHBIeFj-"
      },
      "execution_count": null,
      "outputs": []
    },
    {
      "cell_type": "code",
      "source": [
        "# Define a new array\n",
        "arr3 = np.arange(12,18).reshape(2,3)\n",
        "print(arr3)"
      ],
      "metadata": {
        "id": "SX3IEG02ncjd"
      },
      "execution_count": null,
      "outputs": []
    },
    {
      "cell_type": "code",
      "source": [
        "print(\"arr 1 : \\n\" , arr1)\n",
        "print(\"arr 2 : \\n\" , arr2)\n",
        "print(\"arr 3 : \\n\" , arr3)"
      ],
      "metadata": {
        "id": "695h_3vPoWP1"
      },
      "execution_count": null,
      "outputs": []
    },
    {
      "cell_type": "code",
      "source": [
        "# vertical stack on 2D arrays\n",
        "a = np.vstack([arr1, arr2, arr3])\n",
        "print(a)\n",
        "print(a.shape)"
      ],
      "metadata": {
        "id": "GMVHwM0ZbApF"
      },
      "execution_count": null,
      "outputs": []
    },
    {
      "cell_type": "code",
      "source": [
        "# concatenate 2D arrays on axis 0\n",
        "a = np.concatenate([arr1, arr2, arr3], axis=0)\n",
        "print(a)\n",
        "print(a.shape)"
      ],
      "metadata": {
        "id": "Qkrp5-88mj45"
      },
      "execution_count": null,
      "outputs": []
    },
    {
      "cell_type": "code",
      "source": [
        "print(\"arr 1 : \\n\" , arr1)\n",
        "print(\"arr 2 : \\n\" , arr2)\n",
        "print(\"arr 3 : \\n\" , arr3)"
      ],
      "metadata": {
        "id": "oqdZGZNRoBUQ"
      },
      "execution_count": null,
      "outputs": []
    },
    {
      "cell_type": "code",
      "source": [
        "# horizontal stack n 2D arrays\n",
        "a = np.hstack([arr1, arr2, arr3])\n",
        "print(a)\n",
        "print(a.shape)"
      ],
      "metadata": {
        "id": "6m8FBqPVbAlk"
      },
      "execution_count": null,
      "outputs": []
    },
    {
      "cell_type": "code",
      "source": [
        "# concatenate on axis 1\n",
        "a = np.concatenate([arr1, arr2, arr3], axis=1)\n",
        "print(a)\n",
        "print(a.shape)"
      ],
      "metadata": {
        "id": "AbwjN8PJmoyn"
      },
      "execution_count": null,
      "outputs": []
    },
    {
      "cell_type": "code",
      "source": [
        "# Define a new array\n",
        "arr4 = np.arange(18, 24).reshape(2,3)\n",
        "print(arr4)"
      ],
      "metadata": {
        "id": "WlWntCcvoduO"
      },
      "execution_count": null,
      "outputs": []
    },
    {
      "cell_type": "code",
      "source": [
        "print(\"arr 1 : \\n\" , arr1)\n",
        "print(arr1.shape)\n",
        "\n",
        "print()\n",
        "\n",
        "print(\"arr 2 : \\n\" , arr2)\n",
        "print(arr2.shape)\n",
        "print()\n",
        "\n",
        "print(\"arr 3 : \\n\" , arr3)\n",
        "print(arr3.shape)\n",
        "print()\n",
        "\n",
        "print(\"arr 4 : \\n\" , arr4)\n",
        "print(arr4.shape)"
      ],
      "metadata": {
        "id": "LMirdmrho8CX"
      },
      "execution_count": null,
      "outputs": []
    },
    {
      "cell_type": "code",
      "source": [
        "# stack 2 of 2D arrays\n",
        "a = np.stack([arr1, arr2])\n",
        "print(a)\n",
        "print(a.shape)"
      ],
      "metadata": {
        "id": "SqDiVCTXmrZp"
      },
      "execution_count": null,
      "outputs": []
    },
    {
      "cell_type": "code",
      "source": [
        "# stack 3 of 2D arrays\n",
        "\n",
        "a = np.stack([arr1, arr2, arr3])\n",
        "print(a)\n",
        "print(a.shape)"
      ],
      "metadata": {
        "id": "lQNxkV_FooiI"
      },
      "execution_count": null,
      "outputs": []
    },
    {
      "cell_type": "code",
      "source": [
        "# stack 4 of 2D arrays\n",
        "\n",
        "a = np.stack([arr1, arr2, arr3, arr4])\n",
        "print(a)\n",
        "print(a.shape)"
      ],
      "metadata": {
        "id": "4m-ngDiRpXwM"
      },
      "execution_count": null,
      "outputs": []
    },
    {
      "cell_type": "markdown",
      "source": [
        "![image.png](data:image/png;base64,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)"
      ],
      "metadata": {
        "id": "HefGpgqelxin"
      }
    },
    {
      "cell_type": "markdown",
      "source": [
        "**3- Splitting arrays**"
      ],
      "metadata": {
        "id": "fwCsB5KVus05"
      }
    },
    {
      "cell_type": "markdown",
      "source": [
        "**3.1** split 1D array"
      ],
      "metadata": {
        "id": "7f_2zVaou1Xo"
      }
    },
    {
      "cell_type": "code",
      "source": [
        "import numpy as np"
      ],
      "metadata": {
        "id": "6lY_WS20EqBE"
      },
      "execution_count": null,
      "outputs": []
    },
    {
      "cell_type": "code",
      "source": [
        "arr = np.arange(12)\n",
        "print(arr)\n",
        "print(arr.shape)"
      ],
      "metadata": {
        "id": "Im7A1wuTpe1N"
      },
      "execution_count": null,
      "outputs": []
    },
    {
      "cell_type": "code",
      "source": [
        "# Split the array in 2 equal-sized subarrays\n",
        "np.split(arr, 2, axis=0)"
      ],
      "metadata": {
        "id": "0XknQdEEwhw9"
      },
      "execution_count": null,
      "outputs": []
    },
    {
      "cell_type": "code",
      "source": [
        "# Split the array in 3 equal-sized subarrays\n",
        "np.split(arr, 3, axis=0)"
      ],
      "metadata": {
        "id": "3LL20YCjwjYo"
      },
      "execution_count": null,
      "outputs": []
    },
    {
      "cell_type": "code",
      "source": [
        "# Split the array in 4 equal-sized subarrays\n",
        "np.split(arr, 4, axis=0)"
      ],
      "metadata": {
        "id": "jLag1skgw1cB"
      },
      "execution_count": null,
      "outputs": []
    },
    {
      "cell_type": "code",
      "source": [
        "np.split(arr, 4, axis=1)"
      ],
      "metadata": {
        "id": "-aQEdm9yxq4T"
      },
      "execution_count": null,
      "outputs": []
    },
    {
      "cell_type": "code",
      "source": [
        "np.split(arr, 5)"
      ],
      "metadata": {
        "id": "ZvlfqoNvw2Im"
      },
      "execution_count": null,
      "outputs": []
    },
    {
      "cell_type": "code",
      "source": [
        "arr"
      ],
      "metadata": {
        "id": "TfSKvgkMkPtP"
      },
      "execution_count": null,
      "outputs": []
    },
    {
      "cell_type": "code",
      "source": [
        "# Split the array at positions\n",
        "np.split(arr,[4,7,9])"
      ],
      "metadata": {
        "id": "7gJd_NmKxgGJ"
      },
      "execution_count": null,
      "outputs": []
    },
    {
      "cell_type": "code",
      "source": [
        "np.hsplit(arr, 2)"
      ],
      "metadata": {
        "id": "zBdRkQqUxXoo"
      },
      "execution_count": null,
      "outputs": []
    },
    {
      "cell_type": "code",
      "source": [
        "np.vsplit(arr, 2)"
      ],
      "metadata": {
        "id": "2GPujQbmyjYj"
      },
      "execution_count": null,
      "outputs": []
    },
    {
      "cell_type": "markdown",
      "source": [
        "**3.2** split 2D arrays"
      ],
      "metadata": {
        "id": "oUaRTSQmxOSW"
      }
    },
    {
      "cell_type": "code",
      "source": [
        "a = np.arange(100).reshape(10,10)"
      ],
      "metadata": {
        "id": "JNEHp9M-xC4O"
      },
      "execution_count": null,
      "outputs": []
    },
    {
      "cell_type": "code",
      "source": [
        "print(a)\n",
        "a.shape"
      ],
      "metadata": {
        "id": "vUA9qDpeBUyk"
      },
      "execution_count": null,
      "outputs": []
    },
    {
      "cell_type": "code",
      "source": [
        "np.split(a, 2, axis=0)"
      ],
      "metadata": {
        "id": "sXkm-i9MxN97"
      },
      "execution_count": null,
      "outputs": []
    },
    {
      "cell_type": "code",
      "source": [
        "print(np.split(a, 2, axis=0)[0])\n",
        "\n",
        "print(\"\\n\", \"=\"*20, \"\\n\")\n",
        "\n",
        "print(np.split(a, 2, axis=0)[1])\n"
      ],
      "metadata": {
        "id": "y1sQFNV5GHFh"
      },
      "execution_count": null,
      "outputs": []
    },
    {
      "cell_type": "code",
      "source": [
        "# Split array vertically\n",
        "np.vsplit(a, [2,5])"
      ],
      "metadata": {
        "id": "bxdL1mPPxN6a"
      },
      "execution_count": null,
      "outputs": []
    },
    {
      "cell_type": "code",
      "source": [
        "# Split array horizontally\n",
        "np.hsplit(a, [2,4,8])"
      ],
      "metadata": {
        "id": "tsSAKHk0xN4U"
      },
      "execution_count": null,
      "outputs": []
    },
    {
      "cell_type": "code",
      "source": [
        " bnp.split(a, 2, axis=1)"
      ],
      "metadata": {
        "id": "GQsrVGWgEVUY"
      },
      "execution_count": null,
      "outputs": []
    },
    {
      "cell_type": "code",
      "source": [
        "print(np.hsplit(a, 2)[0])\n",
        "\n",
        "print(\"\\n\", \"=\" *20 ,\"\\n\")\n",
        "\n",
        "print(np.hsplit(a, 2)[1])"
      ],
      "metadata": {
        "id": "00oe7JcVGUnl"
      },
      "execution_count": null,
      "outputs": []
    },
    {
      "cell_type": "markdown",
      "source": [
        "**4- Adding \\ Removig Elements**"
      ],
      "metadata": {
        "id": "qSHtQt1pEwnF"
      }
    },
    {
      "cell_type": "markdown",
      "source": [
        "**4.1**- resize"
      ],
      "metadata": {
        "id": "b-sBgr-AFg6v"
      }
    },
    {
      "cell_type": "code",
      "source": [
        "import numpy as np"
      ],
      "metadata": {
        "id": "fnFXxAVyqLWi"
      },
      "execution_count": null,
      "outputs": []
    },
    {
      "cell_type": "code",
      "source": [
        "a = np.array([[1,2,3],[4,5,6]])"
      ],
      "metadata": {
        "id": "8WPiNRKiE4LS"
      },
      "execution_count": null,
      "outputs": []
    },
    {
      "cell_type": "code",
      "source": [
        "a.shape"
      ],
      "metadata": {
        "id": "3KdYeX-LG-Ca"
      },
      "execution_count": null,
      "outputs": []
    },
    {
      "cell_type": "code",
      "source": [
        "a"
      ],
      "metadata": {
        "id": "j1k-Fx41HG9p"
      },
      "execution_count": null,
      "outputs": []
    },
    {
      "cell_type": "code",
      "source": [
        "np.resize(a,(3,4))"
      ],
      "metadata": {
        "id": "ULcz_GUWfWFN"
      },
      "execution_count": null,
      "outputs": []
    },
    {
      "cell_type": "code",
      "source": [
        "np.resize(a,(3,8))"
      ],
      "metadata": {
        "id": "9D2ZarmUfiKN"
      },
      "execution_count": null,
      "outputs": []
    },
    {
      "cell_type": "code",
      "source": [
        "np.resize(a,(2,2))"
      ],
      "metadata": {
        "id": "8l1kzr8vHCQZ"
      },
      "execution_count": null,
      "outputs": []
    },
    {
      "cell_type": "code",
      "source": [
        "a"
      ],
      "metadata": {
        "id": "P8wLvPGJqnZl"
      },
      "execution_count": null,
      "outputs": []
    },
    {
      "cell_type": "code",
      "source": [
        "res = np.resize(a,(6,5))\n",
        "print(res)\n",
        "print(res.shape)"
      ],
      "metadata": {
        "id": "n8Dfr5GhHFW8"
      },
      "execution_count": null,
      "outputs": []
    },
    {
      "cell_type": "code",
      "source": [],
      "metadata": {
        "id": "v5VnRYGiHO9A"
      },
      "execution_count": null,
      "outputs": []
    },
    {
      "cell_type": "markdown",
      "source": [
        "4.2- Append"
      ],
      "metadata": {
        "id": "3wSo02DJHYyO"
      }
    },
    {
      "cell_type": "code",
      "source": [
        "a"
      ],
      "metadata": {
        "id": "OqnkpnvTIFcR"
      },
      "execution_count": null,
      "outputs": []
    },
    {
      "cell_type": "code",
      "source": [
        "np.append(a, [7,8,9])"
      ],
      "metadata": {
        "id": "86j3rOIxFars"
      },
      "execution_count": null,
      "outputs": []
    },
    {
      "cell_type": "code",
      "source": [
        "np.append(a, [[7,8,9]], axis=0)"
      ],
      "metadata": {
        "id": "dQT3H7wsHpNv"
      },
      "execution_count": null,
      "outputs": []
    },
    {
      "cell_type": "code",
      "source": [
        "a"
      ],
      "metadata": {
        "id": "m9TAHv615KV7"
      },
      "execution_count": null,
      "outputs": []
    },
    {
      "cell_type": "code",
      "source": [
        "np.append(a, [[7,8,9]], axis=1)"
      ],
      "metadata": {
        "id": "I3u8Bs7S5I0R"
      },
      "execution_count": null,
      "outputs": []
    },
    {
      "cell_type": "code",
      "source": [
        "a"
      ],
      "metadata": {
        "id": "rB6MxsX65ViA"
      },
      "execution_count": null,
      "outputs": []
    },
    {
      "cell_type": "code",
      "source": [
        "np.array([[10, 10, 10],[20,20, 20]]).shape"
      ],
      "metadata": {
        "id": "h6ISogjTrtm2"
      },
      "execution_count": null,
      "outputs": []
    },
    {
      "cell_type": "code",
      "source": [
        "np.append(a, [[10, 10, 10],[20,20, 20]], axis = 0)"
      ],
      "metadata": {
        "id": "PkpC_ae9r2tI"
      },
      "execution_count": null,
      "outputs": []
    },
    {
      "cell_type": "code",
      "source": [
        "np.append(a, [[10, 10],[20,20]], axis = 0)"
      ],
      "metadata": {
        "id": "XsdgC4oOHp0Z"
      },
      "execution_count": null,
      "outputs": []
    },
    {
      "cell_type": "code",
      "source": [
        "np.append(a, [[10],[20]], axis = 1)"
      ],
      "metadata": {
        "id": "5u9KiEjVsAFG"
      },
      "execution_count": null,
      "outputs": []
    },
    {
      "cell_type": "markdown",
      "source": [
        "**4.3**- Insert"
      ],
      "metadata": {
        "id": "ATJ-2h6II1iN"
      }
    },
    {
      "cell_type": "code",
      "source": [
        "a"
      ],
      "metadata": {
        "id": "ak4F-0d0IXJ3"
      },
      "execution_count": null,
      "outputs": []
    },
    {
      "cell_type": "code",
      "source": [
        "a.flatten()"
      ],
      "metadata": {
        "id": "B0KuwHkisRTD"
      },
      "execution_count": null,
      "outputs": []
    },
    {
      "cell_type": "code",
      "source": [
        "# # Array flattened before insert operation as axis not used\n",
        "\n",
        "np.insert(a , 2 , [1,1,1])"
      ],
      "metadata": {
        "id": "1p7xOi11IaD9"
      },
      "execution_count": null,
      "outputs": []
    },
    {
      "cell_type": "code",
      "source": [
        "a"
      ],
      "metadata": {
        "id": "1FiGKh0K5-Jt"
      },
      "execution_count": null,
      "outputs": []
    },
    {
      "cell_type": "code",
      "source": [
        "np.insert(a , 1 , [1,1,1], axis = 0)"
      ],
      "metadata": {
        "id": "iRWsIv73H2Ou"
      },
      "execution_count": null,
      "outputs": []
    },
    {
      "cell_type": "code",
      "source": [
        "a"
      ],
      "metadata": {
        "id": "IGz_li_qspMR"
      },
      "execution_count": null,
      "outputs": []
    },
    {
      "cell_type": "code",
      "source": [
        "np.insert(a , 2 ,[[1,1]], axis = 1)"
      ],
      "metadata": {
        "id": "ZK-98O27JXxO"
      },
      "execution_count": null,
      "outputs": []
    },
    {
      "cell_type": "markdown",
      "source": [
        "**4.4**- Delete"
      ],
      "metadata": {
        "id": "cvIsT-PyKFww"
      }
    },
    {
      "cell_type": "code",
      "source": [
        "a = np.arange(12).reshape(3,4)\n",
        "print(a)"
      ],
      "metadata": {
        "id": "bZzAfxNNJgFe"
      },
      "execution_count": null,
      "outputs": []
    },
    {
      "cell_type": "code",
      "source": [
        "a.flatten()"
      ],
      "metadata": {
        "id": "6Rp8qnSWtBn4"
      },
      "execution_count": null,
      "outputs": []
    },
    {
      "cell_type": "code",
      "source": [
        "# Array flattened before delete operation as axis not used\n",
        "np.delete(a,5)"
      ],
      "metadata": {
        "id": "iSSmGZhRKb45"
      },
      "execution_count": null,
      "outputs": []
    },
    {
      "cell_type": "code",
      "source": [
        "a"
      ],
      "metadata": {
        "id": "o9A0WOS9KnoT"
      },
      "execution_count": null,
      "outputs": []
    },
    {
      "cell_type": "code",
      "source": [
        "np.delete(a , 2 ,axis = 1)"
      ],
      "metadata": {
        "id": "TxOpazeRKj-I"
      },
      "execution_count": null,
      "outputs": []
    },
    {
      "cell_type": "code",
      "source": [
        "a"
      ],
      "metadata": {
        "id": "zf4BJV4dH949"
      },
      "execution_count": null,
      "outputs": []
    },
    {
      "cell_type": "code",
      "source": [
        "np.delete(a,2, axis=0)"
      ],
      "metadata": {
        "id": "eTwGLZRzKpEe"
      },
      "execution_count": null,
      "outputs": []
    },
    {
      "cell_type": "code",
      "source": [
        "a = np.arange(27).reshape(3,3,3)"
      ],
      "metadata": {
        "id": "raQVFwzBJ4yr"
      },
      "execution_count": null,
      "outputs": []
    },
    {
      "cell_type": "code",
      "source": [
        "print(a)\n",
        "print(a.shape)"
      ],
      "metadata": {
        "id": "5QTxslS6J8my"
      },
      "execution_count": null,
      "outputs": []
    },
    {
      "cell_type": "code",
      "source": [
        "# Delete from axis 0 will remove array with specified index\n",
        "outputArr = np.delete(a, 1 ,  axis=0)\n",
        "print(outputArr)\n",
        "print(outputArr.shape)"
      ],
      "metadata": {
        "id": "w8taJisuLI9_"
      },
      "execution_count": null,
      "outputs": []
    },
    {
      "cell_type": "code",
      "source": [
        "a"
      ],
      "metadata": {
        "id": "5UOTntWOupTu"
      },
      "execution_count": null,
      "outputs": []
    },
    {
      "cell_type": "code",
      "source": [
        "# Delete from axis 1 will remove row with specified index\n",
        "outputArr = np.delete(a, 1 ,  axis=1)\n",
        "print(outputArr)\n",
        "print(outputArr.shape)"
      ],
      "metadata": {
        "id": "gvDSYcJfLYnN"
      },
      "execution_count": null,
      "outputs": []
    },
    {
      "cell_type": "code",
      "source": [
        "a"
      ],
      "metadata": {
        "id": "Uw0umtVu-tI-"
      },
      "execution_count": null,
      "outputs": []
    },
    {
      "cell_type": "code",
      "source": [
        "# Delete from axis 2 will remove column with specified index\n",
        "outputArr = np.delete(a, 1 ,  axis=2)\n",
        "print(outputArr)\n",
        "print(outputArr.shape)"
      ],
      "metadata": {
        "id": "m1E5GEZoLYe3"
      },
      "execution_count": null,
      "outputs": []
    },
    {
      "cell_type": "code",
      "source": [
        "a = np.arange(125).reshape(5,5,5)\n",
        "print(a)\n",
        "print(a.shape)"
      ],
      "metadata": {
        "id": "ovAvv8naLxjW"
      },
      "execution_count": null,
      "outputs": []
    },
    {
      "cell_type": "code",
      "source": [
        "a.flatten()"
      ],
      "metadata": {
        "id": "BZ2Z1tbPvTOw"
      },
      "execution_count": null,
      "outputs": []
    },
    {
      "cell_type": "code",
      "source": [
        "# When don't use axis parameter input and output is a flattened array\n",
        "# Delete sub-array using slicing without detect axis\n",
        "outputArr = np.delete(a, np.s_[30:90:3])\n",
        "print(outputArr)\n",
        "print(outputArr.shape)"
      ],
      "metadata": {
        "id": "8tyFnjL8MEP2"
      },
      "execution_count": null,
      "outputs": []
    },
    {
      "cell_type": "code",
      "source": [
        "a"
      ],
      "metadata": {
        "id": "c8zCTZCFvliH"
      },
      "execution_count": null,
      "outputs": []
    },
    {
      "cell_type": "code",
      "source": [
        "# Delete sub-arrays using slicing with  axis 0\n",
        "outputArr = np.delete(a, np.s_[1::2] , axis=0)\n",
        "print(outputArr)\n",
        "print(outputArr.shape)"
      ],
      "metadata": {
        "id": "7LhieUE0Mi5U"
      },
      "execution_count": null,
      "outputs": []
    },
    {
      "cell_type": "code",
      "source": [
        "# Delete rows from all arrays\n",
        "outputArr = np.delete(a, np.s_[1::2] , axis=1)\n",
        "print(outputArr)\n",
        "print(outputArr.shape)"
      ],
      "metadata": {
        "id": "dq9ndERuLeyi"
      },
      "execution_count": null,
      "outputs": []
    },
    {
      "cell_type": "code",
      "source": [
        "# Delete columns from all arrays\n",
        "outputArr = np.delete(a, np.s_[1::2] , axis=2)\n",
        "print(outputArr)\n",
        "print(outputArr.shape)"
      ],
      "metadata": {
        "id": "aB-H9GNgNmry"
      },
      "execution_count": null,
      "outputs": []
    },
    {
      "cell_type": "markdown",
      "source": [
        "**4.5**- Unique"
      ],
      "metadata": {
        "id": "0HifA94cMWdE"
      }
    },
    {
      "cell_type": "code",
      "source": [
        "a = np.array([5,2,6,2,7,5,6,8,2,9,9,8,9])\n",
        "print(a)"
      ],
      "metadata": {
        "id": "QFFYb7F_Mc2j"
      },
      "execution_count": null,
      "outputs": []
    },
    {
      "cell_type": "code",
      "source": [
        "# Return list of unique values in an array\n",
        "# Will be flattened if not 1-D array\n",
        "np.unique(a)"
      ],
      "metadata": {
        "id": "RqdMp82EQObS"
      },
      "execution_count": null,
      "outputs": []
    },
    {
      "cell_type": "code",
      "source": [
        "# if return_index = True\n",
        "# Return unique values in an array and Indices array\n",
        "# returns the indices of elements in the input array\n",
        "np.unique(a, return_index = True)"
      ],
      "metadata": {
        "id": "PUMScD5HMcz-"
      },
      "execution_count": null,
      "outputs": []
    },
    {
      "cell_type": "code",
      "source": [
        "# if return_inverse = True\n",
        "# Return unique values in an array\n",
        "# returns the indices of unique array, which can be used to reconstruct the input array\n",
        "newArr, indecies = np.unique(a,return_inverse = True)"
      ],
      "metadata": {
        "id": "Xd2H50S0Q0Wl"
      },
      "execution_count": null,
      "outputs": []
    },
    {
      "cell_type": "code",
      "source": [
        "print(a)\n",
        "print()\n",
        "print(newArr)\n",
        "print()\n",
        "print(indecies)"
      ],
      "metadata": {
        "id": "DKyQClNNSEYM"
      },
      "execution_count": null,
      "outputs": []
    },
    {
      "cell_type": "code",
      "source": [
        "# Reconstruct the original array using indices\n",
        "newArr[indecies]"
      ],
      "metadata": {
        "id": "REdcHwFWR0jT"
      },
      "execution_count": null,
      "outputs": []
    },
    {
      "cell_type": "code",
      "source": [
        "# if return_counts = True\n",
        "# Return the count of repetitions of unique element\n",
        "# Rturns the number of times the element in unique array appears in the original array\n",
        "np.unique(a,return_counts = True)"
      ],
      "metadata": {
        "id": "3k8pjLnFSTvB"
      },
      "execution_count": null,
      "outputs": []
    },
    {
      "cell_type": "code",
      "source": [
        "uniArr, uniArrIndecies, revIndecies, uniCounter =  np.unique(a, return_index = True,return_inverse = True,return_counts = True)"
      ],
      "metadata": {
        "id": "6TEtDdxaMsIN"
      },
      "execution_count": null,
      "outputs": []
    },
    {
      "cell_type": "code",
      "source": [
        "print(\"original array :                           \", a )\n",
        "print(\"unique values :                            \" , uniArr)\n",
        "print(\"indeces for unique values :                \", uniArrIndecies)\n",
        "print(\"indecies for reconstruct original array :  \", revIndecies)\n",
        "print(\"number of repetitions for each values :    \", uniCounter)"
      ],
      "metadata": {
        "id": "9BpdoKa1S-Sr"
      },
      "execution_count": null,
      "outputs": []
    },
    {
      "cell_type": "code",
      "source": [
        "# Explain\n",
        "\n",
        "# original array :\n",
        "#   0   1   2   3   4   5   6   7   8   9  10   11  12\n",
        "# [ 5 , 2 , 6 , 2 , 7 , 5 , 6 , 8 , 2 , 9 , 9 ,  8 ,  9  ]\n",
        "\n",
        "\n",
        "# unique array\n",
        "#   0   1   2   3   4   5\n",
        "# [ 2 , 5 , 6 , 7 , 8 , 9 ]\n",
        "\n",
        "\n",
        "# indecies for unique values :\n",
        "#   0   1   2   3   4   5\n",
        "# [ 1 , 0 , 2 , 4 , 7 , 9 ]\n",
        "\n",
        "\n",
        "# indecies for reconstruct original array\n",
        "#   0   1   2   3   4   5   6   7   8   9  10   11  12\n",
        "# [ 1 , 0 , 2 , 0 , 3 , 1 , 2 , 4 , 0 , 5 , 5 , 4 , 5 ]\n",
        "\n",
        "\n",
        "# []\n",
        "\n",
        "# number of repetitions for each values :\n",
        "# unique array : [2 5 6 7 8 9]\n",
        "# repititions  : [3 2 2 1 2 3]\n"
      ],
      "metadata": {
        "id": "czpuIIenVc40"
      },
      "execution_count": null,
      "outputs": []
    },
    {
      "cell_type": "markdown",
      "source": [
        "# Arithmetic Operations"
      ],
      "metadata": {
        "id": "Miv_rzV_NfRa"
      }
    },
    {
      "cell_type": "code",
      "source": [
        "a = np.arange(9, dtype = np.float_).reshape(3,3)\n",
        "b = np.array([10,10,10])"
      ],
      "metadata": {
        "id": "tFC7MnKhNnt1"
      },
      "execution_count": null,
      "outputs": []
    },
    {
      "cell_type": "code",
      "source": [
        "print(a)\n",
        "print()\n",
        "print(\"=\" *30)\n",
        "print()\n",
        "print(b)"
      ],
      "metadata": {
        "id": "kySnnoc5YQxH"
      },
      "execution_count": null,
      "outputs": []
    },
    {
      "cell_type": "code",
      "source": [
        "print(\"Add the two arrays\")\n",
        "print(np.add(a,b) )\n",
        "print()\n",
        "\n",
        "print(\"Subtract the two arrays\")\n",
        "print(np.subtract(a,b))\n",
        "print()\n",
        "\n",
        "print(\"Multiply the two arrays\")\n",
        "print( np.multiply(a,b))\n",
        "print()\n",
        "\n",
        "print(\"Divide the two arrays\")\n",
        "print(np.divide(a,b))"
      ],
      "metadata": {
        "id": "DukvHQ4zX2Sk"
      },
      "execution_count": null,
      "outputs": []
    },
    {
      "cell_type": "code",
      "source": [],
      "metadata": {
        "id": "gkclVFdsYPK8"
      },
      "execution_count": null,
      "outputs": []
    },
    {
      "cell_type": "markdown",
      "source": [
        "# Statistical Functions"
      ],
      "metadata": {
        "id": "C7jfXYEreqSY"
      }
    },
    {
      "cell_type": "markdown",
      "source": [
        "Min & Max"
      ],
      "metadata": {
        "id": "26ri6LAWlRDg"
      }
    },
    {
      "cell_type": "code",
      "source": [
        "import numpy as np"
      ],
      "metadata": {
        "id": "lVSZJRrG96R3"
      },
      "execution_count": null,
      "outputs": []
    },
    {
      "cell_type": "code",
      "source": [
        "a = np.array([[3,40,5],[8,4,39],[-2,4,99]])\n",
        "print(a)\n",
        "print(a.shape)"
      ],
      "metadata": {
        "id": "jaFV8C5Eer3I",
        "colab": {
          "base_uri": "https://localhost:8080/"
        },
        "outputId": "c69b7f14-d13b-47cd-965a-885da31c8e97"
      },
      "execution_count": null,
      "outputs": [
        {
          "output_type": "stream",
          "name": "stdout",
          "text": [
            "[[ 3 40  5]\n",
            " [ 8  4 39]\n",
            " [-2  4 99]]\n",
            "(3, 3)\n"
          ]
        }
      ]
    },
    {
      "cell_type": "code",
      "source": [
        "# Get maximum value in array\n",
        "np.amax(a)"
      ],
      "metadata": {
        "id": "DtLbIj31er1J",
        "colab": {
          "base_uri": "https://localhost:8080/"
        },
        "outputId": "908fa2b9-0f4c-41ec-e248-d9e180926f5c"
      },
      "execution_count": null,
      "outputs": [
        {
          "output_type": "execute_result",
          "data": {
            "text/plain": [
              "99"
            ]
          },
          "metadata": {},
          "execution_count": 30
        }
      ]
    },
    {
      "cell_type": "code",
      "source": [
        "# Get maximum value in axis 0\n",
        "# Return maximum value in each column\n",
        "np.amax(a, axis=0)"
      ],
      "metadata": {
        "id": "8h9SzyOeerzA",
        "colab": {
          "base_uri": "https://localhost:8080/"
        },
        "outputId": "fb19a12f-388b-4534-cbd9-c2efbc44b2ae"
      },
      "execution_count": null,
      "outputs": [
        {
          "output_type": "execute_result",
          "data": {
            "text/plain": [
              "array([ 8, 40, 99])"
            ]
          },
          "metadata": {},
          "execution_count": 31
        }
      ]
    },
    {
      "cell_type": "code",
      "source": [
        "# Get maximum value in axis 1\n",
        "# Return maximum value in each row\n",
        "np.amax(a, axis=1)"
      ],
      "metadata": {
        "id": "F0ZyDAr-kOvz",
        "colab": {
          "base_uri": "https://localhost:8080/"
        },
        "outputId": "e93317c0-09b3-4b90-d1d6-b9e18bb03664"
      },
      "execution_count": null,
      "outputs": [
        {
          "output_type": "execute_result",
          "data": {
            "text/plain": [
              "array([40, 39, 99])"
            ]
          },
          "metadata": {},
          "execution_count": 32
        }
      ]
    },
    {
      "cell_type": "code",
      "source": [
        "# Get minimum value in array\n",
        "print(\"minimum value in all array \", np.amin(a))\n",
        "\n",
        "# Get minimum value in axis 0\n",
        "# Return minimum value in each column\n",
        "print(\"minimum value in each column\", np.amin(a, axis=0))\n",
        "\n",
        "# Get minimum value in axis 1\n",
        "# Return minimum value in each row\n",
        "print(\"minimum value in each row\", np.amin(a, axis=1))"
      ],
      "metadata": {
        "id": "zbZCYj4KjVOp",
        "colab": {
          "base_uri": "https://localhost:8080/"
        },
        "outputId": "74891589-03df-4c53-d50c-6941e5b06641"
      },
      "execution_count": null,
      "outputs": [
        {
          "output_type": "stream",
          "name": "stdout",
          "text": [
            "minimum value in all array  -2\n",
            "minimum value in each column [-2  4  5]\n",
            "minimum value in each row [ 3  4 -2]\n"
          ]
        }
      ]
    },
    {
      "cell_type": "code",
      "source": [
        "l = [[3,40,5],[8,4,39],[-2,4,99]]\n",
        "\n",
        "# 'list' object has no attribute 'max'\n",
        "#  if we use max() bulit-in function to try to get maximum value in the list\n",
        "max(l)\n",
        "\n",
        "# max() will return list that have max value in first index"
      ],
      "metadata": {
        "id": "zGoim762jT00",
        "colab": {
          "base_uri": "https://localhost:8080/"
        },
        "outputId": "bc85c54f-2cdd-4e51-80e6-c850c35eaf50"
      },
      "execution_count": null,
      "outputs": [
        {
          "output_type": "execute_result",
          "data": {
            "text/plain": [
              "[8, 4, 39]"
            ]
          },
          "metadata": {},
          "execution_count": 34
        }
      ]
    },
    {
      "cell_type": "markdown",
      "source": [
        "Median"
      ],
      "metadata": {
        "id": "6uQtaFkXlmCe"
      }
    },
    {
      "cell_type": "code",
      "source": [
        "a"
      ],
      "metadata": {
        "colab": {
          "base_uri": "https://localhost:8080/"
        },
        "id": "w3pLQmiu_mvg",
        "outputId": "3a3f52e8-cffb-45fc-db19-72598b5eb580"
      },
      "execution_count": null,
      "outputs": [
        {
          "output_type": "execute_result",
          "data": {
            "text/plain": [
              "array([[ 3, 40,  5],\n",
              "       [ 8,  4, 39],\n",
              "       [-2,  4, 99]])"
            ]
          },
          "metadata": {},
          "execution_count": 35
        }
      ]
    },
    {
      "cell_type": "code",
      "source": [
        "np.sort(a.flatten())"
      ],
      "metadata": {
        "id": "wblXv3JqmABw",
        "colab": {
          "base_uri": "https://localhost:8080/"
        },
        "outputId": "e8d1312a-5a26-400e-d50a-cebd3c444f01"
      },
      "execution_count": null,
      "outputs": [
        {
          "output_type": "execute_result",
          "data": {
            "text/plain": [
              "array([-2,  3,  4,  4,  5,  8, 39, 40, 99])"
            ]
          },
          "metadata": {},
          "execution_count": 36
        }
      ]
    },
    {
      "cell_type": "code",
      "source": [
        "print(\"Original array : \\n\",a)\n",
        "print()\n",
        "# Get median value\n",
        "print(\"Meadian value : \", np.median(a))\n",
        "print()\n",
        "\n",
        "# Get median value along axis 0\n",
        "print(\"Median value along axis 0 : \", np.median(a, axis = 0))\n",
        "print()\n",
        "\n",
        "# Get median value along axis 1\n",
        "print(\"Median value along axis 1 : \", np.median(a, axis = 1))"
      ],
      "metadata": {
        "id": "_ndf6Vwbl6Wo",
        "colab": {
          "base_uri": "https://localhost:8080/"
        },
        "outputId": "41901369-a38c-46d1-d7cd-23a89c9383b4"
      },
      "execution_count": null,
      "outputs": [
        {
          "output_type": "stream",
          "name": "stdout",
          "text": [
            "Original array : \n",
            " [[ 3 40  5]\n",
            " [ 8  4 39]\n",
            " [-2  4 99]]\n",
            "\n",
            "Meadian value :  5.0\n",
            "\n",
            "Median value along axis 0 :  [ 3.  4. 39.]\n",
            "\n",
            "Median value along axis 1 :  [5. 8. 4.]\n"
          ]
        }
      ]
    },
    {
      "cell_type": "markdown",
      "source": [
        "Mean"
      ],
      "metadata": {
        "id": "1-T1alvGmpVR"
      }
    },
    {
      "cell_type": "code",
      "source": [
        "print(\"mean value for all values in array : \", np.mean(a))\n",
        "print(\"mean value for values along axis 0 : \", np.mean(a, axis = 0))\n",
        "print(\"mean value for values along axis 1 : \", np.mean(a, axis = 1))"
      ],
      "metadata": {
        "id": "K88v6p4jmb18",
        "colab": {
          "base_uri": "https://localhost:8080/"
        },
        "outputId": "2e878401-a309-4f91-ac96-d517a569b43b"
      },
      "execution_count": null,
      "outputs": [
        {
          "output_type": "stream",
          "name": "stdout",
          "text": [
            "mean value for all values in array :  22.22222222222222\n",
            "mean value for values along axis 0 :  [ 3.         16.         47.66666667]\n",
            "mean value for values along axis 1 :  [16.         17.         33.66666667]\n"
          ]
        }
      ]
    },
    {
      "cell_type": "code",
      "source": [],
      "metadata": {
        "id": "SliAIQS-oAOF"
      },
      "execution_count": null,
      "outputs": []
    },
    {
      "cell_type": "markdown",
      "source": [
        "Average"
      ],
      "metadata": {
        "id": "2x2YIZMupZJu"
      }
    },
    {
      "cell_type": "code",
      "source": [
        "a = np.array([5,9,3,4,6,7])"
      ],
      "metadata": {
        "id": "-Y6XsHhNpawA"
      },
      "execution_count": null,
      "outputs": []
    },
    {
      "cell_type": "code",
      "source": [
        "# Get average for values in array\n",
        "np.average(a)\n",
        "\n",
        "# (5 + 9 + 3 + 4 + 6 + 7)/ 6"
      ],
      "metadata": {
        "id": "pzfjOslWq-TH",
        "colab": {
          "base_uri": "https://localhost:8080/"
        },
        "outputId": "c80a3407-7ac1-4131-b8a5-94dec697e7bf"
      },
      "execution_count": null,
      "outputs": [
        {
          "output_type": "execute_result",
          "data": {
            "text/plain": [
              "5.666666666666667"
            ]
          },
          "metadata": {},
          "execution_count": 40
        }
      ]
    },
    {
      "cell_type": "code",
      "source": [
        "# Average function has weights attribute\n",
        "# where the weight for each value will be computed as the following\n",
        "\n",
        "np.average(a, weights=[1, 5, 3 ,7, 5, 9])\n",
        "\n",
        "# ( ( 5 * 1) + ( 9 * 5 ) + ( 3 * 3 ) + ( 4 * 7) + ( 6 * 5 ) + ( 7 * 9 ) ) / (1 + 5 + 3 + 7 + 5 + 9)"
      ],
      "metadata": {
        "id": "ck66Y7Gspatz",
        "colab": {
          "base_uri": "https://localhost:8080/"
        },
        "outputId": "1ce955c7-a8a4-4c89-8878-a97580a71ee8"
      },
      "execution_count": null,
      "outputs": [
        {
          "output_type": "execute_result",
          "data": {
            "text/plain": [
              "6.0"
            ]
          },
          "metadata": {},
          "execution_count": 41
        }
      ]
    },
    {
      "cell_type": "code",
      "source": [
        "( ( 5 * 1) + ( 9 * 5 ) + ( 3 * 3 ) + ( 4 * 7) + ( 6 * 5 ) + ( 7 * 9 ) ) / (1 + 5 + 3 + 7 + 5 + 9)"
      ],
      "metadata": {
        "colab": {
          "base_uri": "https://localhost:8080/"
        },
        "id": "VuovXS945col",
        "outputId": "46c44041-9c75-4b5f-d96e-6ff4d42ae3bd"
      },
      "execution_count": null,
      "outputs": [
        {
          "output_type": "execute_result",
          "data": {
            "text/plain": [
              "6.0"
            ]
          },
          "metadata": {},
          "execution_count": 42
        }
      ]
    },
    {
      "cell_type": "code",
      "source": [
        "# In a multi-dimensional array, the axis for computation can be specified\n",
        "\n",
        "a = np.arange(9).reshape(3,3)\n",
        "print(\"array : \\n\", a)\n",
        "print()\n",
        "\n",
        "w = [10, 5, 9]\n",
        "print(\"wigths : \", w)\n",
        "print()\n",
        "\n",
        "\n",
        "print(\"Weighted average along axis 0 : \", np.average(a, weights=w, axis = 0))\n",
        "print()\n",
        "\n",
        "\n",
        "print(\"Weighted average along axis 1 : \", np.average(a, weights=w, axis = 1))\n"
      ],
      "metadata": {
        "id": "xxKwousxq9ci",
        "colab": {
          "base_uri": "https://localhost:8080/"
        },
        "outputId": "07bb884a-914c-4847-e003-f926aaa09be3"
      },
      "execution_count": null,
      "outputs": [
        {
          "output_type": "stream",
          "name": "stdout",
          "text": [
            "array : \n",
            " [[0 1 2]\n",
            " [3 4 5]\n",
            " [6 7 8]]\n",
            "\n",
            "wigths :  [10, 5, 9]\n",
            "\n",
            "Weighted average along axis 0 :  [2.875 3.875 4.875]\n",
            "\n",
            "Weighted average along axis 1 :  [0.95833333 3.95833333 6.95833333]\n"
          ]
        }
      ]
    },
    {
      "cell_type": "code",
      "source": [
        "np.average( np.array([0, 1 ,2]), weights=[10, 5, 9])"
      ],
      "metadata": {
        "id": "_vG79GbGuNCN",
        "colab": {
          "base_uri": "https://localhost:8080/"
        },
        "outputId": "33b06c2d-0c2b-4019-8221-8eebf52209be"
      },
      "execution_count": null,
      "outputs": [
        {
          "output_type": "execute_result",
          "data": {
            "text/plain": [
              "0.9583333333333334"
            ]
          },
          "metadata": {},
          "execution_count": 44
        }
      ]
    },
    {
      "cell_type": "code",
      "source": [
        "( ( 2 * 10 ) + ( 5 * 5 ) + ( 8 * 9 ) )/ ( 10 + 5 + 9)"
      ],
      "metadata": {
        "id": "h4c_HQd8swbg",
        "colab": {
          "base_uri": "https://localhost:8080/"
        },
        "outputId": "491f1de2-e983-4897-d7cb-244b2d8155b3"
      },
      "execution_count": null,
      "outputs": [
        {
          "output_type": "execute_result",
          "data": {
            "text/plain": [
              "4.875"
            ]
          },
          "metadata": {},
          "execution_count": 45
        }
      ]
    },
    {
      "cell_type": "markdown",
      "source": [
        "Variance & Standard Deviation"
      ],
      "metadata": {
        "id": "huWKXGbCtgUT"
      }
    },
    {
      "cell_type": "code",
      "source": [
        "print(\"array : \", a)\n",
        "print()\n",
        "\n",
        "\n",
        "# Variance formula\n",
        "# mean(abs(x - x.mean())**2)\n",
        "print(\"Variance value for \", np.var(a))\n",
        "\n",
        "# Standard deviation formula\n",
        "# std = sqrt(mean(abs(x - x.mean())**2))\n",
        "print(\"Standard deviation value : \", np.std(a))\n"
      ],
      "metadata": {
        "id": "1cT-QH3CvFf4",
        "colab": {
          "base_uri": "https://localhost:8080/"
        },
        "outputId": "23927e36-d679-4fb8-c385-fc3d5a7621c9"
      },
      "execution_count": null,
      "outputs": [
        {
          "output_type": "stream",
          "name": "stdout",
          "text": [
            "array :  [[0 1 2]\n",
            " [3 4 5]\n",
            " [6 7 8]]\n",
            "\n",
            "Variance value for  6.666666666666667\n",
            "Standard deviation value :  2.581988897471611\n"
          ]
        }
      ]
    },
    {
      "cell_type": "markdown",
      "source": [
        "# NumPy I/O"
      ],
      "metadata": {
        "id": "npydgntFw3lg"
      }
    },
    {
      "cell_type": "markdown",
      "source": [
        "Save array as npy file"
      ],
      "metadata": {
        "id": "TG0zmyXVxA7e"
      }
    },
    {
      "cell_type": "code",
      "source": [
        "a"
      ],
      "metadata": {
        "colab": {
          "base_uri": "https://localhost:8080/"
        },
        "id": "qJCt9Y-i6cL3",
        "outputId": "1dde5953-a366-4a8a-8883-00f122c41f27"
      },
      "execution_count": null,
      "outputs": [
        {
          "output_type": "execute_result",
          "data": {
            "text/plain": [
              "array([[0, 1, 2],\n",
              "       [3, 4, 5],\n",
              "       [6, 7, 8]])"
            ]
          },
          "metadata": {},
          "execution_count": 47
        }
      ]
    },
    {
      "cell_type": "code",
      "source": [
        "# Save array in a disk file with npy extension\n",
        "np.save(\"output_array\", a)"
      ],
      "metadata": {
        "id": "XUjIY6yCthOr"
      },
      "execution_count": null,
      "outputs": []
    },
    {
      "cell_type": "code",
      "source": [
        "# Load array from npy file\n",
        "arr = np.load(\"output_array.npy\")"
      ],
      "metadata": {
        "id": "6cJUKah3wEgw"
      },
      "execution_count": null,
      "outputs": []
    },
    {
      "cell_type": "code",
      "source": [
        "arr"
      ],
      "metadata": {
        "id": "So0veTHXxrcm",
        "colab": {
          "base_uri": "https://localhost:8080/"
        },
        "outputId": "5426296a-d862-4f4b-da23-8d21e2880de6"
      },
      "execution_count": null,
      "outputs": [
        {
          "output_type": "execute_result",
          "data": {
            "text/plain": [
              "array([[0, 1, 2],\n",
              "       [3, 4, 5],\n",
              "       [6, 7, 8]])"
            ]
          },
          "metadata": {},
          "execution_count": 50
        }
      ]
    },
    {
      "cell_type": "code",
      "source": [],
      "metadata": {
        "id": "gcIeiMB79I9W"
      },
      "execution_count": null,
      "outputs": []
    }
  ]
}