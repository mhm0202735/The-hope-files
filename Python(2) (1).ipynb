{
  "cells": [
    {
      "cell_type": "markdown",
      "metadata": {
        "id": "TML49MAghvbr"
      },
      "source": [
        "## **Basic Syntax**"
      ]
    },
    {
      "cell_type": "code",
      "execution_count": null,
      "metadata": {
        "id": "GWGxJHB2fsqt"
      },
      "outputs": [],
      "source": [
        "print('Welcome to Machine Learning Course')"
      ]
    },
    {
      "cell_type": "code",
      "execution_count": null,
      "metadata": {
        "id": "8jdRqgFvjt26"
      },
      "outputs": [],
      "source": [
        "print(\"Welcome to Machine Learning Course \\\n",
        "Welcome to Machine Learning Course     \\\n",
        "Welcome to Machine Learning Course Welcome to Machine Learning Course\")"
      ]
    },
    {
      "cell_type": "code",
      "execution_count": null,
      "metadata": {
        "id": "AFNoXslggn3V"
      },
      "outputs": [],
      "source": [
        "print(\"Welcome \\t to Machine Learning Course \\n  Hello everyone\")"
      ]
    },
    {
      "cell_type": "code",
      "source": [
        "print(\" Welcome to Machine Learning Course\\\n",
        "        Hello everyone \\\n",
        "\\\n",
        "        Mahmmoud\\\n",
        "        \\\n",
        "        \"\n",
        "        )"
      ],
      "metadata": {
        "id": "N0z7I6nmCPBe"
      },
      "execution_count": null,
      "outputs": []
    },
    {
      "cell_type": "code",
      "execution_count": null,
      "metadata": {
        "id": "muSTLtZygedX"
      },
      "outputs": [],
      "source": [
        "print(\"\"\" Welcome to Machine Learning Course\n",
        "        Hello everyone\n",
        "\n",
        "        Mahmmoud\n",
        "\n",
        "        \"\"\"\n",
        "        )"
      ]
    },
    {
      "cell_type": "code",
      "execution_count": null,
      "metadata": {
        "id": "hPMZpfm_bHlA"
      },
      "outputs": [],
      "source": [
        "print(\"Welcome\", \"to\", \"Machine\", \"Learning\", \"Course\")"
      ]
    },
    {
      "cell_type": "code",
      "execution_count": null,
      "metadata": {
        "id": "JfXERtNBhdUl"
      },
      "outputs": [],
      "source": [
        "print(\"Welcome\", \"to\", \"Machine\", \"Learning\", \"Course\", sep=\" \")"
      ]
    },
    {
      "cell_type": "code",
      "source": [
        "print(\"Welcome\", \"to\", \"Machine\", \"Learning\", \"Course\", sep=\"=\")"
      ],
      "metadata": {
        "id": "lB5hvdeA6KGZ"
      },
      "execution_count": null,
      "outputs": []
    },
    {
      "cell_type": "code",
      "source": [
        "print(\"Welcome\"+\"to\"+ \"Machine\"+ \"Learning\"+ \"Course\", sep=\"_\")"
      ],
      "metadata": {
        "id": "UJ8ZFXyqDQiZ"
      },
      "execution_count": null,
      "outputs": []
    },
    {
      "cell_type": "code",
      "execution_count": null,
      "metadata": {
        "id": "Y_TCu9Z0oCXM"
      },
      "outputs": [],
      "source": [
        "print(\"Welcome\"+\"to\"+ \"Machine\"+ \"Learning\"+ \"Course\")"
      ]
    },
    {
      "cell_type": "code",
      "source": [
        "print(\"Welcome\"+ \"to\"+ \"Machine\"+ \"Learning\"+ \"Course\", \"TEST\")"
      ],
      "metadata": {
        "id": "RDJRUoO3spQr"
      },
      "execution_count": null,
      "outputs": []
    },
    {
      "cell_type": "code",
      "execution_count": null,
      "metadata": {
        "id": "OcYLlaw7hojy"
      },
      "outputs": [],
      "source": [
        "print(\"Welcome\"+ \"to\"+ \"Machine\"+ \"Learning\"+ \"Course\", \"TEST\", sep=\"-\")"
      ]
    },
    {
      "cell_type": "code",
      "source": [
        "print(\"TEST\", \"Welcome\"+ \"to\"+ \"Machine\"+ \"Learning\"+ \"Course\", \"TEST\", sep=\"-\")\n",
        "\n",
        "# Output: TEST-WelcometoMachineLearningCourse-TEST"
      ],
      "metadata": {
        "id": "L80aKZvfpnzA"
      },
      "execution_count": null,
      "outputs": []
    },
    {
      "cell_type": "code",
      "execution_count": null,
      "metadata": {
        "id": "Utis2DAS8Hji"
      },
      "outputs": [],
      "source": [
        "print(\"Welcome\"+ \"to\"+ \"Machine\"+ \"Learning\"+ \"Course\")\n",
        "print(\"Welcome\"+ \"to\"+ \"Machine\"+ \"Learning\"+ \"Course\")\n",
        "print(\"Welcome\"+ \"to\"+ \"Machine\"+ \"Learning\"+ \"Course\")"
      ]
    },
    {
      "cell_type": "code",
      "source": [
        "print(\"Welcome\"+ \"to\"+ \"Machine\"+ \"Learning\"+ \"Course\", end=\"\\n\")\n",
        "print(\"Welcome\"+ \"to\"+ \"Machine\"+ \"Learning\"+ \"Course\", end=\"\\n\")\n",
        "print(\"Welcome\"+ \"to\"+ \"Machine\"+ \"Learning\"+ \"Course\")"
      ],
      "metadata": {
        "id": "T9YWDvYAt84j"
      },
      "execution_count": null,
      "outputs": []
    },
    {
      "cell_type": "code",
      "source": [
        "print(\"Welcome\"+ \"to\"+ \"Machine\"+ \"Learning\"+ \"Course\", end=\" \")\n",
        "print(\"Welcome\"+ \"to\"+ \"Machine\"+ \"Learning\"+ \"Course\")"
      ],
      "metadata": {
        "id": "miOcF143tiuL"
      },
      "execution_count": null,
      "outputs": []
    },
    {
      "cell_type": "code",
      "source": [],
      "metadata": {
        "id": "h6094IYmt7bE"
      },
      "execution_count": null,
      "outputs": []
    },
    {
      "cell_type": "code",
      "source": [
        "print(\"Welcome\"+ \"to\"+ \"Machine\"+ \"Learning\"+ \"Course\", end=\"_\")\n",
        "print(\"Welcome\"+ \"to\"+ \"Machine\"+ \"Learning\"+ \"Course\")"
      ],
      "metadata": {
        "id": "Gf2xUaP3trrX"
      },
      "execution_count": null,
      "outputs": []
    },
    {
      "cell_type": "code",
      "execution_count": null,
      "metadata": {
        "id": "nLP2y6qroCTp"
      },
      "outputs": [],
      "source": [
        "print(\"Welcome\"+ \"to\"+ \"Machine\"+ \"Learning\"+ \"Course\",end=\" \")\n",
        "print(\"Welcome\"+ \"to\"+ \"Machine\"+ \"Learning\"+ \"Course\", end=\"\\n\\n\")\n",
        "print(\"Welcome\"+ \"to\"+ \"Machine\"+ \"Learning\"+ \"Course\", end=\"#\")\n",
        "print(\"Welcome\"+ \"to\"+ \"Machine\"+ \"Learning\"+ \"Course\")"
      ]
    },
    {
      "cell_type": "code",
      "source": [
        "print(\"Welcome\", \"to\", \"Machine\", \"Learning\", \"Course\", sep = \"_\", end=\" \")\n",
        "print(\"Welcome\"+ \"to\"+ \"Machine\"+ \"Learning\"+ \"Course\", sep = \"_\", end=\"\\n\\n\")\n",
        "print(\"Welcome\"+ \"to\"+ \"Machine\"+ \"Learning\"+ \"Course\", end=\"#\")\n",
        "print(\"Welcome\"+ \"to\"+ \"Machine\"+ \"Learning\"+ \"Course\")"
      ],
      "metadata": {
        "id": "TA_G2d3R8QJE"
      },
      "execution_count": null,
      "outputs": []
    },
    {
      "cell_type": "code",
      "source": [
        "input()"
      ],
      "metadata": {
        "id": "xkOifT4_u5xf"
      },
      "execution_count": null,
      "outputs": []
    },
    {
      "cell_type": "code",
      "source": [
        "input('Enter you name : ')"
      ],
      "metadata": {
        "id": "tRZqWgkxYmBH"
      },
      "execution_count": null,
      "outputs": []
    },
    {
      "cell_type": "code",
      "source": [
        "input(\"Enter you age : \")"
      ],
      "metadata": {
        "id": "HXFgT8Y4Y3EU"
      },
      "execution_count": null,
      "outputs": []
    },
    {
      "cell_type": "markdown",
      "metadata": {
        "id": "A1EkQLIPiaeK"
      },
      "source": [
        "# **Comment**"
      ]
    },
    {
      "cell_type": "code",
      "source": [
        "# This input for age\n",
        "input()"
      ],
      "metadata": {
        "id": "gKIFOvgGwBD3"
      },
      "execution_count": null,
      "outputs": []
    },
    {
      "cell_type": "code",
      "execution_count": null,
      "metadata": {
        "id": "esdk9qzmoCRN"
      },
      "outputs": [],
      "source": [
        "# print(\"Hi\")"
      ]
    },
    {
      "cell_type": "code",
      "source": [
        "\n",
        "\"\"\"This code will do the follwing\n",
        "\n",
        "1- Recieve data\n",
        "2- process data\n",
        "3- save data into database\n",
        "\"\"\"\n",
        "\n",
        "print(\"recieve data\")"
      ],
      "metadata": {
        "id": "2fLpUj5Uwb1z"
      },
      "execution_count": null,
      "outputs": []
    },
    {
      "cell_type": "code",
      "source": [
        "5"
      ],
      "metadata": {
        "id": "qWb4W83CvXEL"
      },
      "execution_count": null,
      "outputs": []
    },
    {
      "cell_type": "code",
      "execution_count": null,
      "metadata": {
        "id": "l8qqC84Beguo"
      },
      "outputs": [],
      "source": [
        "\"\"\"\n",
        "counter = 0\n",
        "print()\n",
        "if counter == 0 :\n",
        "  print(True)\n",
        "else :\n",
        "  print(False)\n",
        "\"\"\""
      ]
    },
    {
      "cell_type": "markdown",
      "source": [
        "![comments meme.jpeg](data:image/jpeg;base64,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)"
      ],
      "metadata": {
        "id": "jshBYlV3uT_i"
      }
    },
    {
      "cell_type": "markdown",
      "metadata": {
        "id": "S3Kk4rEMs8fR"
      },
      "source": [
        "# **Variables**"
      ]
    },
    {
      "cell_type": "code",
      "source": [
        "x = 10\n",
        "X = 20"
      ],
      "metadata": {
        "id": "jH3ZjWgIZh1T"
      },
      "execution_count": 2,
      "outputs": []
    },
    {
      "cell_type": "code",
      "source": [
        "x"
      ],
      "metadata": {
        "id": "I6iocKQEzSIH",
        "colab": {
          "base_uri": "https://localhost:8080/"
        },
        "outputId": "19196474-998d-4192-c906-a6ba7297bbce"
      },
      "execution_count": 5,
      "outputs": [
        {
          "output_type": "execute_result",
          "data": {
            "text/plain": [
              "10"
            ]
          },
          "metadata": {},
          "execution_count": 5
        }
      ]
    },
    {
      "cell_type": "code",
      "source": [
        "print(X)"
      ],
      "metadata": {
        "id": "MxT2v2RBd8h1",
        "colab": {
          "base_uri": "https://localhost:8080/"
        },
        "outputId": "5d8fc172-59b3-445e-ad8d-7e1d84af7875"
      },
      "execution_count": 6,
      "outputs": [
        {
          "output_type": "stream",
          "name": "stdout",
          "text": [
            "20\n"
          ]
        }
      ]
    },
    {
      "cell_type": "code",
      "execution_count": 7,
      "metadata": {
        "id": "SxtWWzAEtCcy"
      },
      "outputs": [],
      "source": [
        "y = z = f= 50"
      ]
    },
    {
      "cell_type": "code",
      "source": [
        "print(y)\n",
        "print(z)\n",
        "print(f)"
      ],
      "metadata": {
        "id": "d1jN1YXuvsx4",
        "colab": {
          "base_uri": "https://localhost:8080/"
        },
        "outputId": "6a5dad0c-789e-445e-d76c-8be77907608c"
      },
      "execution_count": 8,
      "outputs": [
        {
          "output_type": "stream",
          "name": "stdout",
          "text": [
            "50\n",
            "50\n",
            "50\n"
          ]
        }
      ]
    },
    {
      "cell_type": "code",
      "source": [
        "a= 70\n",
        "b=\"80\"\n",
        "c=90.0"
      ],
      "metadata": {
        "id": "pH6aHVEr7Oap"
      },
      "execution_count": 9,
      "outputs": []
    },
    {
      "cell_type": "code",
      "execution_count": 10,
      "metadata": {
        "id": "IJQZYBZztOgf"
      },
      "outputs": [],
      "source": [
        "a,b,c = 70, \"80\", 90.0"
      ]
    },
    {
      "cell_type": "code",
      "source": [
        "b"
      ],
      "metadata": {
        "id": "pVPUlhqjv8sM",
        "colab": {
          "base_uri": "https://localhost:8080/",
          "height": 35
        },
        "outputId": "40c87580-7a12-404b-eec4-b8cc8d2f3505"
      },
      "execution_count": 11,
      "outputs": [
        {
          "output_type": "execute_result",
          "data": {
            "text/plain": [
              "'80'"
            ],
            "application/vnd.google.colaboratory.intrinsic+json": {
              "type": "string"
            }
          },
          "metadata": {},
          "execution_count": 11
        }
      ]
    },
    {
      "cell_type": "code",
      "source": [
        "int(b)"
      ],
      "metadata": {
        "id": "LCFBJpxb7nnx",
        "colab": {
          "base_uri": "https://localhost:8080/"
        },
        "outputId": "e245eec7-9391-4c0b-fe33-d22d9228064d"
      },
      "execution_count": 12,
      "outputs": [
        {
          "output_type": "execute_result",
          "data": {
            "text/plain": [
              "80"
            ]
          },
          "metadata": {},
          "execution_count": 12
        }
      ]
    },
    {
      "cell_type": "code",
      "source": [
        "b"
      ],
      "metadata": {
        "id": "7XVf3mEDp3C1",
        "colab": {
          "base_uri": "https://localhost:8080/",
          "height": 35
        },
        "outputId": "0c68fdb2-6f1c-45fb-c439-22cdf0dbb6a2"
      },
      "execution_count": 13,
      "outputs": [
        {
          "output_type": "execute_result",
          "data": {
            "text/plain": [
              "'80'"
            ],
            "application/vnd.google.colaboratory.intrinsic+json": {
              "type": "string"
            }
          },
          "metadata": {},
          "execution_count": 13
        }
      ]
    },
    {
      "cell_type": "code",
      "execution_count": 14,
      "metadata": {
        "id": "AQbeKpsatf_X"
      },
      "outputs": [],
      "source": [
        "int_b = int(b) # Convert data type from str to int"
      ]
    },
    {
      "cell_type": "code",
      "source": [
        "type(b)"
      ],
      "metadata": {
        "id": "7uCqzW4pqGSQ",
        "colab": {
          "base_uri": "https://localhost:8080/"
        },
        "outputId": "9ba3de62-5ff6-4bb2-c829-9f5f9f9436ee"
      },
      "execution_count": 15,
      "outputs": [
        {
          "output_type": "execute_result",
          "data": {
            "text/plain": [
              "str"
            ]
          },
          "metadata": {},
          "execution_count": 15
        }
      ]
    },
    {
      "cell_type": "code",
      "source": [
        "type(int_b)"
      ],
      "metadata": {
        "id": "sw9xCPSYeXob",
        "colab": {
          "base_uri": "https://localhost:8080/"
        },
        "outputId": "5273c22c-f4ae-43f6-ea62-26a983dc56cb"
      },
      "execution_count": 16,
      "outputs": [
        {
          "output_type": "execute_result",
          "data": {
            "text/plain": [
              "int"
            ]
          },
          "metadata": {},
          "execution_count": 16
        }
      ]
    },
    {
      "cell_type": "code",
      "source": [
        "c"
      ],
      "metadata": {
        "id": "1E2Gp0wjLJkK",
        "colab": {
          "base_uri": "https://localhost:8080/"
        },
        "outputId": "05d91a34-8b4d-4aff-f3f7-e27a75c4d016"
      },
      "execution_count": 17,
      "outputs": [
        {
          "output_type": "execute_result",
          "data": {
            "text/plain": [
              "90.0"
            ]
          },
          "metadata": {},
          "execution_count": 17
        }
      ]
    },
    {
      "cell_type": "code",
      "source": [
        "type(c)"
      ],
      "metadata": {
        "id": "lYZVFwnl0Cti",
        "colab": {
          "base_uri": "https://localhost:8080/"
        },
        "outputId": "3b5ecdfc-0680-4b21-a040-b2143e5d779f"
      },
      "execution_count": 18,
      "outputs": [
        {
          "output_type": "execute_result",
          "data": {
            "text/plain": [
              "float"
            ]
          },
          "metadata": {},
          "execution_count": 18
        }
      ]
    },
    {
      "cell_type": "code",
      "source": [
        "int(c)"
      ],
      "metadata": {
        "id": "4q5vFMg5wa2h",
        "colab": {
          "base_uri": "https://localhost:8080/"
        },
        "outputId": "79efaa94-245e-471e-ac9f-627c0f321e2b"
      },
      "execution_count": 19,
      "outputs": [
        {
          "output_type": "execute_result",
          "data": {
            "text/plain": [
              "90"
            ]
          },
          "metadata": {},
          "execution_count": 19
        }
      ]
    },
    {
      "cell_type": "code",
      "source": [
        "d = \"60.9\""
      ],
      "metadata": {
        "id": "Lj_wFZGOezdy"
      },
      "execution_count": 20,
      "outputs": []
    },
    {
      "cell_type": "code",
      "source": [
        "float(d)"
      ],
      "metadata": {
        "id": "BnEslzR8w5gg",
        "colab": {
          "base_uri": "https://localhost:8080/"
        },
        "outputId": "97c94bb3-33af-4467-ea31-667837246954"
      },
      "execution_count": 21,
      "outputs": [
        {
          "output_type": "execute_result",
          "data": {
            "text/plain": [
              "60.9"
            ]
          },
          "metadata": {},
          "execution_count": 21
        }
      ]
    },
    {
      "cell_type": "code",
      "source": [
        "d"
      ],
      "metadata": {
        "colab": {
          "base_uri": "https://localhost:8080/",
          "height": 35
        },
        "id": "Sq37bkAN0N04",
        "outputId": "506921fb-b89c-4e81-9904-9069e74e816e"
      },
      "execution_count": 22,
      "outputs": [
        {
          "output_type": "execute_result",
          "data": {
            "text/plain": [
              "'60.9'"
            ],
            "application/vnd.google.colaboratory.intrinsic+json": {
              "type": "string"
            }
          },
          "metadata": {},
          "execution_count": 22
        }
      ]
    },
    {
      "cell_type": "code",
      "source": [
        "int(d)"
      ],
      "metadata": {
        "colab": {
          "base_uri": "https://localhost:8080/",
          "height": 170
        },
        "id": "P5yIoqjg0AFd",
        "outputId": "0e2314d5-60ab-43de-d744-4f59cd96810a"
      },
      "execution_count": 23,
      "outputs": [
        {
          "output_type": "error",
          "ename": "ValueError",
          "evalue": "ignored",
          "traceback": [
            "\u001b[0;31m---------------------------------------------------------------------------\u001b[0m",
            "\u001b[0;31mValueError\u001b[0m                                Traceback (most recent call last)",
            "\u001b[0;32m<ipython-input-23-31e21d3d77e6>\u001b[0m in \u001b[0;36m<cell line: 1>\u001b[0;34m()\u001b[0m\n\u001b[0;32m----> 1\u001b[0;31m \u001b[0mint\u001b[0m\u001b[0;34m(\u001b[0m\u001b[0md\u001b[0m\u001b[0;34m)\u001b[0m\u001b[0;34m\u001b[0m\u001b[0;34m\u001b[0m\u001b[0m\n\u001b[0m",
            "\u001b[0;31mValueError\u001b[0m: invalid literal for int() with base 10: '60.9'"
          ]
        }
      ]
    },
    {
      "cell_type": "code",
      "source": [],
      "metadata": {
        "id": "fQrZYmW3z_8c"
      },
      "execution_count": null,
      "outputs": []
    },
    {
      "cell_type": "code",
      "source": [
        "int(float(d))"
      ],
      "metadata": {
        "id": "UovsbIE4e3UA",
        "colab": {
          "base_uri": "https://localhost:8080/"
        },
        "outputId": "f6a06694-d496-45ce-f8da-fd338fa677b4"
      },
      "execution_count": 24,
      "outputs": [
        {
          "output_type": "execute_result",
          "data": {
            "text/plain": [
              "60"
            ]
          },
          "metadata": {},
          "execution_count": 24
        }
      ]
    },
    {
      "cell_type": "code",
      "source": [
        "# Error\n",
        "# int(\"50.0\")\n",
        "int(float(\"50.0\"))"
      ],
      "metadata": {
        "id": "qjBxYjRpZ701",
        "colab": {
          "base_uri": "https://localhost:8080/"
        },
        "outputId": "092d47e3-8760-4dae-8545-2c930b23618b"
      },
      "execution_count": 26,
      "outputs": [
        {
          "output_type": "execute_result",
          "data": {
            "text/plain": [
              "50"
            ]
          },
          "metadata": {},
          "execution_count": 26
        }
      ]
    },
    {
      "cell_type": "code",
      "source": [
        "# Error\n",
        "float(\"50a\")"
      ],
      "metadata": {
        "id": "AJYFr1ZlZ7n5",
        "colab": {
          "base_uri": "https://localhost:8080/",
          "height": 187
        },
        "outputId": "144f7a1b-bfb9-4d35-f10b-137cc3ba12c9"
      },
      "execution_count": 27,
      "outputs": [
        {
          "output_type": "error",
          "ename": "ValueError",
          "evalue": "ignored",
          "traceback": [
            "\u001b[0;31m---------------------------------------------------------------------------\u001b[0m",
            "\u001b[0;31mValueError\u001b[0m                                Traceback (most recent call last)",
            "\u001b[0;32m<ipython-input-27-51274d23fa28>\u001b[0m in \u001b[0;36m<cell line: 2>\u001b[0;34m()\u001b[0m\n\u001b[1;32m      1\u001b[0m \u001b[0;31m# Error\u001b[0m\u001b[0;34m\u001b[0m\u001b[0;34m\u001b[0m\u001b[0m\n\u001b[0;32m----> 2\u001b[0;31m \u001b[0mfloat\u001b[0m\u001b[0;34m(\u001b[0m\u001b[0;34m\"50a\"\u001b[0m\u001b[0;34m)\u001b[0m\u001b[0;34m\u001b[0m\u001b[0;34m\u001b[0m\u001b[0m\n\u001b[0m",
            "\u001b[0;31mValueError\u001b[0m: could not convert string to float: '50a'"
          ]
        }
      ]
    },
    {
      "cell_type": "code",
      "source": [
        "float(5)"
      ],
      "metadata": {
        "id": "a6srLcXXENRE",
        "colab": {
          "base_uri": "https://localhost:8080/"
        },
        "outputId": "108b75cc-5888-43cb-a8a8-937767dd0006"
      },
      "execution_count": 28,
      "outputs": [
        {
          "output_type": "execute_result",
          "data": {
            "text/plain": [
              "5.0"
            ]
          },
          "metadata": {},
          "execution_count": 28
        }
      ]
    },
    {
      "cell_type": "code",
      "source": [
        "age = input(\"Enter your age : \")"
      ],
      "metadata": {
        "id": "O8oB16mSxq0s",
        "colab": {
          "base_uri": "https://localhost:8080/"
        },
        "outputId": "65312613-4cc2-499e-e96b-1b2f39e286b4"
      },
      "execution_count": 29,
      "outputs": [
        {
          "name": "stdout",
          "output_type": "stream",
          "text": [
            "Enter your age : 26\n"
          ]
        }
      ]
    },
    {
      "cell_type": "code",
      "source": [
        "age"
      ],
      "metadata": {
        "id": "zKVM11DbMLbe",
        "colab": {
          "base_uri": "https://localhost:8080/",
          "height": 35
        },
        "outputId": "394969b3-0c78-41e5-92c7-af01db26cdbc"
      },
      "execution_count": 30,
      "outputs": [
        {
          "output_type": "execute_result",
          "data": {
            "text/plain": [
              "'26'"
            ],
            "application/vnd.google.colaboratory.intrinsic+json": {
              "type": "string"
            }
          },
          "metadata": {},
          "execution_count": 30
        }
      ]
    },
    {
      "cell_type": "code",
      "source": [
        "int(age)"
      ],
      "metadata": {
        "id": "116ieL-IxqyX",
        "colab": {
          "base_uri": "https://localhost:8080/"
        },
        "outputId": "168684ad-6848-4b2d-d160-8658bbd33692"
      },
      "execution_count": 31,
      "outputs": [
        {
          "output_type": "execute_result",
          "data": {
            "text/plain": [
              "26"
            ]
          },
          "metadata": {},
          "execution_count": 31
        }
      ]
    },
    {
      "cell_type": "code",
      "source": [
        "age = int(input(\"Enter your age : \"))\n",
        "age"
      ],
      "metadata": {
        "colab": {
          "base_uri": "https://localhost:8080/"
        },
        "id": "ejcgUya312k8",
        "outputId": "b310884f-b61b-4c46-81f1-07c01d49f221"
      },
      "execution_count": 33,
      "outputs": [
        {
          "name": "stdout",
          "output_type": "stream",
          "text": [
            "Enter your age : 26\n"
          ]
        },
        {
          "output_type": "execute_result",
          "data": {
            "text/plain": [
              "26"
            ]
          },
          "metadata": {},
          "execution_count": 33
        }
      ]
    },
    {
      "cell_type": "code",
      "source": [
        "height = int(input(\"Enter your height : \"))\n",
        "height"
      ],
      "metadata": {
        "colab": {
          "base_uri": "https://localhost:8080/",
          "height": 205
        },
        "id": "HbhPwfR019lT",
        "outputId": "40ce0015-462e-4469-e83c-4aefd67da53d"
      },
      "execution_count": 40,
      "outputs": [
        {
          "name": "stdout",
          "output_type": "stream",
          "text": [
            "Enter your height : 1.65\n"
          ]
        },
        {
          "output_type": "error",
          "ename": "ValueError",
          "evalue": "ignored",
          "traceback": [
            "\u001b[0;31m---------------------------------------------------------------------------\u001b[0m",
            "\u001b[0;31mValueError\u001b[0m                                Traceback (most recent call last)",
            "\u001b[0;32m<ipython-input-40-ee712519102b>\u001b[0m in \u001b[0;36m<cell line: 1>\u001b[0;34m()\u001b[0m\n\u001b[0;32m----> 1\u001b[0;31m \u001b[0mheight\u001b[0m \u001b[0;34m=\u001b[0m \u001b[0mint\u001b[0m\u001b[0;34m(\u001b[0m\u001b[0minput\u001b[0m\u001b[0;34m(\u001b[0m\u001b[0;34m\"Enter your height : \"\u001b[0m\u001b[0;34m)\u001b[0m\u001b[0;34m)\u001b[0m\u001b[0;34m\u001b[0m\u001b[0;34m\u001b[0m\u001b[0m\n\u001b[0m\u001b[1;32m      2\u001b[0m \u001b[0mheight\u001b[0m\u001b[0;34m\u001b[0m\u001b[0;34m\u001b[0m\u001b[0m\n",
            "\u001b[0;31mValueError\u001b[0m: invalid literal for int() with base 10: '1.65'"
          ]
        }
      ]
    },
    {
      "cell_type": "code",
      "source": [
        "y = eval(input(\"enter number : \"))\n",
        "print(type(y))"
      ],
      "metadata": {
        "id": "N8mMb7toNodH",
        "colab": {
          "base_uri": "https://localhost:8080/"
        },
        "outputId": "7ffbfc73-cd36-4870-801b-a1bf6e7d2ff9"
      },
      "execution_count": 36,
      "outputs": [
        {
          "output_type": "stream",
          "name": "stdout",
          "text": [
            "enter number : 187\n",
            "<class 'int'>\n"
          ]
        }
      ]
    },
    {
      "cell_type": "code",
      "source": [
        "height = eval(input(\"Enter your height : \"))\n",
        "print(type(height))"
      ],
      "metadata": {
        "id": "3mwuMkBmOCs8",
        "colab": {
          "base_uri": "https://localhost:8080/"
        },
        "outputId": "97a62f5e-fe36-42c2-e897-6d5a81ada128"
      },
      "execution_count": 38,
      "outputs": [
        {
          "output_type": "stream",
          "name": "stdout",
          "text": [
            "Enter your height : 1.65\n",
            "<class 'float'>\n"
          ]
        }
      ]
    },
    {
      "cell_type": "markdown",
      "source": [
        "# **Operators**"
      ],
      "metadata": {
        "id": "tQ010WDVcZvO"
      }
    },
    {
      "cell_type": "code",
      "source": [
        "# Arithmetic Operators ( + , - , * , / , % , ** , // )\n",
        "print(\"Addition\", \"7 + 3 = \", 7 + 3)\n",
        "print(\"Subtraction\", \"7 - 3 = \", 7 - 3)\n",
        "print(\"Multiplication\", \"7 * 3 = \", 7 * 3)\n",
        "print(\"division\", \"7 / 3 = \", 7 / 3)\n",
        "print(\"Modulus\", \"7 % 3 = \", 7 % 3)\n",
        "print(\"Exponentiation\", \"7 ** 3 = \", 7 ** 3)\n",
        "print(\"Floor division\", \"7 // 3 = \", 7 // 3)\n"
      ],
      "metadata": {
        "id": "zhiWfJwHci3Y",
        "colab": {
          "base_uri": "https://localhost:8080/"
        },
        "outputId": "6f52911a-f38c-4c48-d029-d4ceabc8c634"
      },
      "execution_count": 41,
      "outputs": [
        {
          "output_type": "stream",
          "name": "stdout",
          "text": [
            "Addition 7 + 3 =  10\n",
            "Subtraction 7 - 3 =  4\n",
            "Multiplication 7 * 3 =  21\n",
            "division 7 / 3 =  2.3333333333333335\n",
            "Modulus 7 % 3 =  1\n",
            "Exponentiation 7 ** 3 =  343\n",
            "Floor division 7 // 3 =  2\n"
          ]
        }
      ]
    },
    {
      "cell_type": "code",
      "source": [
        "# Comparison (Relational) Operators ( == , != , > , < , <= , >= )\n",
        "print(\"Equal\", \"7 == 3 : \", 7 == 3)\n",
        "print(\"Not Equal\", \"7 != 3 : \", 7 != 3)\n",
        "print(\"Greater\", \"7 > 3 : \", 7 > 3)\n",
        "print(\"Less\", \"7 < 3 : \", 7 < 3)\n",
        "print(\"Greater or Equal\", \"7 >= 3 : \", 7 >= 3)\n",
        "print(\"Less or Equal\", \"7 <= 3 : \", 7 <= 3)\n"
      ],
      "metadata": {
        "id": "JdeYfTs8eIHt",
        "colab": {
          "base_uri": "https://localhost:8080/"
        },
        "outputId": "eb114326-25da-4f5b-d2d1-186ce828243f"
      },
      "execution_count": 42,
      "outputs": [
        {
          "output_type": "stream",
          "name": "stdout",
          "text": [
            "Equal 7 == 3 :  False\n",
            "Not Equal 7 != 3 :  True\n",
            "Greater 7 > 3 :  True\n",
            "Less 7 < 3 :  False\n",
            "Greater or Equal 7 >= 3 :  True\n",
            "Less or Equal 7 <= 3 :  False\n"
          ]
        }
      ]
    },
    {
      "cell_type": "code",
      "source": [
        "# Assignment Operators ( = , += , -+ , *= , /= , %= , ** , //= )\n",
        "\n",
        "v1 = 5\n",
        "print(\"v1 = \",v1)"
      ],
      "metadata": {
        "id": "IkZM8bQC9_q5",
        "colab": {
          "base_uri": "https://localhost:8080/"
        },
        "outputId": "d6ad7ccb-1446-491f-da09-4c8a6b6076e6"
      },
      "execution_count": 43,
      "outputs": [
        {
          "output_type": "stream",
          "name": "stdout",
          "text": [
            "v1 =  5\n"
          ]
        }
      ]
    },
    {
      "cell_type": "code",
      "source": [
        "v1+=4\n",
        "# v1 = v1 + 4\n",
        "print(\"v1+=4 = \",v1)"
      ],
      "metadata": {
        "id": "QXZpDnwA9_ot",
        "colab": {
          "base_uri": "https://localhost:8080/"
        },
        "outputId": "f69ca799-19e8-421f-aee0-94551ec24703"
      },
      "execution_count": 44,
      "outputs": [
        {
          "output_type": "stream",
          "name": "stdout",
          "text": [
            "v1+=4 =  9\n"
          ]
        }
      ]
    },
    {
      "cell_type": "code",
      "source": [
        "v1"
      ],
      "metadata": {
        "id": "ISdwrRlDwrvF",
        "colab": {
          "base_uri": "https://localhost:8080/"
        },
        "outputId": "42e9aef1-bcc9-48f0-d130-bbf1e156f21c"
      },
      "execution_count": 45,
      "outputs": [
        {
          "output_type": "execute_result",
          "data": {
            "text/plain": [
              "9"
            ]
          },
          "metadata": {},
          "execution_count": 45
        }
      ]
    },
    {
      "cell_type": "code",
      "source": [
        "v1-=4\n",
        "print(\"v1-=4 = \",v1)"
      ],
      "metadata": {
        "id": "Mp8qg4LI9_kc",
        "colab": {
          "base_uri": "https://localhost:8080/"
        },
        "outputId": "4ba7e5de-508b-41b1-a09d-23f2bdbce3ef"
      },
      "execution_count": 46,
      "outputs": [
        {
          "output_type": "stream",
          "name": "stdout",
          "text": [
            "v1-=4 =  5\n"
          ]
        }
      ]
    },
    {
      "cell_type": "code",
      "source": [
        "v1*=3\n",
        "print(\"v1*=3 = \",v1)"
      ],
      "metadata": {
        "id": "SvX4MGwF9_iN",
        "colab": {
          "base_uri": "https://localhost:8080/"
        },
        "outputId": "9f862989-982f-4ca9-e63f-b99bfdeb54d3"
      },
      "execution_count": 47,
      "outputs": [
        {
          "output_type": "stream",
          "name": "stdout",
          "text": [
            "v1*=3 =  15\n"
          ]
        }
      ]
    },
    {
      "cell_type": "code",
      "source": [
        "v1/=2\n",
        "print(\"v1/=2 = \",v1)"
      ],
      "metadata": {
        "id": "yfTpwfGW-ZF9",
        "colab": {
          "base_uri": "https://localhost:8080/"
        },
        "outputId": "d441c0d7-e159-4ce5-d5df-611534c9e098"
      },
      "execution_count": 48,
      "outputs": [
        {
          "output_type": "stream",
          "name": "stdout",
          "text": [
            "v1/=2 =  7.5\n"
          ]
        }
      ]
    },
    {
      "cell_type": "code",
      "source": [
        "v1%=2\n",
        "print(\"v1%=2 = \",v1)"
      ],
      "metadata": {
        "id": "XPLZKEzl-ZBU",
        "colab": {
          "base_uri": "https://localhost:8080/"
        },
        "outputId": "91f5ac67-49c5-4bc2-da84-7bc33b2775a1"
      },
      "execution_count": 49,
      "outputs": [
        {
          "output_type": "stream",
          "name": "stdout",
          "text": [
            "v1%=2 =  1.5\n"
          ]
        }
      ]
    },
    {
      "cell_type": "code",
      "source": [
        "v1**=3\n",
        "print(\"v1**=2 = \",v1)"
      ],
      "metadata": {
        "id": "f8jjvUQY-m4d",
        "colab": {
          "base_uri": "https://localhost:8080/"
        },
        "outputId": "644293ad-d7a8-4005-a551-582ed829cef3"
      },
      "execution_count": 50,
      "outputs": [
        {
          "output_type": "stream",
          "name": "stdout",
          "text": [
            "v1**=2 =  3.375\n"
          ]
        }
      ]
    },
    {
      "cell_type": "code",
      "source": [
        "v1//=3\n",
        "print(\"v1//=3 = \",v1)"
      ],
      "metadata": {
        "id": "GieRiUFG-pQh",
        "colab": {
          "base_uri": "https://localhost:8080/"
        },
        "outputId": "f3c1ea4b-ba8e-4129-8251-02d6430726fc"
      },
      "execution_count": 51,
      "outputs": [
        {
          "output_type": "stream",
          "name": "stdout",
          "text": [
            "v1//=3 =  1.0\n"
          ]
        }
      ]
    },
    {
      "cell_type": "code",
      "source": [],
      "metadata": {
        "id": "rKLScW3hwifb"
      },
      "execution_count": null,
      "outputs": []
    },
    {
      "cell_type": "code",
      "source": [
        "# Logical Operators ( not , and , or )\n",
        "print(\"================= AND =================\")\n",
        "print(\"True and True : \", True and True)\n",
        "print(\"True and False : \", True and False)\n",
        "print(\"False and True : \", False and True)\n",
        "print(\"False and False : \", False and False)\n",
        "\n",
        "print(\"================= OR =================\")\n",
        "print(\"True or True : \", True or True)\n",
        "print(\"True or False : \", True or False)\n",
        "print(\"False or True : \", False or True)\n",
        "print(\"False or False : \", False or False)\n",
        "\n",
        "print(\"================= NOT =================\")\n",
        "print(\"not True : \", not True)\n",
        "print(\"not False : \", not False)\n",
        "\n"
      ],
      "metadata": {
        "id": "FQIjY6LLgwC7",
        "colab": {
          "base_uri": "https://localhost:8080/"
        },
        "outputId": "1d03afb8-9a9b-4f10-936b-7d40932f5f04"
      },
      "execution_count": 57,
      "outputs": [
        {
          "output_type": "stream",
          "name": "stdout",
          "text": [
            "================= AND =================\n",
            "True and True :  True\n",
            "True and False :  False\n",
            "False and True :  False\n",
            "False and False :  False\n",
            "================= OR =================\n",
            "True or True :  True\n",
            "True or False :  True\n",
            "False or True :  True\n",
            "False or False :  False\n",
            "================= NOT =================\n",
            "not True :  False\n",
            "not False :  True\n"
          ]
        }
      ]
    },
    {
      "cell_type": "code",
      "source": [
        "x = 5\n",
        "y = 7\n",
        "\n",
        "x < 10 and y>5 and ( x<70 or y>18)\n",
        "\n",
        "True and True and ( True or False)\n",
        "\n",
        "True and True and True\n",
        "\n",
        "True and True\n",
        "\n",
        "True"
      ],
      "metadata": {
        "id": "gSqnCi2GD6KV"
      },
      "execution_count": null,
      "outputs": []
    },
    {
      "cell_type": "code",
      "source": [
        "True and (not False and True)\n",
        "\n",
        "True and (True and True)\n",
        "\n",
        "True and True\n",
        "\n",
        "True"
      ],
      "metadata": {
        "id": "arptuCgOiaCt"
      },
      "execution_count": null,
      "outputs": []
    },
    {
      "cell_type": "code",
      "source": [],
      "metadata": {
        "id": "YovUvJJ0_2oC"
      },
      "execution_count": null,
      "outputs": []
    },
    {
      "cell_type": "code",
      "source": [
        "# What is the output ???\n",
        "not True or (True and False or True) and False"
      ],
      "metadata": {
        "id": "czYboDDEhktA"
      },
      "execution_count": null,
      "outputs": []
    },
    {
      "cell_type": "code",
      "source": [
        "not True or (True and False or True) and False\n",
        "\n",
        "not True or (False or True) and False\n",
        "\n",
        "not True or True and False\n",
        "\n",
        "False or True and False\n",
        "\n",
        "False or False\n",
        "\n",
        "False"
      ],
      "metadata": {
        "id": "UTvvxHOJxRJO"
      },
      "execution_count": null,
      "outputs": []
    },
    {
      "cell_type": "code",
      "source": [],
      "metadata": {
        "id": "uh38jZxJxQ_p"
      },
      "execution_count": null,
      "outputs": []
    },
    {
      "cell_type": "code",
      "source": [
        "not True and not False or ( False or True or True )"
      ],
      "metadata": {
        "id": "Kx-ftN6jx85M"
      },
      "execution_count": null,
      "outputs": []
    },
    {
      "cell_type": "code",
      "source": [
        "not True and not False or ( False or True or True )\n",
        "\n",
        "not True and not False or ( True or True )\n",
        "\n",
        "not True and not False or  True\n",
        "\n",
        "False and not False or  True\n",
        "\n",
        "False and True or  True\n",
        "\n",
        "False or True\n",
        "\n",
        "True"
      ],
      "metadata": {
        "id": "JIoAyUdVx81q"
      },
      "execution_count": null,
      "outputs": []
    },
    {
      "cell_type": "code",
      "source": [],
      "metadata": {
        "id": "SkdJmW6Yx8zk"
      },
      "execution_count": null,
      "outputs": []
    },
    {
      "cell_type": "code",
      "source": [
        "True or False and False or True"
      ],
      "metadata": {
        "id": "BD1ZHKAUJQYX"
      },
      "execution_count": null,
      "outputs": []
    },
    {
      "cell_type": "code",
      "source": [
        "True or False and False or True\n",
        "\n",
        "True or False or True\n",
        "\n",
        "True or True\n",
        "\n",
        "True"
      ],
      "metadata": {
        "id": "1Rm0b6i9f_8w"
      },
      "execution_count": null,
      "outputs": []
    },
    {
      "cell_type": "code",
      "source": [
        "True or True and not False or (True and not False)"
      ],
      "metadata": {
        "id": "cLq438oRJQWe"
      },
      "execution_count": null,
      "outputs": []
    },
    {
      "cell_type": "code",
      "source": [
        "True or True and not False or (True and not False)\n",
        "\n",
        "\n",
        "True or True and not False or (True and True)\n",
        "\n",
        "True or True and not False or True\n",
        "\n",
        "True or True and True or True\n",
        "\n",
        "True or True or True\n",
        "\n",
        "True or True\n",
        "\n",
        "True"
      ],
      "metadata": {
        "id": "uZ2yN4GOJQL9"
      },
      "execution_count": null,
      "outputs": []
    },
    {
      "cell_type": "code",
      "source": [
        "# Bitwise Operators (& , | , ^ , ~ , << , >> )"
      ],
      "metadata": {
        "id": "KhD_YBbFipFE"
      },
      "execution_count": null,
      "outputs": []
    },
    {
      "cell_type": "code",
      "source": [
        "60 & 13"
      ],
      "metadata": {
        "id": "xHpnGHYDyj3t",
        "colab": {
          "base_uri": "https://localhost:8080/"
        },
        "outputId": "5f007012-704f-4dc1-d6f1-7bdf99703a0d"
      },
      "execution_count": 58,
      "outputs": [
        {
          "output_type": "execute_result",
          "data": {
            "text/plain": [
              "12"
            ]
          },
          "metadata": {},
          "execution_count": 58
        }
      ]
    },
    {
      "cell_type": "code",
      "source": [
        "a = 60            # 60 = 00111100\n",
        "b = 13            # 13 = 00001101"
      ],
      "metadata": {
        "id": "9JeejL1CCHMr"
      },
      "execution_count": 59,
      "outputs": []
    },
    {
      "cell_type": "code",
      "source": [
        "bin(60)"
      ],
      "metadata": {
        "id": "AxiE_V49PJBL",
        "colab": {
          "base_uri": "https://localhost:8080/",
          "height": 35
        },
        "outputId": "9509e7db-199d-4aef-9a4e-8289a866fca8"
      },
      "execution_count": 60,
      "outputs": [
        {
          "output_type": "execute_result",
          "data": {
            "text/plain": [
              "'0b111100'"
            ],
            "application/vnd.google.colaboratory.intrinsic+json": {
              "type": "string"
            }
          },
          "metadata": {},
          "execution_count": 60
        }
      ]
    },
    {
      "cell_type": "code",
      "source": [
        "int(0b111100)"
      ],
      "metadata": {
        "id": "VVKaXkl7PWuS",
        "colab": {
          "base_uri": "https://localhost:8080/"
        },
        "outputId": "1eeba4c0-8c11-42fa-856a-5428a423d2b5"
      },
      "execution_count": 61,
      "outputs": [
        {
          "output_type": "execute_result",
          "data": {
            "text/plain": [
              "60"
            ]
          },
          "metadata": {},
          "execution_count": 61
        }
      ]
    },
    {
      "cell_type": "code",
      "source": [
        "int(0b1100)"
      ],
      "metadata": {
        "id": "daCi0nInIH1D",
        "colab": {
          "base_uri": "https://localhost:8080/"
        },
        "outputId": "35622d95-ed11-41b2-ff7a-b16591c917f0"
      },
      "execution_count": 62,
      "outputs": [
        {
          "output_type": "execute_result",
          "data": {
            "text/plain": [
              "12"
            ]
          },
          "metadata": {},
          "execution_count": 62
        }
      ]
    },
    {
      "cell_type": "code",
      "source": [
        "# AND &\n",
        "# 60 & 13\n",
        "#\n",
        "# a = 60 = 0 0 1 1 1 1 0 0  &\n",
        "# b = 13 = 0 0 0 0 1 1 0 1\n",
        "# a&b    = 0 0 0 0 1 1 0 0\n",
        "\n",
        "print(bin(a), \"   \", a)\n",
        "print(bin(b), \"   \", b)\n",
        "print(bin(a&b), \"   \", a&b)"
      ],
      "metadata": {
        "id": "RDJtha6ACJln",
        "colab": {
          "base_uri": "https://localhost:8080/"
        },
        "outputId": "18762e59-1c27-4e12-9c94-be8176185e4a"
      },
      "execution_count": 63,
      "outputs": [
        {
          "output_type": "stream",
          "name": "stdout",
          "text": [
            "0b111100     60\n",
            "0b1101     13\n",
            "0b1100     12\n"
          ]
        }
      ]
    },
    {
      "cell_type": "code",
      "source": [
        "# OR |\n",
        "\n",
        "# a   = 0 0 1 1 1 1 0 0 |\n",
        "# b   = 0 0 0 0 1 1 0 1\n",
        "# a|b = 0 0 1 1 1 1 0 1\n",
        "\n",
        "print(bin(a), \"   \", a)\n",
        "print(bin(b), \"   \", b)\n",
        "print(bin(a|b), \"   \", a|b)"
      ],
      "metadata": {
        "id": "oqzQpee_CJrY",
        "colab": {
          "base_uri": "https://localhost:8080/"
        },
        "outputId": "0c757b2a-496a-4ac3-80b7-dc05538d84bf"
      },
      "execution_count": 64,
      "outputs": [
        {
          "output_type": "stream",
          "name": "stdout",
          "text": [
            "0b111100     60\n",
            "0b1101     13\n",
            "0b111101     61\n"
          ]
        }
      ]
    },
    {
      "cell_type": "code",
      "source": [
        "a | b"
      ],
      "metadata": {
        "id": "NCMGWMTizJv1",
        "colab": {
          "base_uri": "https://localhost:8080/"
        },
        "outputId": "2c3e3c01-992b-4e43-bb5b-33b99afce1c1"
      },
      "execution_count": 65,
      "outputs": [
        {
          "output_type": "execute_result",
          "data": {
            "text/plain": [
              "61"
            ]
          },
          "metadata": {},
          "execution_count": 65
        }
      ]
    },
    {
      "cell_type": "code",
      "source": [
        "# XOR ^\n",
        "# 1 xor 0  => 1\n",
        "# 1 xor 1 => 0\n",
        "# 0 xor 0 => 0\n",
        "\n",
        "\n",
        "# a   = 0 0 1 1 1 1 0 0\n",
        "# b   = 0 0 0 0 1 1 0 1\n",
        "# a^b = 0 0 1 1 0 0 0 1\n",
        "\n",
        "print(bin(a), \"   \", a)\n",
        "print(bin(b), \"   \", b)\n",
        "print(bin(a^b), \"   \", a^b)"
      ],
      "metadata": {
        "id": "O0PivZ18CJ66",
        "colab": {
          "base_uri": "https://localhost:8080/"
        },
        "outputId": "f688776c-ad55-4caa-a584-cb45c16b4981"
      },
      "execution_count": 66,
      "outputs": [
        {
          "output_type": "stream",
          "name": "stdout",
          "text": [
            "0b111100     60\n",
            "0b1101     13\n",
            "0b110001     49\n"
          ]
        }
      ]
    },
    {
      "cell_type": "code",
      "source": [
        "# NOT ~\n",
        "# ~a = -(a+1)\n",
        "\n",
        "# a   = 00111100\n",
        "# ~a  = -(00111100 + 1)\n",
        "# ~a  = -(00111101)\n",
        "\n",
        "print(bin(a), \"   \", a)\n",
        "print(bin(~a), \"   \", ~a)"
      ],
      "metadata": {
        "id": "vgzifEZXDHF1",
        "colab": {
          "base_uri": "https://localhost:8080/"
        },
        "outputId": "a426e3aa-230d-42d0-e646-2025dcbf569f"
      },
      "execution_count": 68,
      "outputs": [
        {
          "output_type": "stream",
          "name": "stdout",
          "text": [
            "0b111100     60\n",
            "-0b111101     -61\n"
          ]
        }
      ]
    },
    {
      "cell_type": "code",
      "source": [
        "print(~a)"
      ],
      "metadata": {
        "id": "xnGs5tdSFWdU",
        "colab": {
          "base_uri": "https://localhost:8080/"
        },
        "outputId": "bd006601-cc1c-49ae-f93c-fe1d06648fb5"
      },
      "execution_count": 67,
      "outputs": [
        {
          "output_type": "stream",
          "name": "stdout",
          "text": [
            "-61\n"
          ]
        }
      ]
    },
    {
      "cell_type": "code",
      "source": [
        "~ 50"
      ],
      "metadata": {
        "id": "vroTTjHhEbbN",
        "colab": {
          "base_uri": "https://localhost:8080/"
        },
        "outputId": "3940e3ee-7f5e-40d5-9093-79793ff28278"
      },
      "execution_count": 69,
      "outputs": [
        {
          "output_type": "execute_result",
          "data": {
            "text/plain": [
              "-51"
            ]
          },
          "metadata": {},
          "execution_count": 69
        }
      ]
    },
    {
      "cell_type": "code",
      "source": [
        "~ -3\n",
        "\n",
        "-(-3+1)\n",
        "-(-2)\n",
        "2"
      ],
      "metadata": {
        "id": "bQ2rEpCQ3d-Q",
        "colab": {
          "base_uri": "https://localhost:8080/"
        },
        "outputId": "a770e7ea-e974-4768-df8c-f608b206da17"
      },
      "execution_count": 70,
      "outputs": [
        {
          "output_type": "execute_result",
          "data": {
            "text/plain": [
              "2"
            ]
          },
          "metadata": {},
          "execution_count": 70
        }
      ]
    },
    {
      "cell_type": "code",
      "source": [
        "~-2\n",
        "\n",
        "# -( -2 + 1 )\n",
        "# -(-1)\n",
        "# 1"
      ],
      "metadata": {
        "id": "kbloveDMznQy",
        "colab": {
          "base_uri": "https://localhost:8080/"
        },
        "outputId": "008265c0-bb5b-475c-dda9-2edd1639daeb"
      },
      "execution_count": 71,
      "outputs": [
        {
          "output_type": "execute_result",
          "data": {
            "text/plain": [
              "1"
            ]
          },
          "metadata": {},
          "execution_count": 71
        }
      ]
    },
    {
      "cell_type": "code",
      "source": [
        "~ -31\n",
        "# ~ -31 = - (-31 +1 )\n",
        "# -( -30 )\n",
        "# 30"
      ],
      "metadata": {
        "id": "DfYHK8b5QNj_",
        "colab": {
          "base_uri": "https://localhost:8080/"
        },
        "outputId": "fef668e5-5536-4001-c05e-f9283638555c"
      },
      "execution_count": 72,
      "outputs": [
        {
          "output_type": "execute_result",
          "data": {
            "text/plain": [
              "30"
            ]
          },
          "metadata": {},
          "execution_count": 72
        }
      ]
    },
    {
      "cell_type": "code",
      "source": [
        "# Apply not for b\n",
        "\n",
        "\n",
        "# b   = 00001101\n",
        "# ~b  = -(00001101 + 1)\n",
        "# ~b  = -(0000001110)\n",
        "\n",
        "print(bin(b), \"   \", b)\n",
        "print(bin(~b), \"   \", ~b)"
      ],
      "metadata": {
        "id": "EbQSN62sDG8I",
        "colab": {
          "base_uri": "https://localhost:8080/"
        },
        "outputId": "1280f0d1-bf67-4625-e4d2-2b3471cd8cea"
      },
      "execution_count": 73,
      "outputs": [
        {
          "output_type": "stream",
          "name": "stdout",
          "text": [
            "0b1101     13\n",
            "-0b1110     -14\n"
          ]
        }
      ]
    },
    {
      "cell_type": "code",
      "source": [
        "a"
      ],
      "metadata": {
        "id": "6jgX81DS0UZH",
        "colab": {
          "base_uri": "https://localhost:8080/"
        },
        "outputId": "e0f789fd-5f79-4644-cf3e-e6c66dfe91f5"
      },
      "execution_count": 74,
      "outputs": [
        {
          "output_type": "execute_result",
          "data": {
            "text/plain": [
              "60"
            ]
          },
          "metadata": {},
          "execution_count": 74
        }
      ]
    },
    {
      "cell_type": "code",
      "source": [
        "a << 2"
      ],
      "metadata": {
        "id": "9S5z67iGGofh",
        "colab": {
          "base_uri": "https://localhost:8080/"
        },
        "outputId": "8ac87837-b954-4f1d-be96-fa94c5b433b4"
      },
      "execution_count": 76,
      "outputs": [
        {
          "output_type": "execute_result",
          "data": {
            "text/plain": [
              "240"
            ]
          },
          "metadata": {},
          "execution_count": 76
        }
      ]
    },
    {
      "cell_type": "code",
      "source": [
        "# Lisft Shift <<\n",
        "\n",
        "# a << 4 = a * 2^4\n",
        "\n",
        "# a << 5 = a * 2^5\n",
        "\n",
        "# a << 2 = a * 2^2\n",
        "# 60 * 2^2\n",
        "# 60 * 4\n",
        "# 240\n",
        "\n",
        "# 00111100 << 2\n",
        "# 0011110000\n",
        "\n",
        "# 00111100 << 4\n",
        "# 001111000000\n",
        "\n",
        "print(bin(a), \"   \", a)\n",
        "print(bin(a<<2), \"   \", a<<2)"
      ],
      "metadata": {
        "id": "iNk3O7y8DG4l",
        "colab": {
          "base_uri": "https://localhost:8080/"
        },
        "outputId": "0f124d90-1101-4d2a-fc31-c8e866293556"
      },
      "execution_count": 77,
      "outputs": [
        {
          "output_type": "stream",
          "name": "stdout",
          "text": [
            "0b111100     60\n",
            "0b11110000     240\n"
          ]
        }
      ]
    },
    {
      "cell_type": "code",
      "source": [
        "a << 5"
      ],
      "metadata": {
        "id": "GRsWeSX0F4sY",
        "colab": {
          "base_uri": "https://localhost:8080/"
        },
        "outputId": "347ab8bb-e02e-4025-dde5-75564de81c3f"
      },
      "execution_count": 79,
      "outputs": [
        {
          "output_type": "execute_result",
          "data": {
            "text/plain": [
              "1920"
            ]
          },
          "metadata": {},
          "execution_count": 79
        }
      ]
    },
    {
      "cell_type": "code",
      "source": [
        "60 * 2**5"
      ],
      "metadata": {
        "id": "RcSkp57cLn_K",
        "colab": {
          "base_uri": "https://localhost:8080/"
        },
        "outputId": "5abad7a7-a376-4465-9527-813f59477ec9"
      },
      "execution_count": 78,
      "outputs": [
        {
          "output_type": "execute_result",
          "data": {
            "text/plain": [
              "1920"
            ]
          },
          "metadata": {},
          "execution_count": 78
        }
      ]
    },
    {
      "cell_type": "code",
      "source": [
        "6 << 9\n"
      ],
      "metadata": {
        "id": "IPVQiuLU5SRM",
        "colab": {
          "base_uri": "https://localhost:8080/"
        },
        "outputId": "c17d6845-3eb9-472a-9000-550d1a2b3b38"
      },
      "execution_count": 80,
      "outputs": [
        {
          "output_type": "execute_result",
          "data": {
            "text/plain": [
              "3072"
            ]
          },
          "metadata": {},
          "execution_count": 80
        }
      ]
    },
    {
      "cell_type": "code",
      "source": [
        "6*  2 ** 9"
      ],
      "metadata": {
        "id": "eQHtB1iHkbya",
        "colab": {
          "base_uri": "https://localhost:8080/"
        },
        "outputId": "17219000-7dbc-4abc-d548-5dd525400137"
      },
      "execution_count": 81,
      "outputs": [
        {
          "output_type": "execute_result",
          "data": {
            "text/plain": [
              "3072"
            ]
          },
          "metadata": {},
          "execution_count": 81
        }
      ]
    },
    {
      "cell_type": "code",
      "source": [
        "bin(13)"
      ],
      "metadata": {
        "id": "AQC3z4a_R1vs"
      },
      "execution_count": null,
      "outputs": []
    },
    {
      "cell_type": "code",
      "source": [
        "int(0b110100000)"
      ],
      "metadata": {
        "id": "uRbagQrRkk-E"
      },
      "execution_count": null,
      "outputs": []
    },
    {
      "cell_type": "code",
      "source": [
        "13 << 5"
      ],
      "metadata": {
        "id": "qAkRxXw3kq3M"
      },
      "execution_count": null,
      "outputs": []
    },
    {
      "cell_type": "code",
      "source": [
        "# Apply lift shift for b\n",
        "# b << 4 = b * 2^4\n",
        "\n",
        "#13 * 2 ^ 4\n",
        "# 13 * 16\n",
        "# 208\n",
        "\n",
        "# 1101 << 4\n",
        "# 11010000\n",
        "\n",
        "print(bin(b))\n",
        "print(bin(b<<4), \"  \", b << 4)\n"
      ],
      "metadata": {
        "id": "IRPZ7BfkDG2o"
      },
      "execution_count": null,
      "outputs": []
    },
    {
      "cell_type": "code",
      "source": [
        "a << 2"
      ],
      "metadata": {
        "id": "6bmoaIpi1Dh_",
        "colab": {
          "base_uri": "https://localhost:8080/"
        },
        "outputId": "687b6724-e7c5-40f8-96d5-8a567bb9f1d0"
      },
      "execution_count": 82,
      "outputs": [
        {
          "output_type": "execute_result",
          "data": {
            "text/plain": [
              "240"
            ]
          },
          "metadata": {},
          "execution_count": 82
        }
      ]
    },
    {
      "cell_type": "code",
      "source": [
        "a >> 2"
      ],
      "metadata": {
        "id": "mRTNJjUlHOvK",
        "colab": {
          "base_uri": "https://localhost:8080/"
        },
        "outputId": "ad3f5836-9808-4055-d7d4-9ea79d32edcc"
      },
      "execution_count": 83,
      "outputs": [
        {
          "output_type": "execute_result",
          "data": {
            "text/plain": [
              "15"
            ]
          },
          "metadata": {},
          "execution_count": 83
        }
      ]
    },
    {
      "cell_type": "code",
      "source": [
        "# Right Shift >>\n",
        "# a >> 2 = a / 2^2\n",
        "# 60 / 2^2\n",
        "# 60 / 4\n",
        "# 15\n",
        "\n",
        "# 00111100 >> 2\n",
        "# 001111\n",
        "\n",
        "print(bin(a), \"   \", a)\n",
        "print(bin(a>>2), \"   \", a>>2)"
      ],
      "metadata": {
        "id": "AHs36K38GZos",
        "colab": {
          "base_uri": "https://localhost:8080/"
        },
        "outputId": "05553838-8465-4730-8899-5a31c682be4b"
      },
      "execution_count": 84,
      "outputs": [
        {
          "output_type": "stream",
          "name": "stdout",
          "text": [
            "0b111100     60\n",
            "0b1111     15\n"
          ]
        }
      ]
    },
    {
      "cell_type": "code",
      "source": [
        "# Apply Right shift for b\n",
        "# b >> 2 = b / 2^2\n",
        "# 13 / 4\n",
        "# 3\n",
        "\n",
        "# 1101 >> 2\n",
        "# 0011\n",
        "print(bin(b), \"   \", b)\n",
        "print(bin(b>>2), \"   \", b>>2)"
      ],
      "metadata": {
        "id": "o69aSRCuGZlS",
        "colab": {
          "base_uri": "https://localhost:8080/"
        },
        "outputId": "d714f6d5-c004-429c-b4f4-2db279c73f4e"
      },
      "execution_count": 85,
      "outputs": [
        {
          "output_type": "stream",
          "name": "stdout",
          "text": [
            "0b1101     13\n",
            "0b11     3\n"
          ]
        }
      ]
    },
    {
      "cell_type": "code",
      "source": [
        "int(0b0011)"
      ],
      "metadata": {
        "id": "WOgzOhvmmXeV",
        "colab": {
          "base_uri": "https://localhost:8080/"
        },
        "outputId": "ba850660-b994-452f-cbf2-f178f25d9668"
      },
      "execution_count": 86,
      "outputs": [
        {
          "output_type": "execute_result",
          "data": {
            "text/plain": [
              "3"
            ]
          },
          "metadata": {},
          "execution_count": 86
        }
      ]
    },
    {
      "cell_type": "code",
      "source": [
        "64 >> 5"
      ],
      "metadata": {
        "id": "bXRlj9CuS0yK",
        "colab": {
          "base_uri": "https://localhost:8080/"
        },
        "outputId": "37d9d7be-c9c7-4ae2-9f79-b116f2479e56"
      },
      "execution_count": 87,
      "outputs": [
        {
          "output_type": "execute_result",
          "data": {
            "text/plain": [
              "2"
            ]
          },
          "metadata": {},
          "execution_count": 87
        }
      ]
    },
    {
      "cell_type": "code",
      "source": [
        "bin(64)"
      ],
      "metadata": {
        "id": "SmNXG3PGNKS7",
        "colab": {
          "base_uri": "https://localhost:8080/",
          "height": 35
        },
        "outputId": "6de7ed0a-bd61-4946-dcc2-a5e1e8136a34"
      },
      "execution_count": 91,
      "outputs": [
        {
          "output_type": "execute_result",
          "data": {
            "text/plain": [
              "'0b1000000'"
            ],
            "application/vnd.google.colaboratory.intrinsic+json": {
              "type": "string"
            }
          },
          "metadata": {},
          "execution_count": 91
        }
      ]
    },
    {
      "cell_type": "code",
      "source": [
        "int(0b100000000000)"
      ],
      "metadata": {
        "colab": {
          "base_uri": "https://localhost:8080/"
        },
        "id": "k6eSWw6WKk96",
        "outputId": "f33b7dca-dd8a-4634-fa3b-6d092122649b"
      },
      "execution_count": 93,
      "outputs": [
        {
          "output_type": "execute_result",
          "data": {
            "text/plain": [
              "2048"
            ]
          },
          "metadata": {},
          "execution_count": 93
        }
      ]
    },
    {
      "cell_type": "code",
      "source": [
        "2**5"
      ],
      "metadata": {
        "id": "NN7TQwQqNDzE"
      },
      "execution_count": null,
      "outputs": []
    },
    {
      "cell_type": "code",
      "source": [
        "64 / 2**5"
      ],
      "metadata": {
        "id": "F0cgKC_nMwaH"
      },
      "execution_count": null,
      "outputs": []
    },
    {
      "cell_type": "code",
      "source": [
        "64 >> 4\n",
        " # 64 / 2^4"
      ],
      "metadata": {
        "id": "ttAdicmBIFQV"
      },
      "execution_count": null,
      "outputs": []
    },
    {
      "cell_type": "markdown",
      "source": [
        "# **IF**"
      ],
      "metadata": {
        "id": "2FT5bbEPaLYa"
      }
    },
    {
      "cell_type": "code",
      "source": [
        "studentGPA = input(\"Enter student GPA : \")"
      ],
      "metadata": {
        "id": "fWqj8IXG42XT"
      },
      "execution_count": null,
      "outputs": []
    },
    {
      "cell_type": "code",
      "source": [
        "type(studentGPA)"
      ],
      "metadata": {
        "id": "cMp9Hti_JeqJ"
      },
      "execution_count": null,
      "outputs": []
    },
    {
      "cell_type": "code",
      "source": [
        "studentGPA"
      ],
      "metadata": {
        "id": "O_Jv48CtJreA"
      },
      "execution_count": null,
      "outputs": []
    },
    {
      "cell_type": "code",
      "source": [
        "studentGPA = int(studentGPA)"
      ],
      "metadata": {
        "id": "ncqJBdKq47Hw"
      },
      "execution_count": null,
      "outputs": []
    },
    {
      "cell_type": "code",
      "source": [
        "# Blloean expression\n",
        "studentGPA > 100"
      ],
      "metadata": {
        "id": "nhLFKZYpKL4A"
      },
      "execution_count": null,
      "outputs": []
    },
    {
      "cell_type": "code",
      "source": [
        "# Enter student GPA\n",
        "# Convert input into integer value\n",
        "studentGPA = int(input(\"Enter student GPA : \"))\n",
        "\n",
        "if studentGPA > 100 or studentGPA <= 0:\n",
        "  print()\n",
        "  print(\"Invalid\")\n",
        "\n",
        "elif studentGPA >= 84:\n",
        "  print(\"Exellent Degree\")\n",
        "\n",
        "elif studentGPA < 84 and studentGPA >= 77:\n",
        "  print(\"Very Good Degree\")\n",
        "\n",
        "elif studentGPA < 77 and studentGPA >= 65:\n",
        "  print(\"Good Degree\")\n",
        "\n",
        "elif studentGPA < 65 and studentGPA >= 61:\n",
        "  print(\"Accepted Degree\")\n",
        "\n",
        "else :\n",
        "  print(\"Fail\")\n"
      ],
      "metadata": {
        "id": "zm3VvvNhX6gq"
      },
      "execution_count": null,
      "outputs": []
    },
    {
      "cell_type": "code",
      "source": [
        "# Write a program to input a number and check whether a number is positive or negative.\n",
        "\n",
        "num = int(input(\"enter a number : \"))\n",
        "\n",
        "\n",
        "if num == 0 :\n",
        "  print(\"zero\")\n",
        "elif num>0:\n",
        "  print(\"positive\")\n",
        "else:\n",
        "  print(\"negative\")\n"
      ],
      "metadata": {
        "id": "45YK7OQ8LWOG"
      },
      "execution_count": null,
      "outputs": []
    },
    {
      "cell_type": "code",
      "source": [],
      "metadata": {
        "id": "BvqG1Kh1zAy0"
      },
      "execution_count": null,
      "outputs": []
    },
    {
      "cell_type": "markdown",
      "source": [
        "# **LOOP**"
      ],
      "metadata": {
        "id": "7G6ErmX5aUbe"
      }
    },
    {
      "cell_type": "code",
      "source": [
        "\"*\" * 10"
      ],
      "metadata": {
        "id": "d-8fKDiV9Jxc"
      },
      "execution_count": null,
      "outputs": []
    },
    {
      "cell_type": "code",
      "source": [
        "\"*\" * 9"
      ],
      "metadata": {
        "id": "01sfst5fVRFw"
      },
      "execution_count": null,
      "outputs": []
    },
    {
      "cell_type": "code",
      "source": [
        "# Wile Loop\n",
        "\n",
        "i = 10\n",
        "\n",
        "while i != 0 :\n",
        "\n",
        "  # if i == 4 :\n",
        "  #   break\n",
        "\n",
        "  print(\"*\" * i)\n",
        "  i -= 1\n",
        "\n",
        "\n",
        "print(\"While loop finished\")"
      ],
      "metadata": {
        "id": "0jMcH1ZyaSG2"
      },
      "execution_count": null,
      "outputs": []
    },
    {
      "cell_type": "code",
      "source": [
        "# Range built-in function\n",
        "list(range(10))"
      ],
      "metadata": {
        "id": "WRB5vMrVYLFM"
      },
      "execution_count": null,
      "outputs": []
    },
    {
      "cell_type": "code",
      "source": [
        "5 in range(10)"
      ],
      "metadata": {
        "id": "RJIyudQHbTw4"
      },
      "execution_count": null,
      "outputs": []
    },
    {
      "cell_type": "code",
      "source": [
        "5 not in range(10)"
      ],
      "metadata": {
        "id": "1lXzm-mxTiQG"
      },
      "execution_count": null,
      "outputs": []
    },
    {
      "cell_type": "code",
      "source": [
        "10 in range(10)"
      ],
      "metadata": {
        "id": "rjDuWhZqEBrp"
      },
      "execution_count": null,
      "outputs": []
    },
    {
      "cell_type": "code",
      "source": [
        "# Foor Loop\n",
        "\n",
        "# [0, 1, 2, 3, 4, 5, 6, 7, 8, 9]\n",
        "\n",
        "for num in range(10):\n",
        "  print(num, end = ' ')\n",
        "\n",
        "# num = 9\n",
        "# output : 0 1 2 3 4 5 6 7 8 9\n",
        "# is num is the last item ? True -> exit for else-> continuo\n",
        "\n",
        "\n",
        "print()\n",
        "print(\"Finish\")"
      ],
      "metadata": {
        "id": "yR-cJhQUYK2J"
      },
      "execution_count": null,
      "outputs": []
    },
    {
      "cell_type": "code",
      "source": [
        "# Foor Loop\n",
        "\n",
        "\n",
        "list_char =[\"a\", \"b\", \"c\", \"d\", \"e\", \"f\", \"g\", \"h\", \"i\", \"j\"]\n",
        "\n",
        "for char in list_char:\n",
        "\n",
        "  print(char, end = ' ')\n",
        "\n",
        "\n",
        "# char = j\n",
        "# output : a b c d e f g h i  j\n",
        "# char is a last item in a sequence ? True => exit loop , False => cont.\n",
        "\n",
        "\n",
        "print()\n",
        "print(\"Finish\")"
      ],
      "metadata": {
        "id": "gvCa_-OpVHdh"
      },
      "execution_count": null,
      "outputs": []
    },
    {
      "cell_type": "code",
      "source": [
        "list(range(10))"
      ],
      "metadata": {
        "id": "w0Li6aJHHCti"
      },
      "execution_count": null,
      "outputs": []
    },
    {
      "cell_type": "code",
      "source": [
        "# Range Function\n",
        "\n",
        "# range(start_index, end_index, num_steps)\n",
        "\n",
        "list(range(0,10,1))"
      ],
      "metadata": {
        "id": "XuasU00D-3Qh"
      },
      "execution_count": null,
      "outputs": []
    },
    {
      "cell_type": "code",
      "source": [
        "list(range(1,10,1))"
      ],
      "metadata": {
        "id": "9tkEi5oIWpLC"
      },
      "execution_count": null,
      "outputs": []
    },
    {
      "cell_type": "code",
      "source": [
        "list(range(1,10,2))"
      ],
      "metadata": {
        "id": "EkA2Hvzt-dM_"
      },
      "execution_count": null,
      "outputs": []
    },
    {
      "cell_type": "code",
      "source": [
        "list(range(2,10,2))"
      ],
      "metadata": {
        "id": "DbOhXr0EWxyP"
      },
      "execution_count": null,
      "outputs": []
    },
    {
      "cell_type": "code",
      "source": [
        "list(range(10,0, -1))"
      ],
      "metadata": {
        "id": "NvFBnFHFZVo1"
      },
      "execution_count": null,
      "outputs": []
    },
    {
      "cell_type": "code",
      "source": [
        "list(range(50, 39, -1))"
      ],
      "metadata": {
        "id": "kJz0kWZeHtN4"
      },
      "execution_count": null,
      "outputs": []
    },
    {
      "cell_type": "code",
      "source": [
        "list(range(50, 28, -2))"
      ],
      "metadata": {
        "id": "G4_cqiTLBz8K"
      },
      "execution_count": null,
      "outputs": []
    },
    {
      "cell_type": "markdown",
      "source": [
        "# **Numbers**"
      ],
      "metadata": {
        "id": "EDfjLiMRZtiQ"
      }
    },
    {
      "cell_type": "code",
      "source": [
        "import math"
      ],
      "metadata": {
        "id": "NgIRPdShbM2d"
      },
      "execution_count": null,
      "outputs": []
    },
    {
      "cell_type": "code",
      "source": [
        "n = -5\n",
        "m = 6.5\n",
        "x = 10"
      ],
      "metadata": {
        "id": "8RMW8PkqZtES"
      },
      "execution_count": null,
      "outputs": []
    },
    {
      "cell_type": "code",
      "source": [
        "print(abs(n)) # abs : return absolute value\n",
        "print(math.ceil(m)) # The ceiling of m: the smallest integer not less than m\n",
        "print(math.floor(m)) # The floor of m: the largest integer not greater than m.\n",
        "print(math.exp(x)) # returns exponential of x: e^x\n",
        "print(round(4.667, 2)) # value rounded to n digits from the decimal point"
      ],
      "metadata": {
        "id": "RshsbHP1ZtA6"
      },
      "execution_count": null,
      "outputs": []
    },
    {
      "cell_type": "code",
      "source": [
        "math.e"
      ],
      "metadata": {
        "id": "M4CX4d3SNNaE"
      },
      "execution_count": null,
      "outputs": []
    },
    {
      "cell_type": "code",
      "source": [
        "math.exp(5)\n",
        "# math.e ** 5"
      ],
      "metadata": {
        "id": "bYrhVOtIfMaK"
      },
      "execution_count": null,
      "outputs": []
    },
    {
      "cell_type": "code",
      "source": [
        "math.e ** 5"
      ],
      "metadata": {
        "id": "3XsmJQKeZ5WA"
      },
      "execution_count": null,
      "outputs": []
    },
    {
      "cell_type": "code",
      "source": [
        "math.ceil(9.1)"
      ],
      "metadata": {
        "id": "GlhT-JqmA6ep"
      },
      "execution_count": null,
      "outputs": []
    },
    {
      "cell_type": "code",
      "source": [
        "math.ceil(9.0)"
      ],
      "metadata": {
        "id": "NAtxwApBYzzk"
      },
      "execution_count": null,
      "outputs": []
    },
    {
      "cell_type": "code",
      "source": [
        "abs(-6.5)"
      ],
      "metadata": {
        "id": "FWqXuF2HA6UU"
      },
      "execution_count": null,
      "outputs": []
    },
    {
      "cell_type": "code",
      "source": [
        "math.fabs(-6.6)"
      ],
      "metadata": {
        "id": "mh5qOkVwNZNs"
      },
      "execution_count": null,
      "outputs": []
    },
    {
      "cell_type": "code",
      "source": [
        "math.ceil(3.0001)"
      ],
      "metadata": {
        "id": "IDww-fEsZfJu"
      },
      "execution_count": null,
      "outputs": []
    },
    {
      "cell_type": "code",
      "source": [
        "math.floor(3.99)"
      ],
      "metadata": {
        "id": "oF04c8GQZQsP"
      },
      "execution_count": null,
      "outputs": []
    },
    {
      "cell_type": "code",
      "source": [
        "print(round(4.657, 1))"
      ],
      "metadata": {
        "id": "dUpmCUuAA2EJ"
      },
      "execution_count": null,
      "outputs": []
    },
    {
      "cell_type": "markdown",
      "source": [
        "#**String**"
      ],
      "metadata": {
        "id": "3HPBLKPFdBou"
      }
    },
    {
      "cell_type": "code",
      "source": [
        "s1 = \"Mahmoud\"\n",
        "listColors1 = \"Red,Green,Blue \"\n",
        "listColors2 = \"White,Black,Gray\""
      ],
      "metadata": {
        "id": "x7u6mU9rc_JX"
      },
      "execution_count": null,
      "outputs": []
    },
    {
      "cell_type": "code",
      "source": [
        "#  0   1   2   3   4   5   6\n",
        "#  M   a   h   m   o   u   d\n",
        "# -7  -6  -5  -4  -3  -2  -1"
      ],
      "metadata": {
        "id": "DCH_LVDEhq4Z"
      },
      "execution_count": null,
      "outputs": []
    },
    {
      "cell_type": "code",
      "source": [
        "# slicing : [ start_index : end_index : num_steps ]\n",
        "# if num_steps with negative value move backward if num_setps with positive value move forward\n",
        "# if start index > end index => return ''"
      ],
      "metadata": {
        "id": "-b9k2XmwNJy_"
      },
      "execution_count": null,
      "outputs": []
    },
    {
      "cell_type": "code",
      "source": [
        "# \"Mahmoud\"\n",
        "s1[0: 3 : 1]"
      ],
      "metadata": {
        "id": "zbSsU6aKS7eP"
      },
      "execution_count": null,
      "outputs": []
    },
    {
      "cell_type": "code",
      "source": [
        "s1[:4]"
      ],
      "metadata": {
        "id": "RZVSCJr8MZ8_"
      },
      "execution_count": null,
      "outputs": []
    },
    {
      "cell_type": "code",
      "source": [
        "s1[4 : ]"
      ],
      "metadata": {
        "id": "-vllj_PLMlp3"
      },
      "execution_count": null,
      "outputs": []
    },
    {
      "cell_type": "code",
      "source": [
        "s1"
      ],
      "metadata": {
        "id": "Xbc_aO_-JmZ9"
      },
      "execution_count": null,
      "outputs": []
    },
    {
      "cell_type": "code",
      "source": [
        "s1[-5: :1]"
      ],
      "metadata": {
        "id": "KPH1uI5cj4BF"
      },
      "execution_count": null,
      "outputs": []
    },
    {
      "cell_type": "code",
      "source": [
        "s1[-5: :-1]"
      ],
      "metadata": {
        "id": "wQ_hpZPqild9"
      },
      "execution_count": null,
      "outputs": []
    },
    {
      "cell_type": "code",
      "source": [
        "s1[2: : -1]"
      ],
      "metadata": {
        "id": "5pptWTQpgD32"
      },
      "execution_count": null,
      "outputs": []
    },
    {
      "cell_type": "code",
      "source": [
        "s1[5 : : -2]"
      ],
      "metadata": {
        "id": "cxOA-fSCiyKD"
      },
      "execution_count": null,
      "outputs": []
    },
    {
      "cell_type": "code",
      "source": [],
      "metadata": {
        "id": "do_RBapCyUci"
      },
      "execution_count": null,
      "outputs": []
    },
    {
      "cell_type": "code",
      "source": [
        "# Question :\n",
        "# ========================\n",
        "# If s = \"Aa1Bb2Cc3Dd4Ee5Ff5Gg6\"\n",
        "\n",
        "# Write Python to make\n",
        "\n",
        "# sUpper = 'ABCDEFG'\n",
        "# sLower = 'abcdefg'\n",
        "# sNumbers = '1234556'"
      ],
      "metadata": {
        "id": "YLO7-Wjl35c-"
      },
      "execution_count": null,
      "outputs": []
    },
    {
      "cell_type": "code",
      "source": [
        "s = \"Aa1Bb2Cc3Dd4Ee5Ff5Gg6\""
      ],
      "metadata": {
        "id": "4GjUMFTV35aP"
      },
      "execution_count": null,
      "outputs": []
    },
    {
      "cell_type": "code",
      "source": [
        "sUpper = s[0::3]\n",
        "print(sUpper)"
      ],
      "metadata": {
        "id": "IMkCvnpWWPra"
      },
      "execution_count": null,
      "outputs": []
    },
    {
      "cell_type": "code",
      "source": [
        "sLower = s[1::3]\n",
        "print(sLower)"
      ],
      "metadata": {
        "id": "F8o6ngspWPOF"
      },
      "execution_count": null,
      "outputs": []
    },
    {
      "cell_type": "code",
      "source": [
        "sNumbers = s[2::3]\n",
        "print(sNumbers)"
      ],
      "metadata": {
        "id": "vb-1CSDGWOx9"
      },
      "execution_count": null,
      "outputs": []
    },
    {
      "cell_type": "code",
      "source": [],
      "metadata": {
        "id": "JbFhmstIPDdX"
      },
      "execution_count": null,
      "outputs": []
    },
    {
      "cell_type": "code",
      "source": [],
      "metadata": {
        "id": "RoG099yFPe5R"
      },
      "execution_count": null,
      "outputs": []
    },
    {
      "cell_type": "code",
      "source": [
        "sUpper = \"\"\n",
        "sLower = \"\"\n",
        "sNumber = \"\"\n",
        "for i in s :\n",
        "  if i >= \"A\" and i <= \"Z\":\n",
        "    sUpper += i # sUpper = sUpper + i\n",
        "\n",
        "  if i >= \"a\" and i <= \"z\" :\n",
        "    sLower += i\n",
        "\n",
        "  if i>= \"0\" and i <= \"9\" :\n",
        "    sNumber += i\n",
        "\n",
        "print(sUpper)\n",
        "print(sLower)\n",
        "print(sNumber)"
      ],
      "metadata": {
        "id": "laCMMVJDzq5u"
      },
      "execution_count": null,
      "outputs": []
    },
    {
      "cell_type": "code",
      "source": [
        "listColors1"
      ],
      "metadata": {
        "id": "FiccpvUt0aro"
      },
      "execution_count": null,
      "outputs": []
    },
    {
      "cell_type": "code",
      "source": [
        "listColors2"
      ],
      "metadata": {
        "id": "SMGDRg0A0fE1"
      },
      "execution_count": null,
      "outputs": []
    },
    {
      "cell_type": "markdown",
      "source": [
        "**Concatination**"
      ],
      "metadata": {
        "id": "5V3205LOpiTx"
      }
    },
    {
      "cell_type": "code",
      "source": [
        "listColors1"
      ],
      "metadata": {
        "id": "zUhXoYXOZSt3"
      },
      "execution_count": null,
      "outputs": []
    },
    {
      "cell_type": "code",
      "source": [
        "listColors2"
      ],
      "metadata": {
        "id": "JP8ZeNTRZVJi"
      },
      "execution_count": null,
      "outputs": []
    },
    {
      "cell_type": "code",
      "source": [
        "print(listColors1, listColors2, sep=\",\")"
      ],
      "metadata": {
        "id": "e-c7H3YdZlNF"
      },
      "execution_count": null,
      "outputs": []
    },
    {
      "cell_type": "code",
      "source": [
        "# Concatination\n",
        "\n",
        "listColors1 + \",\" + listColors2"
      ],
      "metadata": {
        "id": "gvrb7lDLdPA8"
      },
      "execution_count": null,
      "outputs": []
    },
    {
      "cell_type": "markdown",
      "source": [
        "**Sequence(string) length**"
      ],
      "metadata": {
        "id": "NWCWM58rpnvP"
      }
    },
    {
      "cell_type": "code",
      "source": [
        "# get length of string\n",
        "\n",
        "len(listColors1)"
      ],
      "metadata": {
        "id": "bFvwPIDTQGyR"
      },
      "execution_count": null,
      "outputs": []
    },
    {
      "cell_type": "code",
      "source": [
        "print(listColors1)\n",
        "print(len(listColors1))"
      ],
      "metadata": {
        "id": "-8MFDn3nfAbf"
      },
      "execution_count": null,
      "outputs": []
    },
    {
      "cell_type": "markdown",
      "source": [
        "**strip**"
      ],
      "metadata": {
        "id": "ctkarEOgptLQ"
      }
    },
    {
      "cell_type": "code",
      "source": [
        "# Strip the string\n",
        "\n",
        "print(\" Mahmoud\")\n",
        "print(\" Mahmoud\".strip())"
      ],
      "metadata": {
        "id": "mC0KVziyIZch"
      },
      "execution_count": null,
      "outputs": []
    },
    {
      "cell_type": "code",
      "source": [
        "print(\"          Mah    moud       \".strip())"
      ],
      "metadata": {
        "id": "ysaYILu2auvJ"
      },
      "execution_count": null,
      "outputs": []
    },
    {
      "cell_type": "code",
      "source": [
        "print(listColors1.strip())\n",
        "print(len(listColors1.strip()))"
      ],
      "metadata": {
        "id": "mwcOUAJTfAPf"
      },
      "execution_count": null,
      "outputs": []
    },
    {
      "cell_type": "code",
      "source": [
        "print(listColors1.strip(), listColors2, sep=\",\")"
      ],
      "metadata": {
        "id": "C4WTByXYaZmo"
      },
      "execution_count": null,
      "outputs": []
    },
    {
      "cell_type": "markdown",
      "source": [
        "**Replace**"
      ],
      "metadata": {
        "id": "5xEF6-Ez99M0"
      }
    },
    {
      "cell_type": "code",
      "source": [
        "listColors1"
      ],
      "metadata": {
        "id": "E-W9Hr9n-EsG"
      },
      "execution_count": null,
      "outputs": []
    },
    {
      "cell_type": "code",
      "source": [
        "# Replace Character with another\n",
        "\n",
        "listColors1.replace(',', \" \")"
      ],
      "metadata": {
        "id": "VM7kVqXufhjw"
      },
      "execution_count": null,
      "outputs": []
    },
    {
      "cell_type": "code",
      "source": [
        "listColors1"
      ],
      "metadata": {
        "id": "We9ZTvQZJWqv"
      },
      "execution_count": null,
      "outputs": []
    },
    {
      "cell_type": "code",
      "source": [
        "\"Sunday,Monday,Tuseday,\".replace(',', '-')"
      ],
      "metadata": {
        "id": "Wp6gwwHw-WtS"
      },
      "execution_count": null,
      "outputs": []
    },
    {
      "cell_type": "code",
      "source": [
        "\"Sunday,Monday,Tuseday,\".replace(',', '-')[:-1]"
      ],
      "metadata": {
        "id": "HyQCTjBQEat7"
      },
      "execution_count": null,
      "outputs": []
    },
    {
      "cell_type": "code",
      "source": [
        "\"Sunday,Monday,Tuseday,\".replace(',', '-', 2)"
      ],
      "metadata": {
        "id": "mioPAVQKcFQy"
      },
      "execution_count": null,
      "outputs": []
    },
    {
      "cell_type": "code",
      "source": [
        "\"Sunday,Monday,Tuseday,\".replace(',', '-', 2)[:-1]"
      ],
      "metadata": {
        "id": "7pw6hfjyEUFw"
      },
      "execution_count": null,
      "outputs": []
    },
    {
      "cell_type": "code",
      "source": [],
      "metadata": {
        "id": "jMHySKDsEeSj"
      },
      "execution_count": null,
      "outputs": []
    },
    {
      "cell_type": "code",
      "source": [
        "\"Sunday,Monday,Tuseday,\".replace(\",\", \" \")"
      ],
      "metadata": {
        "id": "n91jQfSfbdo7"
      },
      "execution_count": null,
      "outputs": []
    },
    {
      "cell_type": "code",
      "source": [
        "\"Sunday,Monday,Tuseday,\".replace(\",\", \" \").strip()"
      ],
      "metadata": {
        "id": "1Djwe8ciEmTO"
      },
      "execution_count": null,
      "outputs": []
    },
    {
      "cell_type": "code",
      "source": [
        "\"Sunday,Monday,Tuseday,\".replace(\",\", \" \").strip().replace(\" \", \"-\")"
      ],
      "metadata": {
        "id": "b8zurJbxmirh"
      },
      "execution_count": null,
      "outputs": []
    },
    {
      "cell_type": "code",
      "source": [
        "\"Sunday,Monday,Tuseday,\".replace(\",\", \"-\").strip('-')"
      ],
      "metadata": {
        "id": "gluNOFCGbdey"
      },
      "execution_count": null,
      "outputs": []
    },
    {
      "cell_type": "code",
      "source": [
        "# Sun - Mon - Tuse -"
      ],
      "metadata": {
        "id": "N273HL0mepcl"
      },
      "execution_count": null,
      "outputs": []
    },
    {
      "cell_type": "code",
      "source": [
        "\"Sunday,Monday,Tuseday,\".replace(\"day,\", \" - \")"
      ],
      "metadata": {
        "id": "5Y2ouqsBepZv"
      },
      "execution_count": null,
      "outputs": []
    },
    {
      "cell_type": "code",
      "source": [
        "\"Sunday,Monday,Tuseday,\".replace(\"day,\", \" - \")[:-3]"
      ],
      "metadata": {
        "id": "uuFXbTjnepXK"
      },
      "execution_count": null,
      "outputs": []
    },
    {
      "cell_type": "code",
      "source": [
        "listColors1"
      ],
      "metadata": {
        "id": "nHCHyJ8-DBco"
      },
      "execution_count": null,
      "outputs": []
    },
    {
      "cell_type": "markdown",
      "source": [
        "**Find**"
      ],
      "metadata": {
        "id": "vYrdrAP8nbRd"
      }
    },
    {
      "cell_type": "code",
      "source": [
        "# Find Function\n",
        "# Return first index if there is a matching\n",
        "# Return -1 if there is no matching\n",
        "\n",
        "listColors1.find(\"Green\")"
      ],
      "metadata": {
        "id": "bRlBcjk7fhgF"
      },
      "execution_count": null,
      "outputs": []
    },
    {
      "cell_type": "code",
      "source": [
        "\"Red, Green,Blue\".find(\"Green\")"
      ],
      "metadata": {
        "id": "SKdx24AanAQX"
      },
      "execution_count": null,
      "outputs": []
    },
    {
      "cell_type": "code",
      "source": [
        "\"Red, Green,Blue\".find(\"green\")"
      ],
      "metadata": {
        "id": "D-lwsH3Sg3jk"
      },
      "execution_count": null,
      "outputs": []
    },
    {
      "cell_type": "code",
      "source": [
        "\"Red, Green,Blue\".find(\"G\")"
      ],
      "metadata": {
        "id": "p33tnB0EeBTE"
      },
      "execution_count": null,
      "outputs": []
    },
    {
      "cell_type": "code",
      "source": [
        "\"Red,Green,Green, Blue\".find(\"Green\")"
      ],
      "metadata": {
        "id": "_V2umsGhdjon"
      },
      "execution_count": null,
      "outputs": []
    },
    {
      "cell_type": "code",
      "source": [
        "listColors2"
      ],
      "metadata": {
        "id": "mRzwW6Tem0a7"
      },
      "execution_count": null,
      "outputs": []
    },
    {
      "cell_type": "code",
      "source": [
        "listColors2.find(\"Black\")"
      ],
      "metadata": {
        "id": "vLnpM-wRfheH"
      },
      "execution_count": null,
      "outputs": []
    },
    {
      "cell_type": "code",
      "source": [
        "listColors1.find(\"Black\")"
      ],
      "metadata": {
        "id": "AC32-UZam4s4"
      },
      "execution_count": null,
      "outputs": []
    },
    {
      "cell_type": "markdown",
      "source": [
        "**split**"
      ],
      "metadata": {
        "id": "bbQ3KLLYnnFJ"
      }
    },
    {
      "cell_type": "code",
      "source": [
        "listColors1"
      ],
      "metadata": {
        "id": "NZw6C497tYXI"
      },
      "execution_count": null,
      "outputs": []
    },
    {
      "cell_type": "code",
      "source": [
        "# Split Function\n",
        "# split() : return list\n",
        "\n",
        "print(listColors1)\n",
        "print(listColors1.split())\n",
        "print(listColors1.split(' '))"
      ],
      "metadata": {
        "id": "hnvJTHjZbiu-"
      },
      "execution_count": null,
      "outputs": []
    },
    {
      "cell_type": "code",
      "source": [
        "ss = \"Red Green Blue\""
      ],
      "metadata": {
        "id": "RCEnjNJAMZwn"
      },
      "execution_count": null,
      "outputs": []
    },
    {
      "cell_type": "code",
      "source": [
        "print(ss.split())"
      ],
      "metadata": {
        "id": "AoxAiG_eMEKC"
      },
      "execution_count": null,
      "outputs": []
    },
    {
      "cell_type": "code",
      "source": [
        "listColors1"
      ],
      "metadata": {
        "id": "zz9qmE8aok8B"
      },
      "execution_count": null,
      "outputs": []
    },
    {
      "cell_type": "code",
      "source": [
        "listColors1.split()"
      ],
      "metadata": {
        "id": "qkG638qHtpYg"
      },
      "execution_count": null,
      "outputs": []
    },
    {
      "cell_type": "code",
      "source": [
        "listColors1.split(',') # split on ','"
      ],
      "metadata": {
        "id": "a5pz6NeHbwoJ"
      },
      "execution_count": null,
      "outputs": []
    },
    {
      "cell_type": "code",
      "source": [
        "\"Sunday,Monday,Tuseday,\".split(\",\")"
      ],
      "metadata": {
        "id": "rWOj6ijRiLrn"
      },
      "execution_count": null,
      "outputs": []
    },
    {
      "cell_type": "code",
      "source": [
        "\"Sunday,Monday,Tuseday,\"[:-1].split(\",\")"
      ],
      "metadata": {
        "id": "_or-hLhyiLpP"
      },
      "execution_count": null,
      "outputs": []
    },
    {
      "cell_type": "code",
      "source": [
        "\"Sunday,Monday,Tuseday,\".split(\"day\")\n",
        "# ['Sun', ',Mon', ',Tuse', ',']"
      ],
      "metadata": {
        "id": "SNBmONAmjSWc"
      },
      "execution_count": null,
      "outputs": []
    },
    {
      "cell_type": "code",
      "source": [
        "\"Sun$day,Mon$day,Tuse$day,\".split(\"$\")"
      ],
      "metadata": {
        "id": "P1iM6FxSjvmC"
      },
      "execution_count": null,
      "outputs": []
    },
    {
      "cell_type": "code",
      "source": [
        "# ['Sun', 'day,Mon', 'day,Tuse', 'day,']"
      ],
      "metadata": {
        "id": "0Mw1wKWWiLmn"
      },
      "execution_count": null,
      "outputs": []
    },
    {
      "cell_type": "code",
      "source": [],
      "metadata": {
        "id": "2BWqI1bdiLkB"
      },
      "execution_count": null,
      "outputs": []
    },
    {
      "cell_type": "code",
      "source": [
        "print(listColors1, \"    type : \", type(listColors1))\n",
        "print(listColors1.split(','), \"    type : \", type(listColors1.split(','))) # split the string on ',' return the list"
      ],
      "metadata": {
        "id": "psUbgTXufhYL"
      },
      "execution_count": null,
      "outputs": []
    },
    {
      "cell_type": "markdown",
      "source": [
        "**join**"
      ],
      "metadata": {
        "id": "F_MHxiiInvTG"
      }
    },
    {
      "cell_type": "code",
      "source": [
        "listColors1.split(',')"
      ],
      "metadata": {
        "id": "6jKAvZtJH6jI"
      },
      "execution_count": null,
      "outputs": []
    },
    {
      "cell_type": "code",
      "source": [
        "# Join\n",
        "\n",
        "# split on ','\n",
        "l = listColors1.split(',')\n",
        "print(l)\n",
        "# join list items using * character\n",
        "# Join function recieve only sequence of items\n",
        "print(\"_\".join(l))\n",
        "\n",
        "# ['Red', 'Green', 'Blue ']\n",
        "# 'Red_Green_Blue'"
      ],
      "metadata": {
        "id": "Uo9JwUqKg9aP"
      },
      "execution_count": null,
      "outputs": []
    },
    {
      "cell_type": "code",
      "source": [
        "# ['Red', 'Green', 'Blue ']\n",
        "# \"_\".join(['Red', 'Green', 'Blue '])\n",
        "# Red_Green_Blue"
      ],
      "metadata": {
        "id": "f-6nZopEHmi1"
      },
      "execution_count": null,
      "outputs": []
    },
    {
      "cell_type": "code",
      "source": [
        "# split input : string , output : list\n",
        "# join  input : list , output : string"
      ],
      "metadata": {
        "id": "ToGGEjSbqIGN"
      },
      "execution_count": null,
      "outputs": []
    },
    {
      "cell_type": "code",
      "source": [
        "type(\",\".join(l))"
      ],
      "metadata": {
        "id": "5kl2gAZ0K6Eg"
      },
      "execution_count": null,
      "outputs": []
    },
    {
      "cell_type": "code",
      "source": [
        "sTest = \"Mahmoud Hammouri, Areen Adam, Aya sandooqa, Mays, Sara\""
      ],
      "metadata": {
        "id": "wbk-H4GPF25-"
      },
      "execution_count": null,
      "outputs": []
    },
    {
      "cell_type": "code",
      "source": [
        "sTest.split()"
      ],
      "metadata": {
        "id": "8pe68tzprmgi"
      },
      "execution_count": null,
      "outputs": []
    },
    {
      "cell_type": "code",
      "source": [
        "sTest.replace(',', \"\").split()"
      ],
      "metadata": {
        "id": "wLmSRre4Iqfp"
      },
      "execution_count": null,
      "outputs": []
    },
    {
      "cell_type": "code",
      "source": [
        "sTest.split()"
      ],
      "metadata": {
        "id": "SQODgfm9F23y"
      },
      "execution_count": null,
      "outputs": []
    },
    {
      "cell_type": "code",
      "source": [
        "\"_\".join(sTest.split())"
      ],
      "metadata": {
        "id": "LpTT8GMfGPLR"
      },
      "execution_count": null,
      "outputs": []
    },
    {
      "cell_type": "code",
      "source": [
        "\"-\".join(['Red', 'Green', 'Blue '])"
      ],
      "metadata": {
        "id": "_lnxOk2NGPI_"
      },
      "execution_count": null,
      "outputs": []
    },
    {
      "cell_type": "code",
      "source": [
        "sTest.split(\", \")"
      ],
      "metadata": {
        "id": "lFC2rzUWJ7S0"
      },
      "execution_count": null,
      "outputs": []
    },
    {
      "cell_type": "markdown",
      "source": [
        "#**List**\n"
      ],
      "metadata": {
        "id": "Lc9GU0yr2cG7"
      }
    },
    {
      "cell_type": "code",
      "source": [
        "# Create lists\n",
        "\n",
        "nums = [1, 2 , 3 , 4 , 5 , 6 , 7 ,8 , 9 , 10] # integer values\n",
        "\n",
        "fruits = [\"Apple\", \"Orange\", \"Banana\", \"Blueberry\"] # string values\n",
        "\n",
        "data = [\"Mahmoud\", 25, \"CIS\", 83.1] # int, string, float values"
      ],
      "metadata": {
        "id": "ZuRCmXLW2bVs"
      },
      "execution_count": null,
      "outputs": []
    },
    {
      "cell_type": "code",
      "source": [
        "fruits[-1]"
      ],
      "metadata": {
        "id": "hhzRaSOfrO3I"
      },
      "execution_count": null,
      "outputs": []
    },
    {
      "cell_type": "code",
      "source": [
        "# Access to list elements\n",
        "print(nums[0])\n",
        "print(nums[3:8:2])\n",
        "print(nums[3:-1])\n",
        "print(nums[3:])\n",
        "print(nums[-3: -1])"
      ],
      "metadata": {
        "id": "hsuDZitC2bMH"
      },
      "execution_count": null,
      "outputs": []
    },
    {
      "cell_type": "code",
      "source": [
        "print(nums[-3: ])"
      ],
      "metadata": {
        "id": "13EFge8N1dV3"
      },
      "execution_count": null,
      "outputs": []
    },
    {
      "cell_type": "code",
      "source": [
        "nums"
      ],
      "metadata": {
        "id": "tAUXebtq1xYt"
      },
      "execution_count": null,
      "outputs": []
    },
    {
      "cell_type": "code",
      "source": [
        "# Add element to the list\n",
        "nums.append(\"11\")\n",
        "print(nums)"
      ],
      "metadata": {
        "id": "4UckbEps4vL-"
      },
      "execution_count": null,
      "outputs": []
    },
    {
      "cell_type": "code",
      "source": [
        "# Concate two lists\n",
        "[1,3,\"5\",7] + [2,\"4\",6,8]"
      ],
      "metadata": {
        "id": "FUw8nmlo5ZTp"
      },
      "execution_count": null,
      "outputs": []
    },
    {
      "cell_type": "code",
      "source": [
        "# Extend\n",
        "\n",
        "temp = [1,3,5,7]\n",
        "temp.extend([2,4,6,8])\n",
        "print(temp)\n",
        "\n",
        "\n",
        "# [1,3,5,7] [2,4,6,8]\n",
        "# [1,3,5,7, 2,4,6,8]\n"
      ],
      "metadata": {
        "id": "eibah5MG5m0L"
      },
      "execution_count": null,
      "outputs": []
    },
    {
      "cell_type": "code",
      "source": [],
      "metadata": {
        "id": "9IS4Fdwn2ftZ"
      },
      "execution_count": null,
      "outputs": []
    },
    {
      "cell_type": "code",
      "source": [
        "# Try to append list\n",
        "q = [1,3,5,7]\n",
        "q.append([1,3,5,7])"
      ],
      "metadata": {
        "id": "gu1-RilbcieA"
      },
      "execution_count": null,
      "outputs": []
    },
    {
      "cell_type": "code",
      "source": [
        "q"
      ],
      "metadata": {
        "id": "fE_UVgbVcq79"
      },
      "execution_count": null,
      "outputs": []
    },
    {
      "cell_type": "code",
      "source": [
        "len(q)"
      ],
      "metadata": {
        "id": "diJN1i3cSM7u"
      },
      "execution_count": null,
      "outputs": []
    },
    {
      "cell_type": "code",
      "source": [
        "nums"
      ],
      "metadata": {
        "id": "DRujfUQqRMFn"
      },
      "execution_count": null,
      "outputs": []
    },
    {
      "cell_type": "code",
      "source": [
        "nums[10]"
      ],
      "metadata": {
        "id": "0h-OAmSVJe8g"
      },
      "execution_count": null,
      "outputs": []
    },
    {
      "cell_type": "code",
      "source": [
        "# Update list elements\n",
        "nums[10]= 11 # Update single element\n",
        "print(nums)"
      ],
      "metadata": {
        "id": "Cvn_TUvO6DUs"
      },
      "execution_count": null,
      "outputs": []
    },
    {
      "cell_type": "code",
      "source": [
        "nums = [1, 2, 3, 4, 5, 6, 7, 8, 9, 10, 11]\n",
        "print(nums)"
      ],
      "metadata": {
        "id": "4LgXF7iUS5zy"
      },
      "execution_count": null,
      "outputs": []
    },
    {
      "cell_type": "code",
      "source": [
        "nums[:3]"
      ],
      "metadata": {
        "id": "5-IftYrNR-9K"
      },
      "execution_count": null,
      "outputs": []
    },
    {
      "cell_type": "code",
      "source": [
        "nums = ['1', '2', '3', '4', 5, 6, 7, 8, 9, 10, 11]"
      ],
      "metadata": {
        "id": "18BXGHFOS69W"
      },
      "execution_count": null,
      "outputs": []
    },
    {
      "cell_type": "code",
      "source": [
        "nums[:4] = list(range(1,5))"
      ],
      "metadata": {
        "id": "xBIF7WIbTAGu"
      },
      "execution_count": null,
      "outputs": []
    },
    {
      "cell_type": "code",
      "source": [
        "nums"
      ],
      "metadata": {
        "id": "wAQf8hhjTWMO"
      },
      "execution_count": null,
      "outputs": []
    },
    {
      "cell_type": "code",
      "source": [
        "nums[:3] = [\"1\", \"2\", \"3\"] # Update multiple elements\n",
        "print(nums)"
      ],
      "metadata": {
        "id": "GaUXY82JRVpx"
      },
      "execution_count": null,
      "outputs": []
    },
    {
      "cell_type": "code",
      "source": [
        "nums[:3]"
      ],
      "metadata": {
        "id": "Vw_zpbc5Re1n"
      },
      "execution_count": null,
      "outputs": []
    },
    {
      "cell_type": "code",
      "source": [
        "nums = [1, 2, 3, 4, 5, 6, 7, 8, 9, 10, 11]\n",
        "print(nums)"
      ],
      "metadata": {
        "id": "FWSC_wpQS93p"
      },
      "execution_count": null,
      "outputs": []
    },
    {
      "cell_type": "code",
      "source": [
        "nums[:3] = [\"1\", \"2\", \"3\", \"4\", \"5\"] # Update multiple elements\n",
        "print(nums)"
      ],
      "metadata": {
        "id": "OWix3WAMTAuB"
      },
      "execution_count": null,
      "outputs": []
    },
    {
      "cell_type": "code",
      "source": [
        "nums = [1, 2, 3, 4, 5, 6, 7, 8, 9, 10, 11]\n",
        "print(nums)"
      ],
      "metadata": {
        "id": "2LUbg-zF1wkl"
      },
      "execution_count": null,
      "outputs": []
    },
    {
      "cell_type": "code",
      "source": [
        "[\"1\"]*3"
      ],
      "metadata": {
        "id": "epfV7ehfUljI"
      },
      "execution_count": null,
      "outputs": []
    },
    {
      "cell_type": "code",
      "source": [
        "nums[:3] = [\"1\"]*3 # Update multiple elements\n",
        "print(nums)"
      ],
      "metadata": {
        "id": "0X7gMSsXwK7d"
      },
      "execution_count": null,
      "outputs": []
    },
    {
      "cell_type": "code",
      "source": [
        "nums = [1, 2, 3, 4, 5, 6, 7, 8, 9, 10, 11]\n",
        "print(nums)"
      ],
      "metadata": {
        "id": "-CQMbqUySdIi"
      },
      "execution_count": null,
      "outputs": []
    },
    {
      "cell_type": "code",
      "source": [
        "nums[:5] = [\"1\", \"2\", \"3\", \"4\", \"5\"] # Update multiple elements\n",
        "print(nums)"
      ],
      "metadata": {
        "id": "gl1JQMbtReIG"
      },
      "execution_count": null,
      "outputs": []
    },
    {
      "cell_type": "code",
      "source": [
        "# Delete elements from lists\n",
        "nums.remove(11) # Delete element by value\n",
        "print(nums)"
      ],
      "metadata": {
        "id": "SQcT3MNEW6Xr"
      },
      "execution_count": null,
      "outputs": []
    },
    {
      "cell_type": "code",
      "source": [
        "del nums[-1] # Delete by index\n",
        "print(nums)"
      ],
      "metadata": {
        "id": "Ps10F-BS6DRK"
      },
      "execution_count": null,
      "outputs": []
    },
    {
      "cell_type": "code",
      "source": [
        "del nums[:3] # delete multiple elements using slicing\n",
        "print(nums)"
      ],
      "metadata": {
        "id": "2_vIKKF4XCee"
      },
      "execution_count": null,
      "outputs": []
    },
    {
      "cell_type": "code",
      "source": [
        "print(\"list Length : \", len(nums))"
      ],
      "metadata": {
        "id": "X5jgEwQVFBAI"
      },
      "execution_count": null,
      "outputs": []
    },
    {
      "cell_type": "code",
      "source": [
        "list_temp = list(range(1,21))\n",
        "list_temp"
      ],
      "metadata": {
        "id": "qLpHo_dI2qJj"
      },
      "execution_count": null,
      "outputs": []
    },
    {
      "cell_type": "code",
      "source": [
        "list_temp[0::2]"
      ],
      "metadata": {
        "id": "qrQ0_GyP2z_P"
      },
      "execution_count": null,
      "outputs": []
    },
    {
      "cell_type": "code",
      "source": [
        "del list_temp[0::2]"
      ],
      "metadata": {
        "id": "8DeItK6l3AS8"
      },
      "execution_count": null,
      "outputs": []
    },
    {
      "cell_type": "code",
      "source": [
        "list_temp"
      ],
      "metadata": {
        "id": "CmV_rhbD3AIo"
      },
      "execution_count": null,
      "outputs": []
    },
    {
      "cell_type": "code",
      "source": [
        "nums"
      ],
      "metadata": {
        "id": "72uOqhIZHrR3"
      },
      "execution_count": null,
      "outputs": []
    },
    {
      "cell_type": "code",
      "source": [
        "nums.extend([5,5,5])\n",
        "print(nums)"
      ],
      "metadata": {
        "id": "VdKMoiXUFA8T"
      },
      "execution_count": null,
      "outputs": []
    },
    {
      "cell_type": "code",
      "source": [
        "# Count\n",
        "print(\"Number of occurrences for 5  : \" , nums.count(\"5\"))"
      ],
      "metadata": {
        "id": "83AEimOJXatz"
      },
      "execution_count": null,
      "outputs": []
    },
    {
      "cell_type": "code",
      "source": [
        "print(\"Number of occurrences for 5  : \" , nums.count(5))"
      ],
      "metadata": {
        "id": "mRNz7fe3vTvT"
      },
      "execution_count": null,
      "outputs": []
    },
    {
      "cell_type": "code",
      "source": [
        "# Index\n",
        "print(\"Index for 5 value is \" , nums.index(5))"
      ],
      "metadata": {
        "id": "0EqaxDiTXq72"
      },
      "execution_count": null,
      "outputs": []
    },
    {
      "cell_type": "code",
      "source": [
        "nums"
      ],
      "metadata": {
        "id": "MzeTaylUYDln"
      },
      "execution_count": null,
      "outputs": []
    },
    {
      "cell_type": "code",
      "source": [
        "# Insert by index\n",
        "nums.insert(4,100)\n",
        "print(\"Insert value at 4th index \" , \"nums => \", end = ' ')\n",
        "print(nums)"
      ],
      "metadata": {
        "id": "WKCqmg43X1iI"
      },
      "execution_count": null,
      "outputs": []
    },
    {
      "cell_type": "code",
      "source": [
        "# nums.insert(1000)\n",
        "# print(nums)"
      ],
      "metadata": {
        "id": "Z-FSxhP-UUzM"
      },
      "execution_count": null,
      "outputs": []
    },
    {
      "cell_type": "code",
      "source": [
        "nums = ['4', '5', 6, 7, 100, 8, 9, 5, 5, 5]"
      ],
      "metadata": {
        "id": "ZLxuUU66Ygbu"
      },
      "execution_count": null,
      "outputs": []
    },
    {
      "cell_type": "code",
      "source": [
        "r = nums.remove(5)"
      ],
      "metadata": {
        "id": "LYedANzlNjrc"
      },
      "execution_count": null,
      "outputs": []
    },
    {
      "cell_type": "code",
      "source": [],
      "metadata": {
        "id": "hYpVu9OUXW9m"
      },
      "execution_count": null,
      "outputs": []
    },
    {
      "cell_type": "code",
      "source": [
        "nums"
      ],
      "metadata": {
        "id": "IsZxVTJ94Edj"
      },
      "execution_count": null,
      "outputs": []
    },
    {
      "cell_type": "code",
      "source": [
        "print(r)"
      ],
      "metadata": {
        "id": "BzmobJwdNnST"
      },
      "execution_count": null,
      "outputs": []
    },
    {
      "cell_type": "code",
      "source": [
        "nums"
      ],
      "metadata": {
        "id": "mTh6pNkc4Six"
      },
      "execution_count": null,
      "outputs": []
    },
    {
      "cell_type": "code",
      "source": [
        "# Pop\n",
        "# remove and return value\n",
        "p = nums.pop()\n",
        "\n",
        "print(\"Pop last element \", \"nums => \", nums)"
      ],
      "metadata": {
        "id": "uh7hglkoYI3I"
      },
      "execution_count": null,
      "outputs": []
    },
    {
      "cell_type": "code",
      "source": [
        "p"
      ],
      "metadata": {
        "id": "RL3Qf-33Yawe"
      },
      "execution_count": null,
      "outputs": []
    },
    {
      "cell_type": "code",
      "source": [
        "nums"
      ],
      "metadata": {
        "id": "u9AvI_mqNH8N"
      },
      "execution_count": null,
      "outputs": []
    },
    {
      "cell_type": "code",
      "source": [
        "# Reverse\n",
        "print(\"Reverse list items : \", end = ' ')\n",
        "nums.reverse()\n",
        "print(nums)"
      ],
      "metadata": {
        "id": "rMyae2glYx8O"
      },
      "execution_count": null,
      "outputs": []
    },
    {
      "cell_type": "code",
      "source": [
        "# Sort functions\n",
        "# sort() method sorts the original list in-place\n",
        "\n",
        "print(\"Sort list items : \", end = ' ')\n",
        "nums = [100,88,1001, 8, 7, 6, 5, 5, 5]\n",
        "nums.sort() # Sort list values from lower to higher\n",
        "print(nums)"
      ],
      "metadata": {
        "id": "NpenfYXUFVZy"
      },
      "execution_count": null,
      "outputs": []
    },
    {
      "cell_type": "code",
      "source": [
        "# Sort list values from higher to lower\n",
        "nums = [100,88,1001, 8, 7, 6, 5, 5, 5]\n",
        "nums.sort(reverse=True)\n",
        "print(nums)"
      ],
      "metadata": {
        "id": "LQQh_2MCTR5E"
      },
      "execution_count": null,
      "outputs": []
    },
    {
      "cell_type": "code",
      "source": [
        "# Define list of strings\n",
        "L=[\"Four\",\"two\",\"One\",\"three\",\"Five\"]\n",
        "\n",
        "# sorts the string elements alphabetically\n",
        "# A < Z < a < z\n",
        "\n",
        "L.sort()\n",
        "print(L)"
      ],
      "metadata": {
        "id": "oFtGviTyzCc0"
      },
      "execution_count": null,
      "outputs": []
    },
    {
      "cell_type": "code",
      "source": [
        "# Question :\n",
        "# What is the difference between nums.sort() and sorted(nums)\n",
        "\n",
        "\n",
        "nums = [100,88,1001, 8, 7, 6, 5, 5, 5]\n",
        "print(\"sorted nums : \", sorted(nums))\n",
        "\n",
        "print(\"nums : \" , nums)\n",
        "nums.sort()\n",
        "print(\"nums : \",nums)"
      ],
      "metadata": {
        "id": "sQSg6HzzzC-9"
      },
      "execution_count": null,
      "outputs": []
    },
    {
      "cell_type": "code",
      "source": [
        "nums = [100,88,1001, 8, 7, 6, 5, 5, 5]"
      ],
      "metadata": {
        "id": "7VR_sirfxZZi"
      },
      "execution_count": null,
      "outputs": []
    },
    {
      "cell_type": "code",
      "source": [
        "nums"
      ],
      "metadata": {
        "id": "VUGoUlbkxZVk"
      },
      "execution_count": null,
      "outputs": []
    },
    {
      "cell_type": "code",
      "source": [
        "nums.sort()"
      ],
      "metadata": {
        "id": "7X7I8wYayPdK"
      },
      "execution_count": null,
      "outputs": []
    },
    {
      "cell_type": "code",
      "source": [
        "nums"
      ],
      "metadata": {
        "id": "CSmiBTllyPaT"
      },
      "execution_count": null,
      "outputs": []
    },
    {
      "cell_type": "code",
      "source": [
        "nums = [100,88,1001, 8, 7, 6, 5, 5, 5]"
      ],
      "metadata": {
        "id": "FncIRzoNyPWm"
      },
      "execution_count": null,
      "outputs": []
    },
    {
      "cell_type": "code",
      "source": [
        "nums"
      ],
      "metadata": {
        "id": "NLxnJhKeyPUI"
      },
      "execution_count": null,
      "outputs": []
    },
    {
      "cell_type": "code",
      "source": [
        "sorted(nums)"
      ],
      "metadata": {
        "id": "n2sECJLYxZTV"
      },
      "execution_count": null,
      "outputs": []
    },
    {
      "cell_type": "code",
      "source": [
        "nums"
      ],
      "metadata": {
        "id": "5DrwQfk2xYyZ"
      },
      "execution_count": null,
      "outputs": []
    },
    {
      "cell_type": "code",
      "source": [
        "sorted_nums = sorted(nums)"
      ],
      "metadata": {
        "id": "jHS8iz97ygW7"
      },
      "execution_count": null,
      "outputs": []
    },
    {
      "cell_type": "code",
      "source": [
        "sorted_nums"
      ],
      "metadata": {
        "id": "sOrs1MVxQ-90"
      },
      "execution_count": null,
      "outputs": []
    },
    {
      "cell_type": "code",
      "source": [
        "nums"
      ],
      "metadata": {
        "id": "narXnuRmygNt"
      },
      "execution_count": null,
      "outputs": []
    },
    {
      "cell_type": "code",
      "source": [
        "sorted_nums = nums.sort()"
      ],
      "metadata": {
        "id": "la83G0mDPsAl"
      },
      "execution_count": null,
      "outputs": []
    },
    {
      "cell_type": "code",
      "source": [],
      "metadata": {
        "id": "uJFllWl7Z58J"
      },
      "execution_count": null,
      "outputs": []
    },
    {
      "cell_type": "code",
      "source": [
        "print(sorted_nums)"
      ],
      "metadata": {
        "id": "TdKAobhvP12k"
      },
      "execution_count": null,
      "outputs": []
    },
    {
      "cell_type": "code",
      "source": [
        "nums"
      ],
      "metadata": {
        "id": "oiqT-DGgP1zd"
      },
      "execution_count": null,
      "outputs": []
    },
    {
      "cell_type": "code",
      "source": [
        "# Task\n",
        "# Print the file name and extention for the following path\n",
        "path = \"C:\\\\MLCourse\\\\Python\\\\Assignement\\\\data.txt\"\n",
        "# Solution :"
      ],
      "metadata": {
        "id": "dtkVHzzeZU4M"
      },
      "execution_count": null,
      "outputs": []
    },
    {
      "cell_type": "code",
      "source": [
        "path.split(\"\\\\\")"
      ],
      "metadata": {
        "id": "4kFULmSKB4x2"
      },
      "execution_count": null,
      "outputs": []
    },
    {
      "cell_type": "code",
      "source": [
        "file_name = path.split(\"\\\\\").pop()"
      ],
      "metadata": {
        "id": "sKp81HfvB4s5"
      },
      "execution_count": null,
      "outputs": []
    },
    {
      "cell_type": "code",
      "source": [
        "file_name"
      ],
      "metadata": {
        "id": "p2C0fab5B4Q2"
      },
      "execution_count": null,
      "outputs": []
    },
    {
      "cell_type": "code",
      "source": [
        "file_name.split(\".\")"
      ],
      "metadata": {
        "id": "U-gFKkMSB4Me"
      },
      "execution_count": null,
      "outputs": []
    },
    {
      "cell_type": "code",
      "source": [
        "file_name.split(\".\")[0]"
      ],
      "metadata": {
        "id": "9_TBlAnAB4Ib"
      },
      "execution_count": null,
      "outputs": []
    },
    {
      "cell_type": "code",
      "source": [
        "file_name.split(\".\")[-1]"
      ],
      "metadata": {
        "id": "9_v3Vcuw78YQ"
      },
      "execution_count": null,
      "outputs": []
    },
    {
      "cell_type": "code",
      "source": [
        "#1 - split on '\\\\'\n",
        "path.split(\"\\\\\")"
      ],
      "metadata": {
        "id": "n5Ti-he2aAFp"
      },
      "execution_count": null,
      "outputs": []
    },
    {
      "cell_type": "code",
      "source": [
        "# 2- access to the last element\n",
        "path.split(\"\\\\\")[-1]"
      ],
      "metadata": {
        "id": "q341FvUJZ_rk"
      },
      "execution_count": null,
      "outputs": []
    },
    {
      "cell_type": "code",
      "source": [
        "# 3- split on '.'\n",
        "path.split(\"\\\\\")[-1].split(\".\")"
      ],
      "metadata": {
        "id": "hWPX7YSHZ_OI"
      },
      "execution_count": null,
      "outputs": []
    },
    {
      "cell_type": "code",
      "source": [
        "path.split(\"\\\\\")[-1].split(\".\")[0]"
      ],
      "metadata": {
        "id": "zs8v_pR6n52D"
      },
      "execution_count": null,
      "outputs": []
    },
    {
      "cell_type": "code",
      "source": [
        "path.split(\"\\\\\")[-1].split(\".\")[-1]"
      ],
      "metadata": {
        "id": "-WsqQR1NSjdk"
      },
      "execution_count": null,
      "outputs": []
    },
    {
      "cell_type": "code",
      "source": [
        "path.split(\"\\\\\")[-1].split(\".\")"
      ],
      "metadata": {
        "id": "iG3pDZbAbYsl"
      },
      "execution_count": null,
      "outputs": []
    },
    {
      "cell_type": "code",
      "source": [
        "# 4- save the output in varibles\n",
        "fileName, extension = path.split(\"\\\\\")[-1].split(\".\")"
      ],
      "metadata": {
        "id": "P1qXy7MsY8Bm"
      },
      "execution_count": null,
      "outputs": []
    },
    {
      "cell_type": "code",
      "source": [
        "print(\"file name : \", fileName)\n",
        "print(\"file extension : \", extension)"
      ],
      "metadata": {
        "id": "1Y9ryaxg8cJo"
      },
      "execution_count": null,
      "outputs": []
    },
    {
      "cell_type": "code",
      "source": [
        "# Task\n",
        "# Print the file name and extention for the following path\n",
        "path = \"C:\\\\MLCourse\\\\Python\\\\Assignement\\\\data.h.file.png\""
      ],
      "metadata": {
        "id": "Xob6g144da_f"
      },
      "execution_count": null,
      "outputs": []
    },
    {
      "cell_type": "code",
      "source": [
        "path.split(\"\\\\\")"
      ],
      "metadata": {
        "id": "mcuHsdz9bsT8"
      },
      "execution_count": null,
      "outputs": []
    },
    {
      "cell_type": "code",
      "source": [
        "path.split(\"\\\\\")[-1]"
      ],
      "metadata": {
        "id": "qaseDhcSB7vd"
      },
      "execution_count": null,
      "outputs": []
    },
    {
      "cell_type": "code",
      "source": [
        "path.split(\"\\\\\")[-1].split(\".\")"
      ],
      "metadata": {
        "id": "VAwOxa2dB7ri"
      },
      "execution_count": null,
      "outputs": []
    },
    {
      "cell_type": "code",
      "source": [
        "path.split(\"\\\\\")[-1].split(\".\")[-1]"
      ],
      "metadata": {
        "id": "x9z-I3J7B7nz"
      },
      "execution_count": null,
      "outputs": []
    },
    {
      "cell_type": "code",
      "source": [
        "path.split(\"\\\\\")[-1].split(\".\")[:-1]"
      ],
      "metadata": {
        "id": "kMZXrWONcIwB"
      },
      "execution_count": null,
      "outputs": []
    },
    {
      "cell_type": "code",
      "source": [
        "\".\".join(path.split(\"\\\\\")[-1].split(\".\")[:-1])"
      ],
      "metadata": {
        "id": "6UHq2JBAB7jq"
      },
      "execution_count": null,
      "outputs": []
    },
    {
      "cell_type": "code",
      "source": [
        "ll = [ 1,2, 3,4 , [4,4,4,4], 5,6]"
      ],
      "metadata": {
        "id": "968c0FqmYMQg"
      },
      "execution_count": null,
      "outputs": []
    },
    {
      "cell_type": "code",
      "source": [
        "ll[3]"
      ],
      "metadata": {
        "id": "ctv9v0U0MY1w"
      },
      "execution_count": null,
      "outputs": []
    },
    {
      "cell_type": "code",
      "source": [
        "ll[4]"
      ],
      "metadata": {
        "id": "wbkpZbheMYu1"
      },
      "execution_count": null,
      "outputs": []
    },
    {
      "cell_type": "code",
      "source": [
        "ll[4][0]"
      ],
      "metadata": {
        "id": "na9OXqvoMYor"
      },
      "execution_count": null,
      "outputs": []
    },
    {
      "cell_type": "code",
      "source": [
        "ll[4][0:2]"
      ],
      "metadata": {
        "id": "xZXXwfECWkaO"
      },
      "execution_count": null,
      "outputs": []
    },
    {
      "cell_type": "markdown",
      "source": [
        "#**Tuples**"
      ],
      "metadata": {
        "id": "4PZY1kWNJfhr"
      }
    },
    {
      "cell_type": "code",
      "source": [
        "# Create tuple by add comma-seperated-values in ( )\n",
        "colors = (\"Red\", \"Orange\", \"Black\", \"White\", \"Blue\", \"Green\", \"Green\")"
      ],
      "metadata": {
        "id": "UgV_WldIiU8p"
      },
      "execution_count": null,
      "outputs": []
    },
    {
      "cell_type": "code",
      "source": [
        "colors"
      ],
      "metadata": {
        "id": "a2OKJIiqfEXQ"
      },
      "execution_count": null,
      "outputs": []
    },
    {
      "cell_type": "code",
      "source": [
        "# Create tuple using \"tuple\" keyword and but comma-seperated-values in a list\n",
        "colors = tuple([\"Red\", \"Orange\", \"Black\", \"White\", \"Blue\", \"Green\", \"Green\"])"
      ],
      "metadata": {
        "id": "bWh4l9oyS6Hd"
      },
      "execution_count": null,
      "outputs": []
    },
    {
      "cell_type": "code",
      "source": [
        "# Access tuple data\n",
        "print(colors[1]) # using index\n",
        "print(colors[:3]) # using slicing\n"
      ],
      "metadata": {
        "id": "nMBlBoSbJe31"
      },
      "execution_count": null,
      "outputs": []
    },
    {
      "cell_type": "code",
      "source": [
        "# get number ot items in tuple by length function\n",
        "len(colors)"
      ],
      "metadata": {
        "id": "DAAvAqgvQ5-o"
      },
      "execution_count": null,
      "outputs": []
    },
    {
      "cell_type": "code",
      "source": [
        "# Concatination\n",
        "(1,2,3) + (4,5,6)"
      ],
      "metadata": {
        "id": "lcQdWnZzgtK7"
      },
      "execution_count": null,
      "outputs": []
    },
    {
      "cell_type": "code",
      "source": [
        "# Repetition\n",
        "(1,2,3) * 3"
      ],
      "metadata": {
        "id": "LoqDFit-gyNw"
      },
      "execution_count": null,
      "outputs": []
    },
    {
      "cell_type": "code",
      "source": [
        "# Update value in tuple\n",
        "\n",
        "# What's the output ?????\n",
        "# colors[0]=\"B\""
      ],
      "metadata": {
        "id": "FcaKxoW0RIiZ"
      },
      "execution_count": null,
      "outputs": []
    },
    {
      "cell_type": "code",
      "source": [
        "colors"
      ],
      "metadata": {
        "id": "ZfASVojkazI5"
      },
      "execution_count": null,
      "outputs": []
    },
    {
      "cell_type": "code",
      "source": [
        "# A < Z < a < z"
      ],
      "metadata": {
        "id": "eWd0yFE9HzRy"
      },
      "execution_count": null,
      "outputs": []
    },
    {
      "cell_type": "code",
      "source": [
        "# order = A-z\n",
        "print(min(colors))\n",
        "print(max(colors))"
      ],
      "metadata": {
        "id": "BqV6mkCLQ761"
      },
      "execution_count": null,
      "outputs": []
    },
    {
      "cell_type": "code",
      "source": [
        "# what is the output ???\n",
        "min(\"Z\",\"a\")"
      ],
      "metadata": {
        "id": "4UG2z7nzfo8z"
      },
      "execution_count": null,
      "outputs": []
    },
    {
      "cell_type": "code",
      "source": [
        "# what is the output ???\n",
        "min(\"BB\", \"BA\")"
      ],
      "metadata": {
        "id": "_itQcF9PhIs1"
      },
      "execution_count": null,
      "outputs": []
    },
    {
      "cell_type": "code",
      "source": [
        "# Return number of repetitions for specified value\n",
        "colors.count(\"Green\")"
      ],
      "metadata": {
        "id": "ws1DgcmYRXKR"
      },
      "execution_count": null,
      "outputs": []
    },
    {
      "cell_type": "markdown",
      "source": [
        "# **Set**"
      ],
      "metadata": {
        "id": "Ull0ku1eRdJf"
      }
    },
    {
      "cell_type": "code",
      "source": [
        "# Create set using \"set\" keyword and but comma-seperated-values in a list\n",
        "setColors1 =  set([\"Red\", \"Orange\", \"Black\", \"White\", \"Blue\", \"Green\", \"Green\"]) # Create by pass 1 itterable argument"
      ],
      "metadata": {
        "id": "bAM50xTuRfFZ"
      },
      "execution_count": null,
      "outputs": []
    },
    {
      "cell_type": "code",
      "source": [
        "# Create tuple by add comma-seperated-values in { }\n",
        "setColors2 = {\"Red\", \"Orange\", \"Black\", \"White\", \"Blue\", \"Green\"}"
      ],
      "metadata": {
        "id": "5Cwo_5RtrbxG"
      },
      "execution_count": null,
      "outputs": []
    },
    {
      "cell_type": "code",
      "source": [
        "setColors1"
      ],
      "metadata": {
        "id": "i4G6M70ARqJI"
      },
      "execution_count": null,
      "outputs": []
    },
    {
      "cell_type": "code",
      "source": [
        "setColors2"
      ],
      "metadata": {
        "id": "5yyv5RChSCdK"
      },
      "execution_count": null,
      "outputs": []
    },
    {
      "cell_type": "code",
      "source": [
        "setColors1[0]"
      ],
      "metadata": {
        "id": "BNbA5GbkJkw8"
      },
      "execution_count": null,
      "outputs": []
    },
    {
      "cell_type": "code",
      "source": [
        "print([1,1,2,3,4,7,7,5,6,6,6], \" length : \", len([1,1,2,3,4,7,7,5,6,6,6]))\n",
        "print(set([1,1,2,3,4,7,7,5,6,6,6]), \" length : \",len(set([1,1,2,3,4,7,7,5,6,6,6])))"
      ],
      "metadata": {
        "id": "tHhWM4PjSJjF"
      },
      "execution_count": null,
      "outputs": []
    },
    {
      "cell_type": "code",
      "source": [
        "set([1,1,2,3,4,7,7,5,6,6,6])"
      ],
      "metadata": {
        "id": "kDwhPoRE5ecX"
      },
      "execution_count": null,
      "outputs": []
    },
    {
      "cell_type": "code",
      "source": [
        "setColors1"
      ],
      "metadata": {
        "id": "nIm8Pa8SJ4cO"
      },
      "execution_count": null,
      "outputs": []
    },
    {
      "cell_type": "code",
      "source": [
        "setColors1.add(\"Gray\")"
      ],
      "metadata": {
        "id": "4OQYuziFJhHp"
      },
      "execution_count": null,
      "outputs": []
    },
    {
      "cell_type": "code",
      "source": [
        "setColors1"
      ],
      "metadata": {
        "id": "8AyAYEjQJnrD"
      },
      "execution_count": null,
      "outputs": []
    },
    {
      "cell_type": "code",
      "source": [
        "setColors1.add(\"Gray1\")"
      ],
      "metadata": {
        "id": "cNRJ3Lu8KkUW"
      },
      "execution_count": null,
      "outputs": []
    },
    {
      "cell_type": "code",
      "source": [
        "setColors1"
      ],
      "metadata": {
        "id": "-o3zCi9oKmyZ"
      },
      "execution_count": null,
      "outputs": []
    },
    {
      "cell_type": "code",
      "source": [
        "setColors1.add(\"Blue1\")"
      ],
      "metadata": {
        "id": "wma7_Dz_Ks24"
      },
      "execution_count": null,
      "outputs": []
    },
    {
      "cell_type": "code",
      "source": [
        "setColors1"
      ],
      "metadata": {
        "id": "5oMOCrgeK5fI"
      },
      "execution_count": null,
      "outputs": []
    },
    {
      "cell_type": "code",
      "source": [
        "set_1 = setColors1.copy()"
      ],
      "metadata": {
        "id": "rB5KzYGlJqvt"
      },
      "execution_count": null,
      "outputs": []
    },
    {
      "cell_type": "code",
      "source": [
        "set_1"
      ],
      "metadata": {
        "id": "BcO_Z0rCJqko"
      },
      "execution_count": null,
      "outputs": []
    },
    {
      "cell_type": "code",
      "source": [
        "set_1.remove(\"Black\")\n",
        "set_1"
      ],
      "metadata": {
        "id": "AwUlY95fjFJt"
      },
      "execution_count": null,
      "outputs": []
    },
    {
      "cell_type": "code",
      "source": [
        "s = set_1.pop()\n",
        "print(set_1)\n",
        "print(s)"
      ],
      "metadata": {
        "id": "Dcar7HSQJ2UA"
      },
      "execution_count": null,
      "outputs": []
    },
    {
      "cell_type": "code",
      "source": [
        "set_1"
      ],
      "metadata": {
        "id": "Is9j5eLtJ1VY"
      },
      "execution_count": null,
      "outputs": []
    },
    {
      "cell_type": "code",
      "source": [
        "set_1.clear()"
      ],
      "metadata": {
        "id": "3m49EVl_KFQC"
      },
      "execution_count": null,
      "outputs": []
    },
    {
      "cell_type": "code",
      "source": [
        "set_1"
      ],
      "metadata": {
        "id": "mocFjrLxKXgo"
      },
      "execution_count": null,
      "outputs": []
    },
    {
      "cell_type": "code",
      "source": [
        "del set_1"
      ],
      "metadata": {
        "id": "CPtTF8yILX6v"
      },
      "execution_count": null,
      "outputs": []
    },
    {
      "cell_type": "code",
      "source": [
        "# set_1"
      ],
      "metadata": {
        "id": "ZR-zFsTPhRe7"
      },
      "execution_count": null,
      "outputs": []
    },
    {
      "cell_type": "markdown",
      "source": [
        "# **Dictionary**"
      ],
      "metadata": {
        "id": "ftX2JUpCKjCf"
      }
    },
    {
      "cell_type": "code",
      "source": [
        "# Create dictionary using \"dict\" keyword\n",
        "d1 = dict()"
      ],
      "metadata": {
        "id": "E-Drp5tTWPzk"
      },
      "execution_count": null,
      "outputs": []
    },
    {
      "cell_type": "code",
      "source": [
        "d1"
      ],
      "metadata": {
        "id": "qghbOx9ak-_J"
      },
      "execution_count": null,
      "outputs": []
    },
    {
      "cell_type": "code",
      "source": [
        "d1[\"1\"] = 1"
      ],
      "metadata": {
        "id": "ui4EiVNtlAqD"
      },
      "execution_count": null,
      "outputs": []
    },
    {
      "cell_type": "code",
      "source": [
        "d1"
      ],
      "metadata": {
        "id": "QnCDhMTXkHwv"
      },
      "execution_count": null,
      "outputs": []
    },
    {
      "cell_type": "code",
      "source": [
        "d1[\"2\"] = 2\n",
        "d1[\"3\"] = 3\n",
        "\n",
        "# string , number, tuple"
      ],
      "metadata": {
        "id": "YlKYgm9RlIe5"
      },
      "execution_count": null,
      "outputs": []
    },
    {
      "cell_type": "code",
      "source": [
        "d1"
      ],
      "metadata": {
        "id": "gD97Rc8xlIcg"
      },
      "execution_count": null,
      "outputs": []
    },
    {
      "cell_type": "code",
      "source": [
        "d3 = { 1 : \"one\", 2 : \"two\" }"
      ],
      "metadata": {
        "id": "zsT31_LAR2B1"
      },
      "execution_count": null,
      "outputs": []
    },
    {
      "cell_type": "code",
      "source": [
        "d1[\"1\"], d1[\"2\"], d1[\"3\"] = 4,5,6"
      ],
      "metadata": {
        "id": "1HEm1jZDf63h"
      },
      "execution_count": null,
      "outputs": []
    },
    {
      "cell_type": "code",
      "source": [
        "d1"
      ],
      "metadata": {
        "id": "JYvUXgiPkaAt"
      },
      "execution_count": null,
      "outputs": []
    },
    {
      "cell_type": "code",
      "source": [
        "# # Create dictionary by add \"key\" : value in { }\n",
        "d2 = { \"3\" : 3.0, \"4\": 4, \"5\":5 }"
      ],
      "metadata": {
        "id": "GbU6rzY2ruwk"
      },
      "execution_count": null,
      "outputs": []
    },
    {
      "cell_type": "code",
      "source": [
        "d = {}\n",
        "# d = dict()"
      ],
      "metadata": {
        "id": "qWaieOoxJ3WR"
      },
      "execution_count": null,
      "outputs": []
    },
    {
      "cell_type": "code",
      "source": [
        "type(d)"
      ],
      "metadata": {
        "id": "0OlxMOSMJ4rz"
      },
      "execution_count": null,
      "outputs": []
    },
    {
      "cell_type": "code",
      "source": [
        "d2"
      ],
      "metadata": {
        "id": "kvhleZs_gGAD"
      },
      "execution_count": null,
      "outputs": []
    },
    {
      "cell_type": "code",
      "source": [
        "[\"Mahmoud\", 26, 83.1, [100,89,79,95,99]]"
      ],
      "metadata": {
        "id": "AyDDiiY9oseO"
      },
      "execution_count": null,
      "outputs": []
    },
    {
      "cell_type": "code",
      "source": [
        "sData = {\n",
        "         \"name\" : \"Mahmoud\",\n",
        "         \"age\": 26,\n",
        "         \"gpa\":83.1,\n",
        "         \"marks\": [100, 89, 79, 95, 99]\n",
        "         }"
      ],
      "metadata": {
        "id": "_cclo1w9WQq3"
      },
      "execution_count": null,
      "outputs": []
    },
    {
      "cell_type": "code",
      "source": [
        "sData"
      ],
      "metadata": {
        "id": "eerF0cNSfyxz"
      },
      "execution_count": null,
      "outputs": []
    },
    {
      "cell_type": "code",
      "source": [
        "# Access element by key\n",
        "print(sData[\"name\"])\n",
        "print(sData[\"marks\"])"
      ],
      "metadata": {
        "id": "FmNxoPzCXAkN"
      },
      "execution_count": null,
      "outputs": []
    },
    {
      "cell_type": "code",
      "source": [
        "sData.items()"
      ],
      "metadata": {
        "id": "MRfxEeJ8g4Qo"
      },
      "execution_count": null,
      "outputs": []
    },
    {
      "cell_type": "code",
      "source": [
        "list(sData.items())"
      ],
      "metadata": {
        "id": "H_eYjlalWBXd"
      },
      "execution_count": null,
      "outputs": []
    },
    {
      "cell_type": "code",
      "source": [
        "print(\"Dictionary key and values in tuple as pairs : \", sData.items(), end=\"\\n\\n\")"
      ],
      "metadata": {
        "id": "yyHW9CBDgXtp"
      },
      "execution_count": null,
      "outputs": []
    },
    {
      "cell_type": "code",
      "source": [
        "print(\"Dictionary values : \" , sData.values(), end=\"\\n\\n\")"
      ],
      "metadata": {
        "id": "WU9zCE_DglEa"
      },
      "execution_count": null,
      "outputs": []
    },
    {
      "cell_type": "code",
      "source": [
        "list(sData.values())"
      ],
      "metadata": {
        "id": "4zOn62JT4O80"
      },
      "execution_count": null,
      "outputs": []
    },
    {
      "cell_type": "code",
      "source": [
        "print(\"Dictionary keys : \",sData.keys(), end=\"\\n\\n\")"
      ],
      "metadata": {
        "id": "xaWV2eapWU-2"
      },
      "execution_count": null,
      "outputs": []
    },
    {
      "cell_type": "code",
      "source": [
        "list(sData.keys())"
      ],
      "metadata": {
        "id": "Y0F5wzNU39Qg"
      },
      "execution_count": null,
      "outputs": []
    },
    {
      "cell_type": "code",
      "source": [
        "# cheack if key name in dictionary keys\n",
        "\"name\" in sData.keys()"
      ],
      "metadata": {
        "id": "AlnWswgF4zMW"
      },
      "execution_count": null,
      "outputs": []
    },
    {
      "cell_type": "code",
      "source": [
        "\"Name\" in sData.keys()"
      ],
      "metadata": {
        "id": "rB9wLFI3WvGl"
      },
      "execution_count": null,
      "outputs": []
    },
    {
      "cell_type": "code",
      "source": [
        "sData[\"name\"]"
      ],
      "metadata": {
        "id": "SPzzgETvgrMg"
      },
      "execution_count": null,
      "outputs": []
    },
    {
      "cell_type": "code",
      "source": [
        "sData.get(\"name\")"
      ],
      "metadata": {
        "id": "J1d94QNvh2rb"
      },
      "execution_count": null,
      "outputs": []
    },
    {
      "cell_type": "code",
      "source": [
        "\"weight\" in sData.keys()"
      ],
      "metadata": {
        "id": "gjxpyY-QXIfe"
      },
      "execution_count": null,
      "outputs": []
    },
    {
      "cell_type": "code",
      "source": [
        "sData[\"weight\"]"
      ],
      "metadata": {
        "id": "yc2S3YHoYK_d"
      },
      "execution_count": null,
      "outputs": []
    },
    {
      "cell_type": "code",
      "source": [
        "if \"weight\" in sData.keys():\n",
        "  print(sData[\"weight\"])\n",
        "else :\n",
        "  print(\"Not exist\")"
      ],
      "metadata": {
        "id": "WTXB5mHwYSNT"
      },
      "execution_count": null,
      "outputs": []
    },
    {
      "cell_type": "code",
      "source": [
        "sData.get(\"weight\", 80)"
      ],
      "metadata": {
        "id": "sskqMwPiYs-d"
      },
      "execution_count": null,
      "outputs": []
    },
    {
      "cell_type": "code",
      "source": [
        "print(sData.get(\"weight\"))"
      ],
      "metadata": {
        "id": "fUh6x7y0Ymbq"
      },
      "execution_count": null,
      "outputs": []
    },
    {
      "cell_type": "code",
      "source": [
        "# use get to return the value if key exist or default value if key not exist\n",
        "print(sData.get(\"name\"))\n",
        "print(sData.get(\"weight\"))\n",
        "print(sData.get(\"weight\", 90.5))"
      ],
      "metadata": {
        "id": "exniKECbZr5h"
      },
      "execution_count": null,
      "outputs": []
    },
    {
      "cell_type": "code",
      "source": [
        "print(sData.get(\"height\", 180))"
      ],
      "metadata": {
        "id": "_q0JKsV75_MV"
      },
      "execution_count": null,
      "outputs": []
    },
    {
      "cell_type": "code",
      "source": [
        "# Add element in dictionary\n",
        "sData[\"Weight\"] = 85\n",
        "print(sData)"
      ],
      "metadata": {
        "id": "nDt7Rn5vXTVG"
      },
      "execution_count": null,
      "outputs": []
    },
    {
      "cell_type": "code",
      "source": [
        "# Update data in dictionary\n",
        "sData[\"Weight\"] = 86\n",
        "print(sData)"
      ],
      "metadata": {
        "id": "rxSLqbQ8XTRu"
      },
      "execution_count": null,
      "outputs": []
    },
    {
      "cell_type": "code",
      "source": [
        "sData[\"highet\"] = 180\n",
        "print(sData)"
      ],
      "metadata": {
        "id": "hspoXHkk6-h3"
      },
      "execution_count": null,
      "outputs": []
    },
    {
      "cell_type": "code",
      "source": [
        "sData[\"highet\"] = 170"
      ],
      "metadata": {
        "id": "UtwrLQU17HVT"
      },
      "execution_count": null,
      "outputs": []
    },
    {
      "cell_type": "code",
      "source": [
        "# Delete element from dictionary\n",
        "del sData[\"Weight\"]\n",
        "print(sData)"
      ],
      "metadata": {
        "id": "DuY1VukAXvou"
      },
      "execution_count": null,
      "outputs": []
    },
    {
      "cell_type": "code",
      "source": [
        "del sData[\"highet\"]"
      ],
      "metadata": {
        "id": "4M4E9ckW7XRV"
      },
      "execution_count": null,
      "outputs": []
    },
    {
      "cell_type": "code",
      "source": [
        "sData"
      ],
      "metadata": {
        "id": "gRG65vez7d3C"
      },
      "execution_count": null,
      "outputs": []
    },
    {
      "cell_type": "code",
      "source": [
        "# Copy dictionary\n",
        "sDataCopy = sData.copy()\n",
        "print(sDataCopy)"
      ],
      "metadata": {
        "id": "49aeTZr0X68r"
      },
      "execution_count": null,
      "outputs": []
    },
    {
      "cell_type": "code",
      "source": [
        "sDataCopy2 = sData\n",
        "print(sDataCopy2)"
      ],
      "metadata": {
        "id": "oBEnrNvXYzLn"
      },
      "execution_count": null,
      "outputs": []
    },
    {
      "cell_type": "code",
      "source": [
        "print(\"Original : \", sData)\n",
        "print(\"Copy 1 : \", sDataCopy)\n",
        "print(\"Copy 2 : \", sDataCopy2)\n"
      ],
      "metadata": {
        "id": "DP_nQxHIV0tK"
      },
      "execution_count": null,
      "outputs": []
    },
    {
      "cell_type": "code",
      "source": [
        "sDataCopy2[\"name\"] = \"Ahmad\""
      ],
      "metadata": {
        "id": "UheMNwIKWLkT"
      },
      "execution_count": null,
      "outputs": []
    },
    {
      "cell_type": "code",
      "source": [
        "print(\"Original : \", sData)\n",
        "print(\"Copy 1 : \", sDataCopy)\n",
        "print(\"Copy 2 : \", sDataCopy2)"
      ],
      "metadata": {
        "id": "cbra-_aMWMFF"
      },
      "execution_count": null,
      "outputs": []
    },
    {
      "cell_type": "code",
      "source": [
        "sData[\"name\"] = \"Khaled\""
      ],
      "metadata": {
        "id": "7hHAVFxWWSLE"
      },
      "execution_count": null,
      "outputs": []
    },
    {
      "cell_type": "code",
      "source": [
        "print(\"Original : \", sData)\n",
        "print(\"Copy 1 : \", sDataCopy)\n",
        "print(\"Copy 2 : \", sDataCopy2)"
      ],
      "metadata": {
        "id": "6MDzv9u-WV1c"
      },
      "execution_count": null,
      "outputs": []
    },
    {
      "cell_type": "code",
      "source": [
        "sData[\"age\"] =30\n",
        "\n",
        "print(\"Original : \", sData)\n",
        "print(\"Copy 1 : \", sDataCopy)\n",
        "print(\"Copy 2 : \", sDataCopy2)"
      ],
      "metadata": {
        "id": "_MeZIP1K8Jgk"
      },
      "execution_count": null,
      "outputs": []
    },
    {
      "cell_type": "code",
      "source": [
        "sDataCopy[\"age\"] =50\n",
        "\n",
        "print(\"Original : \", sData)\n",
        "print(\"Copy 1 : \", sDataCopy)\n",
        "print(\"Copy 2 : \", sDataCopy2)"
      ],
      "metadata": {
        "id": "zfh8BbttPHuh"
      },
      "execution_count": null,
      "outputs": []
    },
    {
      "cell_type": "code",
      "source": [
        "# Clear dictionary items\n",
        "# Delete keys and values from dictionary and return empty dictionary\n",
        "# Do not remove dictionary from memory\n",
        "sDataCopy.clear()\n",
        "print(sDataCopy)"
      ],
      "metadata": {
        "id": "jfjh2hVxZVcv"
      },
      "execution_count": null,
      "outputs": []
    },
    {
      "cell_type": "code",
      "source": [
        "# Delete dictionary from memory\n",
        "del sDataCopy"
      ],
      "metadata": {
        "id": "jnC_Q8pElsYo"
      },
      "execution_count": null,
      "outputs": []
    },
    {
      "cell_type": "code",
      "source": [
        "print(sDataCopy)"
      ],
      "metadata": {
        "id": "4ztYMf0N94Sl"
      },
      "execution_count": null,
      "outputs": []
    },
    {
      "cell_type": "code",
      "source": [
        "d1 = {'1': 1, '2': 2, '3': 3}\n",
        "d2 = {'3': 3.0, '4': 4, '5': 5}"
      ],
      "metadata": {
        "id": "oO2UW97wluAg"
      },
      "execution_count": null,
      "outputs": []
    },
    {
      "cell_type": "code",
      "source": [
        "d1"
      ],
      "metadata": {
        "id": "PqYzb0p3SVOA"
      },
      "execution_count": null,
      "outputs": []
    },
    {
      "cell_type": "code",
      "source": [
        "d2"
      ],
      "metadata": {
        "id": "YmqvUQ4Y-Xtc"
      },
      "execution_count": null,
      "outputs": []
    },
    {
      "cell_type": "code",
      "source": [
        "#  {'1': 1, '2': 2, '3': 3} update {'3': 3.0, '4': 4, '5': 5}\n",
        "#  {'1': 1, '2': 2, '3': 3.0, '4': 4, '5': 5 }"
      ],
      "metadata": {
        "id": "X4PV2iyjAnog"
      },
      "execution_count": null,
      "outputs": []
    },
    {
      "cell_type": "code",
      "source": [
        "# Add keys and values from dictionary to another\n",
        "print(\"d1 : \" ,d1)\n",
        "print(\"d2 : \" ,d2)\n",
        "\n",
        "d1.update(d2)\n",
        "print(\"Updated d1 : \", d1)"
      ],
      "metadata": {
        "id": "2Yl2S4Q5Zf2_"
      },
      "execution_count": null,
      "outputs": []
    },
    {
      "cell_type": "code",
      "source": [
        "d1.update({\"6\" : 6 , \"7\" : 7})"
      ],
      "metadata": {
        "id": "H1-T2pW2-nPY"
      },
      "execution_count": null,
      "outputs": []
    },
    {
      "cell_type": "code",
      "source": [
        "print(d1)"
      ],
      "metadata": {
        "id": "lOkn8hwB-wSZ"
      },
      "execution_count": null,
      "outputs": []
    },
    {
      "cell_type": "code",
      "source": [
        "d1.update({\"2\" : \"two\", \"6\":6.5, \"8\":8})\n",
        "print(d1)"
      ],
      "metadata": {
        "id": "l_uzmwXjZHGT"
      },
      "execution_count": null,
      "outputs": []
    },
    {
      "cell_type": "code",
      "source": [
        "d1.update({ 2 : \"three\"})\n",
        "print(d1)"
      ],
      "metadata": {
        "id": "eIo_VcKnZFxl"
      },
      "execution_count": null,
      "outputs": []
    },
    {
      "cell_type": "code",
      "source": [
        "d1.update({\"two\" : 2 , \"Two\" : 2})\n",
        "print(d1)"
      ],
      "metadata": {
        "id": "J3ed9rr-ZrLX"
      },
      "execution_count": null,
      "outputs": []
    },
    {
      "cell_type": "code",
      "source": [
        "d1"
      ],
      "metadata": {
        "id": "8mhRyO9sg3JT"
      },
      "execution_count": null,
      "outputs": []
    },
    {
      "cell_type": "code",
      "source": [
        "{\"two\" : 2 , \"two\" : 3}"
      ],
      "metadata": {
        "id": "ccOBVkDSwe17"
      },
      "execution_count": null,
      "outputs": []
    },
    {
      "cell_type": "code",
      "source": [
        "d1.update({\"two\" : 2 , \"two\" : 3})\n",
        "print(d1)"
      ],
      "metadata": {
        "id": "gAsnn_3ogkvW"
      },
      "execution_count": null,
      "outputs": []
    },
    {
      "cell_type": "code",
      "source": [
        "d1"
      ],
      "metadata": {
        "id": "GrRiTXRTaKhT"
      },
      "execution_count": null,
      "outputs": []
    },
    {
      "cell_type": "code",
      "source": [
        "# Crate dictionary with tuple as key\n",
        "dict_ = {\n",
        "         (1,2) : [\"Mahmoud\", \"Ahmad\"],\n",
        "         (3,4) : [\"Muna\", \"Rama\"]\n",
        "         }"
      ],
      "metadata": {
        "id": "MhEYcvNEbM8W"
      },
      "execution_count": null,
      "outputs": []
    },
    {
      "cell_type": "code",
      "source": [
        "dict_[(1,2)]"
      ],
      "metadata": {
        "id": "neArui7Jcu8H"
      },
      "execution_count": null,
      "outputs": []
    },
    {
      "cell_type": "code",
      "source": [
        "dict_[(1,2)][0]"
      ],
      "metadata": {
        "id": "8_uVNJ1ly1Dh"
      },
      "execution_count": null,
      "outputs": []
    },
    {
      "cell_type": "code",
      "source": [
        "dict_[(1,3)]"
      ],
      "metadata": {
        "id": "3pjKiYrq_yzb"
      },
      "execution_count": null,
      "outputs": []
    },
    {
      "cell_type": "code",
      "source": [],
      "metadata": {
        "id": "cqiULkyXw22L"
      },
      "execution_count": null,
      "outputs": []
    },
    {
      "cell_type": "code",
      "source": [
        "# Create list of dictionaries of data\n",
        "studentData =    [\n",
        "\n",
        "     {\"name\" : \"Mahmoud\",\n",
        "      \"age\": 26,\n",
        "      \"gpa\":83.1,\n",
        "      \"marks\": [100, 89, 79, 95, 99] }\n",
        "\n",
        "      ,\n",
        "\n",
        "     {\"name\" : \"Ahmad\",\n",
        "      \"age\": 30,\n",
        "      \"gpa\":93.3,\n",
        "      \"marks\": [99, 89, 79, 95, 77]}\n",
        "\n",
        "      ,\n",
        "\n",
        "     {\"name\" : \"Susu\",\n",
        "      \"age\": 20,\n",
        "      \"gpa\":87.0,\n",
        "      \"marks\": [80, 89, 79, 75, 99]}\n",
        "\n",
        "    ]\n"
      ],
      "metadata": {
        "id": "L4pgaY9EQUTp"
      },
      "execution_count": null,
      "outputs": []
    },
    {
      "cell_type": "code",
      "source": [
        "studentData"
      ],
      "metadata": {
        "id": "ANG3D6fjrdBB"
      },
      "execution_count": null,
      "outputs": []
    },
    {
      "cell_type": "code",
      "source": [
        "# Access to items (dictionary) in the list using index\n",
        "# Returned object is dictionary\n",
        "studentData[0]"
      ],
      "metadata": {
        "id": "64_3sly2JpLx"
      },
      "execution_count": null,
      "outputs": []
    },
    {
      "cell_type": "code",
      "source": [
        "# Access the element in dictionary by \"key name\"\n",
        "# In the following code :\n",
        "# 1- Access to the first element in the list  => studentData[0]\n",
        "# 2- Access to the name value by \"name\" key =>  studentData[0][\"name\"]\n",
        "\n",
        "studentData[0]['name']"
      ],
      "metadata": {
        "id": "eNx8I9bs_rSp"
      },
      "execution_count": null,
      "outputs": []
    },
    {
      "cell_type": "code",
      "source": [],
      "metadata": {
        "id": "sQjw8V1ndcbq"
      },
      "execution_count": null,
      "outputs": []
    },
    {
      "cell_type": "code",
      "source": [
        "# Task :\n",
        "# Write Python code to access to the gpa value for second dictionary in the list\n",
        "\n",
        "studentData[1]['gpa']"
      ],
      "metadata": {
        "id": "wcqSdWzjAeXw"
      },
      "execution_count": null,
      "outputs": []
    },
    {
      "cell_type": "code",
      "source": [
        "# Access to mark list in the last dictionary in studentData list\n",
        "# Return list of marks\n",
        "\n",
        "studentData[-1][\"marks\"]"
      ],
      "metadata": {
        "id": "kddtVq-aFl44"
      },
      "execution_count": null,
      "outputs": []
    },
    {
      "cell_type": "code",
      "source": [
        "# Access to the first 3 marks in the last dictionary in studentData list\n",
        "studentData[-1][\"marks\"][0:3]"
      ],
      "metadata": {
        "id": "cvgLsWoXA6yt"
      },
      "execution_count": null,
      "outputs": []
    },
    {
      "cell_type": "code",
      "source": [],
      "metadata": {
        "id": "kwnfkeYiyoV9"
      },
      "execution_count": null,
      "outputs": []
    },
    {
      "cell_type": "code",
      "source": [
        "# Task\n",
        "# Write Python code to access to the last 3 marks in the first dictionary in studentData list\n",
        "\n",
        "studentData[0][\"marks\"][-3:]"
      ],
      "metadata": {
        "id": "Q8z4sZy3BRNN"
      },
      "execution_count": null,
      "outputs": []
    },
    {
      "cell_type": "code",
      "source": [
        "studentData"
      ],
      "metadata": {
        "id": "_JjH1NGkBYNW"
      },
      "execution_count": null,
      "outputs": []
    },
    {
      "cell_type": "code",
      "source": [
        "# Print all names in the studentData\n",
        "# Solution 1\n",
        "\n",
        "for i in range(len(studentData)):\n",
        "  print(studentData[i][\"name\"])"
      ],
      "metadata": {
        "id": "XJNbTxyeU1Js"
      },
      "execution_count": null,
      "outputs": []
    },
    {
      "cell_type": "code",
      "source": [],
      "metadata": {
        "id": "vAhOx-wWgiBL"
      },
      "execution_count": null,
      "outputs": []
    },
    {
      "cell_type": "code",
      "source": [
        "# Solution 2\n",
        "# Print dictionary number in the list followed by name value\n",
        "for i in range(len(studentData)):\n",
        "  print(i+1 , \" \" , studentData[i][\"name\"])"
      ],
      "metadata": {
        "id": "E1pcuJzECG6V"
      },
      "execution_count": null,
      "outputs": []
    },
    {
      "cell_type": "code",
      "source": [
        "list(enumerate([\"Mahmoud\", \"Ahmad\", \"Salem\"]))\n",
        "# (0, Mahmoud) , (1, Ahmad), (2, Salem)|"
      ],
      "metadata": {
        "id": "onbsiDHgESED"
      },
      "execution_count": null,
      "outputs": []
    },
    {
      "cell_type": "code",
      "source": [
        "list(enumerate(studentData))"
      ],
      "metadata": {
        "id": "b1wJo8fADsEO"
      },
      "execution_count": null,
      "outputs": []
    },
    {
      "cell_type": "code",
      "source": [
        "idx ,name = (0, \"Mahmoud\")\n",
        "\n",
        "print(idx)\n",
        "print(name)"
      ],
      "metadata": {
        "id": "2xq858SkELK2"
      },
      "execution_count": null,
      "outputs": []
    },
    {
      "cell_type": "code",
      "source": [
        "name = (0, \"Mahmoud\")\n",
        "print(name)"
      ],
      "metadata": {
        "id": "1nYaTMqi2FdU"
      },
      "execution_count": null,
      "outputs": []
    },
    {
      "cell_type": "code",
      "source": [
        "# Solutution 3\n",
        "# Print dictionary number in the list followed by GPA value\n",
        "# Using enumerate\n",
        "\n",
        "for idx, data in enumerate(studentData):\n",
        "  print(idx+1 , \" \" , data[\"name\"])"
      ],
      "metadata": {
        "id": "Rzb9dfYXCiKl"
      },
      "execution_count": null,
      "outputs": []
    },
    {
      "cell_type": "code",
      "source": [
        "# Task\n",
        "# For each dictionary in the list print student name followed by gpa\n",
        "\n",
        "for idx, data in enumerate(studentData):\n",
        "  print(idx+1 , \" \" , data[\"name\"], \" \" , data[\"gpa\"])"
      ],
      "metadata": {
        "id": "rOHTgsNVC9NG"
      },
      "execution_count": null,
      "outputs": []
    },
    {
      "cell_type": "code",
      "source": [
        "# Update all name values in dictionary with new input value\n"
      ],
      "metadata": {
        "id": "lsf8o5qoGCSe"
      },
      "execution_count": null,
      "outputs": []
    },
    {
      "cell_type": "code",
      "source": [
        "studentData"
      ],
      "metadata": {
        "id": "aVZYATBwuU5T"
      },
      "execution_count": null,
      "outputs": []
    },
    {
      "cell_type": "code",
      "source": [
        "for data in studentData:\n",
        "  data[\"name\"] = input(\"Enter new name : \")"
      ],
      "metadata": {
        "id": "4rRv3oClvaeo"
      },
      "execution_count": null,
      "outputs": []
    },
    {
      "cell_type": "code",
      "source": [
        "studentData"
      ],
      "metadata": {
        "id": "a4CzwoBY273T"
      },
      "execution_count": null,
      "outputs": []
    },
    {
      "cell_type": "code",
      "source": [
        "# Update gpa value for Mahmoud student in dictionary with new input value\n",
        "\n",
        "for data in studentData:\n",
        "  if data['name'] == \"taima\":\n",
        "    data['gpa']= float(input(\"enter new gpa : \"))\n"
      ],
      "metadata": {
        "id": "DNrJ4FKrJS1f"
      },
      "execution_count": null,
      "outputs": []
    },
    {
      "cell_type": "code",
      "source": [
        "studentData"
      ],
      "metadata": {
        "id": "7kNel0eCv18h"
      },
      "execution_count": null,
      "outputs": []
    },
    {
      "cell_type": "code",
      "source": [
        "# Access to keys in the dictionary by index\n",
        "# 1- Access to any dictionary in the list.  e.g. first dictionary\n",
        "\n",
        "studentData[0]\n",
        "\n",
        "# 2- Access to the keys in the dictionary\n",
        "studentData[0].keys()\n",
        "\n",
        "# 3- Casting return value to the list\n",
        "list(studentData[0].keys())\n",
        "\n",
        "# Access to element of the list of keys by index\n",
        "list(studentData[0].keys())[-2]"
      ],
      "metadata": {
        "id": "h-MwyyJSqL5c"
      },
      "execution_count": null,
      "outputs": []
    },
    {
      "cell_type": "code",
      "source": [
        "list(studentData[0].keys())[:3]"
      ],
      "metadata": {
        "id": "BRjIs99Ec3u_"
      },
      "execution_count": null,
      "outputs": []
    },
    {
      "cell_type": "code",
      "source": [
        "studentData[0].keys()"
      ],
      "metadata": {
        "id": "oecqDHicbGD2"
      },
      "execution_count": null,
      "outputs": []
    },
    {
      "cell_type": "code",
      "source": [
        "list(studentData[0].keys())[::2]"
      ],
      "metadata": {
        "id": "T3yRApTHdF4b"
      },
      "execution_count": null,
      "outputs": []
    },
    {
      "cell_type": "code",
      "source": [
        "studentData"
      ],
      "metadata": {
        "id": "BX3dkYJSBVRU"
      },
      "execution_count": null,
      "outputs": []
    },
    {
      "cell_type": "code",
      "source": [
        "studentData[0].items()"
      ],
      "metadata": {
        "id": "2lMTOFhbBexo"
      },
      "execution_count": null,
      "outputs": []
    },
    {
      "cell_type": "code",
      "source": [],
      "metadata": {
        "id": "74asQlgeCxuP"
      },
      "execution_count": null,
      "outputs": []
    },
    {
      "cell_type": "code",
      "source": [
        "# Print keys and values for all dictionaries in the list\n",
        "# Use dict.items()\n",
        "\n",
        "for data in studentData:\n",
        "  for k, v in data.items():\n",
        "    print(k, \": \", v)\n",
        "  print(\"=\"*50)"
      ],
      "metadata": {
        "id": "D5A0jiXYvYH4"
      },
      "execution_count": null,
      "outputs": []
    },
    {
      "cell_type": "code",
      "source": [
        "# Create and print list of all gpa values\n",
        "list_all_gpa = []\n",
        "\n",
        "for data in studentData:\n",
        "  list_all_gpa.append(data['gpa'])\n",
        "\n",
        "list_all_gpa\n"
      ],
      "metadata": {
        "id": "01Qan8ZSG9vm"
      },
      "execution_count": null,
      "outputs": []
    },
    {
      "cell_type": "code",
      "source": [
        "# Task :\n",
        "# Create and print list that obtain all mark values in all dictionaries\n",
        "\n",
        "list_all_marks = []\n",
        "\n",
        "for data in studentData:\n",
        "  list_all_marks.extend(data['marks'])\n"
      ],
      "metadata": {
        "id": "ZQE_FKZGHrZr"
      },
      "execution_count": null,
      "outputs": []
    },
    {
      "cell_type": "code",
      "source": [
        "list_all_marks"
      ],
      "metadata": {
        "id": "pvNZdaP15LHp"
      },
      "execution_count": null,
      "outputs": []
    },
    {
      "cell_type": "markdown",
      "source": [
        "# **Functions**"
      ],
      "metadata": {
        "id": "wC9NujObcFk3"
      }
    },
    {
      "cell_type": "code",
      "source": [
        "# Create function with 1 argument\n",
        "def getStudentAge(sName):\n",
        "\n",
        "  studentsAges = {\n",
        "   \"mahmoud\" : 25,\n",
        "   \"ahmad\" : 22,\n",
        "   \"khaled\" : 28,\n",
        "   \"rula\" : 25,\n",
        "   }\n",
        "\n",
        "  # if sName in studentsAges.keys():\n",
        "  #    return studentsAges[sName]\n",
        "\n",
        "  # return \"student is not exist\"\n",
        "\n",
        "  return studentsAges.get(sName, \"student is not exist\")\n"
      ],
      "metadata": {
        "id": "G0R7_he_dJz1"
      },
      "execution_count": null,
      "outputs": []
    },
    {
      "cell_type": "code",
      "source": [
        "print(getStudentAge(sName = 'mahmoud'))"
      ],
      "metadata": {
        "id": "aiEAu8LPfm9g"
      },
      "execution_count": null,
      "outputs": []
    },
    {
      "cell_type": "code",
      "source": [
        "print(getStudentAge(sName = 'ali'))"
      ],
      "metadata": {
        "id": "JCbxS7Atfs8i"
      },
      "execution_count": null,
      "outputs": []
    },
    {
      "cell_type": "code",
      "source": [
        "# Create function with multiple arguments in one line\n",
        "def getFullName(fName, mName, lName): return \"_\".join([fName, mName, lName])\n",
        ""
      ],
      "metadata": {
        "id": "k0578AnMksa4"
      },
      "execution_count": null,
      "outputs": []
    },
    {
      "cell_type": "code",
      "source": [
        "getFullName(fName = \"Mahmoud\", mName = \"Haroun\", lName = \"Hamouri\")"
      ],
      "metadata": {
        "id": "s2wz3l61f5ON"
      },
      "execution_count": null,
      "outputs": []
    },
    {
      "cell_type": "code",
      "source": [
        "def addPythonToList(l) :\n",
        "  l.append(\"PYTHON\")\n",
        "  print(l)"
      ],
      "metadata": {
        "id": "wLb55tWwik3V"
      },
      "execution_count": null,
      "outputs": []
    },
    {
      "cell_type": "code",
      "source": [
        "programmingLanguages = [\"Java\", \"C++\", \"Ruby\", \"Php\"]"
      ],
      "metadata": {
        "id": "LLOvm-KpjaM3"
      },
      "execution_count": null,
      "outputs": []
    },
    {
      "cell_type": "code",
      "source": [
        "print(programmingLanguages)\n",
        "addPythonToList(l=programmingLanguages) # Call by reference\n",
        "print(programmingLanguages)"
      ],
      "metadata": {
        "id": "MAYPjMvdjq9U"
      },
      "execution_count": null,
      "outputs": []
    },
    {
      "cell_type": "code",
      "source": [
        "del programmingLanguages[-1]"
      ],
      "metadata": {
        "id": "siwRKRDokHG0"
      },
      "execution_count": null,
      "outputs": []
    },
    {
      "cell_type": "code",
      "source": [
        "programmingLanguages"
      ],
      "metadata": {
        "id": "KA7YfPlTpqLE"
      },
      "execution_count": null,
      "outputs": []
    },
    {
      "cell_type": "code",
      "source": [
        "print(programmingLanguages)\n",
        "addPythonToList(l=programmingLanguages.copy()) # Call by value\n",
        "print(programmingLanguages)"
      ],
      "metadata": {
        "id": "sFNnvgNdkAA-"
      },
      "execution_count": null,
      "outputs": []
    },
    {
      "cell_type": "code",
      "source": [
        "# What did you notice ????"
      ],
      "metadata": {
        "id": "2JPkTqamkJU6"
      },
      "execution_count": null,
      "outputs": []
    },
    {
      "cell_type": "code",
      "source": [
        "# Create function where arguments with default value\n",
        "def powNum(num, p=2):\n",
        "  val= num\n",
        "  while p !=1:\n",
        "    val *= num\n",
        "    p -= 1\n",
        "\n",
        "  return val"
      ],
      "metadata": {
        "id": "c3eqEi5-kT4g"
      },
      "execution_count": null,
      "outputs": []
    },
    {
      "cell_type": "code",
      "source": [
        "print(powNum(num=4))"
      ],
      "metadata": {
        "id": "OA1AYOlXrGZr"
      },
      "execution_count": null,
      "outputs": []
    },
    {
      "cell_type": "code",
      "source": [
        "print(powNum(4, 4))"
      ],
      "metadata": {
        "id": "FBhsj4uWkT1N"
      },
      "execution_count": null,
      "outputs": []
    },
    {
      "cell_type": "code",
      "source": [
        "print(powNum(num=4, p=4))"
      ],
      "metadata": {
        "id": "H0RIN07-SrMy"
      },
      "execution_count": null,
      "outputs": []
    },
    {
      "cell_type": "code",
      "source": [
        "# Crate function with variable-length argument\n",
        "def getAverage(*values):\n",
        "  sum = 0\n",
        "  count = 0\n",
        "  for v in values:\n",
        "    sum+=v\n",
        "    count+=1\n",
        "\n",
        "  return sum/count\n"
      ],
      "metadata": {
        "id": "kG-bMm6EmtIk"
      },
      "execution_count": null,
      "outputs": []
    },
    {
      "cell_type": "code",
      "source": [
        "print(getAverage(2,3,4,5,6,7))"
      ],
      "metadata": {
        "id": "Y6k_4Ofnnx4A"
      },
      "execution_count": null,
      "outputs": []
    },
    {
      "cell_type": "code",
      "source": [
        "print(getAverage(2,3,4,5,6,7, 8,9,10,11))"
      ],
      "metadata": {
        "id": "ITKq5sRvUcSZ"
      },
      "execution_count": null,
      "outputs": []
    },
    {
      "cell_type": "code",
      "source": [
        "# Lambda (Anonymous Function)\n",
        "\n",
        "lFun = lambda n1, n2 : n1+n2"
      ],
      "metadata": {
        "id": "Tu7nqVtInzac"
      },
      "execution_count": null,
      "outputs": []
    },
    {
      "cell_type": "code",
      "source": [
        "lFun(3,4)"
      ],
      "metadata": {
        "id": "VVT0zq6momAD"
      },
      "execution_count": null,
      "outputs": []
    },
    {
      "cell_type": "code",
      "source": [],
      "metadata": {
        "id": "uSyUWQzP80fH"
      },
      "execution_count": null,
      "outputs": []
    },
    {
      "cell_type": "code",
      "source": [
        "# Nested function\n",
        "def outerFun():\n",
        "\n",
        "  def innerFun():\n",
        "    return \"inner function\"\n",
        "\n",
        "  return innerFun()\n"
      ],
      "metadata": {
        "id": "eGJaiXzWoqpu"
      },
      "execution_count": null,
      "outputs": []
    },
    {
      "cell_type": "code",
      "source": [
        "outerFun()"
      ],
      "metadata": {
        "id": "_e9JSbwc8VJm"
      },
      "execution_count": null,
      "outputs": []
    },
    {
      "cell_type": "code",
      "source": [
        "def num1(x):\n",
        "   def num2(y):\n",
        "      return x * y\n",
        "   return num2"
      ],
      "metadata": {
        "id": "sHqsLLcCTzLi"
      },
      "execution_count": null,
      "outputs": []
    },
    {
      "cell_type": "code",
      "source": [
        "res = num1(10)"
      ],
      "metadata": {
        "id": "WWGoEuqe96wP"
      },
      "execution_count": null,
      "outputs": []
    },
    {
      "cell_type": "code",
      "source": [
        "res(6)"
      ],
      "metadata": {
        "id": "xGyDBY5S-AQz"
      },
      "execution_count": null,
      "outputs": []
    },
    {
      "cell_type": "code",
      "source": [
        "def operationals(x):\n",
        "    def sum(y):\n",
        "      return x+y\n",
        "    def mul(y):\n",
        "       return x*y\n",
        "    return sum , mul\n",
        "\n",
        "s, res=operationals(12)\n"
      ],
      "metadata": {
        "id": "bHb_dNycU4uJ"
      },
      "execution_count": null,
      "outputs": []
    },
    {
      "cell_type": "code",
      "source": [
        "print(s(12),res(3))"
      ],
      "metadata": {
        "id": "6cRQVusXVUTe"
      },
      "execution_count": null,
      "outputs": []
    },
    {
      "cell_type": "code",
      "source": [],
      "metadata": {
        "id": "Ur08UeAu-hed"
      },
      "execution_count": null,
      "outputs": []
    }
  ],
  "metadata": {
    "colab": {
      "provenance": [],
      "collapsed_sections": [
        "TML49MAghvbr",
        "A1EkQLIPiaeK",
        "S3Kk4rEMs8fR",
        "EDfjLiMRZtiQ",
        "Lc9GU0yr2cG7",
        "4PZY1kWNJfhr",
        "Ull0ku1eRdJf",
        "ftX2JUpCKjCf",
        "wC9NujObcFk3"
      ]
    },
    "kernelspec": {
      "display_name": "Python 3",
      "name": "python3"
    },
    "language_info": {
      "name": "python"
    }
  },
  "nbformat": 4,
  "nbformat_minor": 0
}